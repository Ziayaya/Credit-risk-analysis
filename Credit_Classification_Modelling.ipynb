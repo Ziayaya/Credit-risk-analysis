{
  "cells": [
    {
      "cell_type": "code",
      "execution_count": null,
      "id": "23ddc25e",
      "metadata": {
        "id": "23ddc25e"
      },
      "outputs": [],
      "source": [
        "# Safira Nur Fauziah\n",
        "# Universitas Dian Nuswantoro"
      ]
    },
    {
      "cell_type": "code",
      "source": [
        "from google.colab import drive\n",
        "drive.mount('/content/drive')"
      ],
      "metadata": {
        "colab": {
          "base_uri": "https://localhost:8080/"
        },
        "id": "roPalm3hQiK6",
        "outputId": "2924a289-4424-439b-b0ad-97707887e912"
      },
      "id": "roPalm3hQiK6",
      "execution_count": null,
      "outputs": [
        {
          "output_type": "stream",
          "name": "stdout",
          "text": [
            "Mounted at /content/drive\n"
          ]
        }
      ]
    },
    {
      "cell_type": "code",
      "execution_count": null,
      "id": "06ddd38a",
      "metadata": {
        "id": "06ddd38a"
      },
      "outputs": [],
      "source": [
        "import pandas as pd\n",
        "import seaborn as sns\n",
        "import numpy as np\n",
        "import matplotlib.pyplot as plt\n",
        "\n",
        "import pandas.core.algorithms as algos\n",
        "from pandas import Series\n",
        "import scipy.stats.stats as stats\n",
        "import re\n",
        "import traceback\n",
        "import string\n",
        "\n",
        "from sklearn.preprocessing import OneHotEncoder\n",
        "from sklearn.model_selection import train_test_split\n",
        "\n",
        "# Normalize data\n",
        "from sklearn.preprocessing import StandardScaler\n",
        "from sklearn.preprocessing import RobustScaler\n",
        "\n",
        "# Balancing data\n",
        "from imblearn.over_sampling import SMOTE\n",
        "\n",
        "# XGBoost dan Naive Bayes\n",
        "from xgboost import XGBClassifier\n",
        "from sklearn.naive_bayes import GaussianNB\n",
        "\n",
        "from sklearn.metrics import classification_report\n",
        "# import shap\n",
        "\n",
        "from sklearn.metrics import accuracy_score\n",
        "from sklearn.metrics import precision_score\n",
        "from sklearn.metrics import recall_score\n",
        "from sklearn.metrics import confusion_matrix\n",
        "from sklearn.pipeline import Pipeline"
      ]
    },
    {
      "cell_type": "markdown",
      "id": "e1488372",
      "metadata": {
        "id": "e1488372"
      },
      "source": [
        "# Metrics "
      ]
    },
    {
      "cell_type": "markdown",
      "id": "98a0197b",
      "metadata": {
        "id": "98a0197b"
      },
      "source": [
        "build a classifier model to help Bank Talenta Rakyat to gauge their customers efficiently and effectively also optimize the process of screening customer profiles that apply for credit that indicate the chances of borrowers defaulting (cannot repay their loan in more than 59 days)"
      ]
    },
    {
      "cell_type": "markdown",
      "source": [
        "# Import Data"
      ],
      "metadata": {
        "id": "MghMAP8U8kJV"
      },
      "id": "MghMAP8U8kJV"
    },
    {
      "cell_type": "code",
      "source": [
        "data = pd.read_csv(\"/content/drive/MyDrive/Celerates/Project Akhir/df_ml.csv\")\n",
        "\n",
        "data.head()"
      ],
      "metadata": {
        "colab": {
          "base_uri": "https://localhost:8080/",
          "height": 357
        },
        "id": "UO1GWqFt7hHL",
        "outputId": "35ce2154-7fd0-4948-f9f2-4aafbf051f77"
      },
      "id": "UO1GWqFt7hHL",
      "execution_count": null,
      "outputs": [
        {
          "output_type": "execute_result",
          "data": {
            "text/plain": [
              "   Id_customer         JK KepemilikanMobil KepemilikanProperti  JmlAnak  \\\n",
              "0      5008806  Laki-laki               Ya                  Ya        0   \n",
              "1      5008815  Laki-laki               Ya                  Ya        0   \n",
              "2      5112956  Laki-laki               Ya                  Ya        0   \n",
              "3      5008819  Laki-laki               Ya                  Ya        0   \n",
              "4      5008820  Laki-laki               Ya                  Ya        0   \n",
              "\n",
              "  Pendapatan      TipePendapatan TingkatPendidikan StatusKeluarga TipeRumah  \\\n",
              "0     112500             Bekerja                 G              M        MH   \n",
              "1     270000             Bekerja                PG              M        MH   \n",
              "2     270000             Bekerja                PG              M        MH   \n",
              "3     135000  Asosiasi komersial                 G              M        MH   \n",
              "4     135000  Asosiasi komersial                 G              M        MH   \n",
              "\n",
              "   FlagMobile  FlagWorkPhone  FlagPhone  Email       Pekerjaan  \\\n",
              "0           1              0          0      0  Security staff   \n",
              "1           1              1          1      1     Accountants   \n",
              "2           1              1          1      1     Accountants   \n",
              "3           1              0          0      0        Laborers   \n",
              "4           1              0          0      0        Laborers   \n",
              "\n",
              "   JmlAnggotaKeluarga  Age  Experience  Overdue  \n",
              "0                   2   59           3        0  \n",
              "1                   2   46           2        0  \n",
              "2                   2   46           2        0  \n",
              "3                   2   49           3        0  \n",
              "4                   2   49           3        0  "
            ],
            "text/html": [
              "\n",
              "  <div id=\"df-414ad5c2-e0d3-46f2-83ca-9cddf7bb232e\">\n",
              "    <div class=\"colab-df-container\">\n",
              "      <div>\n",
              "<style scoped>\n",
              "    .dataframe tbody tr th:only-of-type {\n",
              "        vertical-align: middle;\n",
              "    }\n",
              "\n",
              "    .dataframe tbody tr th {\n",
              "        vertical-align: top;\n",
              "    }\n",
              "\n",
              "    .dataframe thead th {\n",
              "        text-align: right;\n",
              "    }\n",
              "</style>\n",
              "<table border=\"1\" class=\"dataframe\">\n",
              "  <thead>\n",
              "    <tr style=\"text-align: right;\">\n",
              "      <th></th>\n",
              "      <th>Id_customer</th>\n",
              "      <th>JK</th>\n",
              "      <th>KepemilikanMobil</th>\n",
              "      <th>KepemilikanProperti</th>\n",
              "      <th>JmlAnak</th>\n",
              "      <th>Pendapatan</th>\n",
              "      <th>TipePendapatan</th>\n",
              "      <th>TingkatPendidikan</th>\n",
              "      <th>StatusKeluarga</th>\n",
              "      <th>TipeRumah</th>\n",
              "      <th>FlagMobile</th>\n",
              "      <th>FlagWorkPhone</th>\n",
              "      <th>FlagPhone</th>\n",
              "      <th>Email</th>\n",
              "      <th>Pekerjaan</th>\n",
              "      <th>JmlAnggotaKeluarga</th>\n",
              "      <th>Age</th>\n",
              "      <th>Experience</th>\n",
              "      <th>Overdue</th>\n",
              "    </tr>\n",
              "  </thead>\n",
              "  <tbody>\n",
              "    <tr>\n",
              "      <th>0</th>\n",
              "      <td>5008806</td>\n",
              "      <td>Laki-laki</td>\n",
              "      <td>Ya</td>\n",
              "      <td>Ya</td>\n",
              "      <td>0</td>\n",
              "      <td>112500</td>\n",
              "      <td>Bekerja</td>\n",
              "      <td>G</td>\n",
              "      <td>M</td>\n",
              "      <td>MH</td>\n",
              "      <td>1</td>\n",
              "      <td>0</td>\n",
              "      <td>0</td>\n",
              "      <td>0</td>\n",
              "      <td>Security staff</td>\n",
              "      <td>2</td>\n",
              "      <td>59</td>\n",
              "      <td>3</td>\n",
              "      <td>0</td>\n",
              "    </tr>\n",
              "    <tr>\n",
              "      <th>1</th>\n",
              "      <td>5008815</td>\n",
              "      <td>Laki-laki</td>\n",
              "      <td>Ya</td>\n",
              "      <td>Ya</td>\n",
              "      <td>0</td>\n",
              "      <td>270000</td>\n",
              "      <td>Bekerja</td>\n",
              "      <td>PG</td>\n",
              "      <td>M</td>\n",
              "      <td>MH</td>\n",
              "      <td>1</td>\n",
              "      <td>1</td>\n",
              "      <td>1</td>\n",
              "      <td>1</td>\n",
              "      <td>Accountants</td>\n",
              "      <td>2</td>\n",
              "      <td>46</td>\n",
              "      <td>2</td>\n",
              "      <td>0</td>\n",
              "    </tr>\n",
              "    <tr>\n",
              "      <th>2</th>\n",
              "      <td>5112956</td>\n",
              "      <td>Laki-laki</td>\n",
              "      <td>Ya</td>\n",
              "      <td>Ya</td>\n",
              "      <td>0</td>\n",
              "      <td>270000</td>\n",
              "      <td>Bekerja</td>\n",
              "      <td>PG</td>\n",
              "      <td>M</td>\n",
              "      <td>MH</td>\n",
              "      <td>1</td>\n",
              "      <td>1</td>\n",
              "      <td>1</td>\n",
              "      <td>1</td>\n",
              "      <td>Accountants</td>\n",
              "      <td>2</td>\n",
              "      <td>46</td>\n",
              "      <td>2</td>\n",
              "      <td>0</td>\n",
              "    </tr>\n",
              "    <tr>\n",
              "      <th>3</th>\n",
              "      <td>5008819</td>\n",
              "      <td>Laki-laki</td>\n",
              "      <td>Ya</td>\n",
              "      <td>Ya</td>\n",
              "      <td>0</td>\n",
              "      <td>135000</td>\n",
              "      <td>Asosiasi komersial</td>\n",
              "      <td>G</td>\n",
              "      <td>M</td>\n",
              "      <td>MH</td>\n",
              "      <td>1</td>\n",
              "      <td>0</td>\n",
              "      <td>0</td>\n",
              "      <td>0</td>\n",
              "      <td>Laborers</td>\n",
              "      <td>2</td>\n",
              "      <td>49</td>\n",
              "      <td>3</td>\n",
              "      <td>0</td>\n",
              "    </tr>\n",
              "    <tr>\n",
              "      <th>4</th>\n",
              "      <td>5008820</td>\n",
              "      <td>Laki-laki</td>\n",
              "      <td>Ya</td>\n",
              "      <td>Ya</td>\n",
              "      <td>0</td>\n",
              "      <td>135000</td>\n",
              "      <td>Asosiasi komersial</td>\n",
              "      <td>G</td>\n",
              "      <td>M</td>\n",
              "      <td>MH</td>\n",
              "      <td>1</td>\n",
              "      <td>0</td>\n",
              "      <td>0</td>\n",
              "      <td>0</td>\n",
              "      <td>Laborers</td>\n",
              "      <td>2</td>\n",
              "      <td>49</td>\n",
              "      <td>3</td>\n",
              "      <td>0</td>\n",
              "    </tr>\n",
              "  </tbody>\n",
              "</table>\n",
              "</div>\n",
              "      <button class=\"colab-df-convert\" onclick=\"convertToInteractive('df-414ad5c2-e0d3-46f2-83ca-9cddf7bb232e')\"\n",
              "              title=\"Convert this dataframe to an interactive table.\"\n",
              "              style=\"display:none;\">\n",
              "        \n",
              "  <svg xmlns=\"http://www.w3.org/2000/svg\" height=\"24px\"viewBox=\"0 0 24 24\"\n",
              "       width=\"24px\">\n",
              "    <path d=\"M0 0h24v24H0V0z\" fill=\"none\"/>\n",
              "    <path d=\"M18.56 5.44l.94 2.06.94-2.06 2.06-.94-2.06-.94-.94-2.06-.94 2.06-2.06.94zm-11 1L8.5 8.5l.94-2.06 2.06-.94-2.06-.94L8.5 2.5l-.94 2.06-2.06.94zm10 10l.94 2.06.94-2.06 2.06-.94-2.06-.94-.94-2.06-.94 2.06-2.06.94z\"/><path d=\"M17.41 7.96l-1.37-1.37c-.4-.4-.92-.59-1.43-.59-.52 0-1.04.2-1.43.59L10.3 9.45l-7.72 7.72c-.78.78-.78 2.05 0 2.83L4 21.41c.39.39.9.59 1.41.59.51 0 1.02-.2 1.41-.59l7.78-7.78 2.81-2.81c.8-.78.8-2.07 0-2.86zM5.41 20L4 18.59l7.72-7.72 1.47 1.35L5.41 20z\"/>\n",
              "  </svg>\n",
              "      </button>\n",
              "      \n",
              "  <style>\n",
              "    .colab-df-container {\n",
              "      display:flex;\n",
              "      flex-wrap:wrap;\n",
              "      gap: 12px;\n",
              "    }\n",
              "\n",
              "    .colab-df-convert {\n",
              "      background-color: #E8F0FE;\n",
              "      border: none;\n",
              "      border-radius: 50%;\n",
              "      cursor: pointer;\n",
              "      display: none;\n",
              "      fill: #1967D2;\n",
              "      height: 32px;\n",
              "      padding: 0 0 0 0;\n",
              "      width: 32px;\n",
              "    }\n",
              "\n",
              "    .colab-df-convert:hover {\n",
              "      background-color: #E2EBFA;\n",
              "      box-shadow: 0px 1px 2px rgba(60, 64, 67, 0.3), 0px 1px 3px 1px rgba(60, 64, 67, 0.15);\n",
              "      fill: #174EA6;\n",
              "    }\n",
              "\n",
              "    [theme=dark] .colab-df-convert {\n",
              "      background-color: #3B4455;\n",
              "      fill: #D2E3FC;\n",
              "    }\n",
              "\n",
              "    [theme=dark] .colab-df-convert:hover {\n",
              "      background-color: #434B5C;\n",
              "      box-shadow: 0px 1px 3px 1px rgba(0, 0, 0, 0.15);\n",
              "      filter: drop-shadow(0px 1px 2px rgba(0, 0, 0, 0.3));\n",
              "      fill: #FFFFFF;\n",
              "    }\n",
              "  </style>\n",
              "\n",
              "      <script>\n",
              "        const buttonEl =\n",
              "          document.querySelector('#df-414ad5c2-e0d3-46f2-83ca-9cddf7bb232e button.colab-df-convert');\n",
              "        buttonEl.style.display =\n",
              "          google.colab.kernel.accessAllowed ? 'block' : 'none';\n",
              "\n",
              "        async function convertToInteractive(key) {\n",
              "          const element = document.querySelector('#df-414ad5c2-e0d3-46f2-83ca-9cddf7bb232e');\n",
              "          const dataTable =\n",
              "            await google.colab.kernel.invokeFunction('convertToInteractive',\n",
              "                                                     [key], {});\n",
              "          if (!dataTable) return;\n",
              "\n",
              "          const docLinkHtml = 'Like what you see? Visit the ' +\n",
              "            '<a target=\"_blank\" href=https://colab.research.google.com/notebooks/data_table.ipynb>data table notebook</a>'\n",
              "            + ' to learn more about interactive tables.';\n",
              "          element.innerHTML = '';\n",
              "          dataTable['output_type'] = 'display_data';\n",
              "          await google.colab.output.renderOutput(dataTable, element);\n",
              "          const docLink = document.createElement('div');\n",
              "          docLink.innerHTML = docLinkHtml;\n",
              "          element.appendChild(docLink);\n",
              "        }\n",
              "      </script>\n",
              "    </div>\n",
              "  </div>\n",
              "  "
            ]
          },
          "metadata": {},
          "execution_count": 3
        }
      ]
    },
    {
      "cell_type": "markdown",
      "id": "e7cdb47d",
      "metadata": {
        "id": "e7cdb47d"
      },
      "source": [
        "## Tipe data disamakan"
      ]
    },
    {
      "cell_type": "code",
      "execution_count": null,
      "id": "919eaad7",
      "metadata": {
        "scrolled": true,
        "colab": {
          "base_uri": "https://localhost:8080/"
        },
        "id": "919eaad7",
        "outputId": "48aa35bf-0fb1-4cfc-dbbc-fc1d272bd7d6"
      },
      "outputs": [
        {
          "output_type": "stream",
          "name": "stdout",
          "text": [
            "<class 'pandas.core.frame.DataFrame'>\n",
            "RangeIndex: 24993 entries, 0 to 24992\n",
            "Data columns (total 19 columns):\n",
            " #   Column               Non-Null Count  Dtype \n",
            "---  ------               --------------  ----- \n",
            " 0   Id_customer          24993 non-null  int64 \n",
            " 1   JK                   24993 non-null  object\n",
            " 2   KepemilikanMobil     24993 non-null  object\n",
            " 3   KepemilikanProperti  24993 non-null  object\n",
            " 4   JmlAnak              24993 non-null  int64 \n",
            " 5   Pendapatan           24993 non-null  object\n",
            " 6   TipePendapatan       24993 non-null  object\n",
            " 7   TingkatPendidikan    24993 non-null  object\n",
            " 8   StatusKeluarga       24993 non-null  object\n",
            " 9   TipeRumah            24993 non-null  object\n",
            " 10  FlagMobile           24993 non-null  int64 \n",
            " 11  FlagWorkPhone        24993 non-null  int64 \n",
            " 12  FlagPhone            24993 non-null  int64 \n",
            " 13  Email                24993 non-null  int64 \n",
            " 14  Pekerjaan            24993 non-null  object\n",
            " 15  JmlAnggotaKeluarga   24993 non-null  int64 \n",
            " 16  Age                  24993 non-null  int64 \n",
            " 17  Experience           24993 non-null  int64 \n",
            " 18  Overdue              24993 non-null  int64 \n",
            "dtypes: int64(10), object(9)\n",
            "memory usage: 3.6+ MB\n"
          ]
        }
      ],
      "source": [
        "data.info()"
      ]
    },
    {
      "cell_type": "code",
      "execution_count": null,
      "id": "f191e295",
      "metadata": {
        "id": "f191e295"
      },
      "outputs": [],
      "source": [
        "# Ganti , ke . biar bisa dijadiin tipe float\n",
        "\n",
        "data['Pendapatan'] = data['Pendapatan'].replace(['116653,5'], '116653.5')\n",
        "data['Pendapatan'] = data['Pendapatan'].replace(['184135,5'], '184135.5')\n",
        "data['Pendapatan'] = data['Pendapatan'].replace(['190399,5'], '190399.5')\n",
        "data['Pendapatan'] = data['Pendapatan'].replace(['716323,5'], '716323.5')\n",
        "data['Pendapatan'] = data['Pendapatan'].replace(['170302,5'], '170302.5')\n",
        "data['Pendapatan'] = data['Pendapatan'].replace(['62653,5'], '62653.5')\n",
        "data['Pendapatan'] = data['Pendapatan'].replace(['60376,5'], '60376.5')\n",
        "data['Pendapatan'] = data['Pendapatan'].replace(['134995,5'], '134995.5')\n",
        "data['Pendapatan'] = data['Pendapatan'].replace(['128542,5'], '128542.5')"
      ]
    },
    {
      "cell_type": "code",
      "execution_count": null,
      "id": "a7f281f4",
      "metadata": {
        "id": "a7f281f4"
      },
      "outputs": [],
      "source": [
        "# Ganti pendapatan ke tipe data float/numerik\n",
        "\n",
        "data['Pendapatan'] = data['Pendapatan'].astype(float)"
      ]
    },
    {
      "cell_type": "code",
      "execution_count": null,
      "id": "50ae751d",
      "metadata": {
        "colab": {
          "base_uri": "https://localhost:8080/"
        },
        "id": "50ae751d",
        "outputId": "e4ef31c6-6566-4807-c72b-519653512c1f"
      },
      "outputs": [
        {
          "output_type": "stream",
          "name": "stdout",
          "text": [
            "<class 'pandas.core.frame.DataFrame'>\n",
            "RangeIndex: 24993 entries, 0 to 24992\n",
            "Data columns (total 19 columns):\n",
            " #   Column               Non-Null Count  Dtype  \n",
            "---  ------               --------------  -----  \n",
            " 0   Id_customer          24993 non-null  int64  \n",
            " 1   JK                   24993 non-null  object \n",
            " 2   KepemilikanMobil     24993 non-null  object \n",
            " 3   KepemilikanProperti  24993 non-null  object \n",
            " 4   JmlAnak              24993 non-null  int64  \n",
            " 5   Pendapatan           24993 non-null  float64\n",
            " 6   TipePendapatan       24993 non-null  object \n",
            " 7   TingkatPendidikan    24993 non-null  object \n",
            " 8   StatusKeluarga       24993 non-null  object \n",
            " 9   TipeRumah            24993 non-null  object \n",
            " 10  FlagMobile           24993 non-null  int64  \n",
            " 11  FlagWorkPhone        24993 non-null  int64  \n",
            " 12  FlagPhone            24993 non-null  int64  \n",
            " 13  Email                24993 non-null  int64  \n",
            " 14  Pekerjaan            24993 non-null  object \n",
            " 15  JmlAnggotaKeluarga   24993 non-null  int64  \n",
            " 16  Age                  24993 non-null  int64  \n",
            " 17  Experience           24993 non-null  int64  \n",
            " 18  Overdue              24993 non-null  int64  \n",
            "dtypes: float64(1), int64(10), object(8)\n",
            "memory usage: 3.6+ MB\n"
          ]
        }
      ],
      "source": [
        "data.info()"
      ]
    },
    {
      "cell_type": "code",
      "execution_count": null,
      "id": "4562241f",
      "metadata": {
        "colab": {
          "base_uri": "https://localhost:8080/"
        },
        "id": "4562241f",
        "outputId": "ac0bd9b7-b7b2-4305-8653-afc663eddfae"
      },
      "outputs": [
        {
          "output_type": "execute_result",
          "data": {
            "text/plain": [
              "['JK',\n",
              " 'KepemilikanMobil',\n",
              " 'KepemilikanProperti',\n",
              " 'TipePendapatan',\n",
              " 'TingkatPendidikan',\n",
              " 'StatusKeluarga',\n",
              " 'TipeRumah',\n",
              " 'Pekerjaan']"
            ]
          },
          "metadata": {},
          "execution_count": 8
        }
      ],
      "source": [
        "columns = data.select_dtypes('object').columns.to_list()\n",
        "\n",
        "columns"
      ]
    },
    {
      "cell_type": "code",
      "execution_count": null,
      "id": "da3fd4dd",
      "metadata": {
        "id": "da3fd4dd"
      },
      "outputs": [],
      "source": [
        "# Ganti kolom overdue ke kategori dan variable columns\n",
        "data['Overdue'] = data['Overdue'].astype('category')\n",
        "\n",
        "data[columns] = data[columns].astype('category')"
      ]
    },
    {
      "cell_type": "code",
      "execution_count": null,
      "id": "381b7f1e",
      "metadata": {
        "colab": {
          "base_uri": "https://localhost:8080/"
        },
        "id": "381b7f1e",
        "outputId": "65c4b0f4-ed86-4bb0-8cb0-b6eb908684dd"
      },
      "outputs": [
        {
          "output_type": "execute_result",
          "data": {
            "text/plain": [
              "Index(['Id_customer', 'JK', 'KepemilikanMobil', 'KepemilikanProperti',\n",
              "       'JmlAnak', 'Pendapatan', 'TipePendapatan', 'TingkatPendidikan',\n",
              "       'StatusKeluarga', 'TipeRumah', 'FlagMobile', 'FlagWorkPhone',\n",
              "       'FlagPhone', 'Email', 'Pekerjaan', 'JmlAnggotaKeluarga', 'Age',\n",
              "       'Experience', 'Overdue'],\n",
              "      dtype='object')"
            ]
          },
          "metadata": {},
          "execution_count": 10
        }
      ],
      "source": [
        "data.columns"
      ]
    },
    {
      "cell_type": "markdown",
      "id": "64f0ff1f",
      "metadata": {
        "id": "64f0ff1f"
      },
      "source": [
        "### Drop Tabel "
      ]
    },
    {
      "cell_type": "code",
      "execution_count": null,
      "id": "98b364a0",
      "metadata": {
        "scrolled": true,
        "colab": {
          "base_uri": "https://localhost:8080/",
          "height": 357
        },
        "id": "98b364a0",
        "outputId": "527a8b2c-30c8-4b42-bb4b-271a718ca28a"
      },
      "outputs": [
        {
          "output_type": "execute_result",
          "data": {
            "text/plain": [
              "   Id_customer         JK KepemilikanMobil KepemilikanProperti  JmlAnak  \\\n",
              "0      5008806  Laki-laki               Ya                  Ya        0   \n",
              "1      5008815  Laki-laki               Ya                  Ya        0   \n",
              "2      5112956  Laki-laki               Ya                  Ya        0   \n",
              "3      5008819  Laki-laki               Ya                  Ya        0   \n",
              "4      5008820  Laki-laki               Ya                  Ya        0   \n",
              "\n",
              "   Pendapatan      TipePendapatan TingkatPendidikan StatusKeluarga TipeRumah  \\\n",
              "0    112500.0             Bekerja                 G              M        MH   \n",
              "1    270000.0             Bekerja                PG              M        MH   \n",
              "2    270000.0             Bekerja                PG              M        MH   \n",
              "3    135000.0  Asosiasi komersial                 G              M        MH   \n",
              "4    135000.0  Asosiasi komersial                 G              M        MH   \n",
              "\n",
              "   FlagWorkPhone  FlagPhone  Email       Pekerjaan  JmlAnggotaKeluarga  Age  \\\n",
              "0              0          0      0  Security staff                   2   59   \n",
              "1              1          1      1     Accountants                   2   46   \n",
              "2              1          1      1     Accountants                   2   46   \n",
              "3              0          0      0        Laborers                   2   49   \n",
              "4              0          0      0        Laborers                   2   49   \n",
              "\n",
              "   Experience Overdue  \n",
              "0           3       0  \n",
              "1           2       0  \n",
              "2           2       0  \n",
              "3           3       0  \n",
              "4           3       0  "
            ],
            "text/html": [
              "\n",
              "  <div id=\"df-ea20c50b-9a48-4065-bb8b-f21731228d19\">\n",
              "    <div class=\"colab-df-container\">\n",
              "      <div>\n",
              "<style scoped>\n",
              "    .dataframe tbody tr th:only-of-type {\n",
              "        vertical-align: middle;\n",
              "    }\n",
              "\n",
              "    .dataframe tbody tr th {\n",
              "        vertical-align: top;\n",
              "    }\n",
              "\n",
              "    .dataframe thead th {\n",
              "        text-align: right;\n",
              "    }\n",
              "</style>\n",
              "<table border=\"1\" class=\"dataframe\">\n",
              "  <thead>\n",
              "    <tr style=\"text-align: right;\">\n",
              "      <th></th>\n",
              "      <th>Id_customer</th>\n",
              "      <th>JK</th>\n",
              "      <th>KepemilikanMobil</th>\n",
              "      <th>KepemilikanProperti</th>\n",
              "      <th>JmlAnak</th>\n",
              "      <th>Pendapatan</th>\n",
              "      <th>TipePendapatan</th>\n",
              "      <th>TingkatPendidikan</th>\n",
              "      <th>StatusKeluarga</th>\n",
              "      <th>TipeRumah</th>\n",
              "      <th>FlagWorkPhone</th>\n",
              "      <th>FlagPhone</th>\n",
              "      <th>Email</th>\n",
              "      <th>Pekerjaan</th>\n",
              "      <th>JmlAnggotaKeluarga</th>\n",
              "      <th>Age</th>\n",
              "      <th>Experience</th>\n",
              "      <th>Overdue</th>\n",
              "    </tr>\n",
              "  </thead>\n",
              "  <tbody>\n",
              "    <tr>\n",
              "      <th>0</th>\n",
              "      <td>5008806</td>\n",
              "      <td>Laki-laki</td>\n",
              "      <td>Ya</td>\n",
              "      <td>Ya</td>\n",
              "      <td>0</td>\n",
              "      <td>112500.0</td>\n",
              "      <td>Bekerja</td>\n",
              "      <td>G</td>\n",
              "      <td>M</td>\n",
              "      <td>MH</td>\n",
              "      <td>0</td>\n",
              "      <td>0</td>\n",
              "      <td>0</td>\n",
              "      <td>Security staff</td>\n",
              "      <td>2</td>\n",
              "      <td>59</td>\n",
              "      <td>3</td>\n",
              "      <td>0</td>\n",
              "    </tr>\n",
              "    <tr>\n",
              "      <th>1</th>\n",
              "      <td>5008815</td>\n",
              "      <td>Laki-laki</td>\n",
              "      <td>Ya</td>\n",
              "      <td>Ya</td>\n",
              "      <td>0</td>\n",
              "      <td>270000.0</td>\n",
              "      <td>Bekerja</td>\n",
              "      <td>PG</td>\n",
              "      <td>M</td>\n",
              "      <td>MH</td>\n",
              "      <td>1</td>\n",
              "      <td>1</td>\n",
              "      <td>1</td>\n",
              "      <td>Accountants</td>\n",
              "      <td>2</td>\n",
              "      <td>46</td>\n",
              "      <td>2</td>\n",
              "      <td>0</td>\n",
              "    </tr>\n",
              "    <tr>\n",
              "      <th>2</th>\n",
              "      <td>5112956</td>\n",
              "      <td>Laki-laki</td>\n",
              "      <td>Ya</td>\n",
              "      <td>Ya</td>\n",
              "      <td>0</td>\n",
              "      <td>270000.0</td>\n",
              "      <td>Bekerja</td>\n",
              "      <td>PG</td>\n",
              "      <td>M</td>\n",
              "      <td>MH</td>\n",
              "      <td>1</td>\n",
              "      <td>1</td>\n",
              "      <td>1</td>\n",
              "      <td>Accountants</td>\n",
              "      <td>2</td>\n",
              "      <td>46</td>\n",
              "      <td>2</td>\n",
              "      <td>0</td>\n",
              "    </tr>\n",
              "    <tr>\n",
              "      <th>3</th>\n",
              "      <td>5008819</td>\n",
              "      <td>Laki-laki</td>\n",
              "      <td>Ya</td>\n",
              "      <td>Ya</td>\n",
              "      <td>0</td>\n",
              "      <td>135000.0</td>\n",
              "      <td>Asosiasi komersial</td>\n",
              "      <td>G</td>\n",
              "      <td>M</td>\n",
              "      <td>MH</td>\n",
              "      <td>0</td>\n",
              "      <td>0</td>\n",
              "      <td>0</td>\n",
              "      <td>Laborers</td>\n",
              "      <td>2</td>\n",
              "      <td>49</td>\n",
              "      <td>3</td>\n",
              "      <td>0</td>\n",
              "    </tr>\n",
              "    <tr>\n",
              "      <th>4</th>\n",
              "      <td>5008820</td>\n",
              "      <td>Laki-laki</td>\n",
              "      <td>Ya</td>\n",
              "      <td>Ya</td>\n",
              "      <td>0</td>\n",
              "      <td>135000.0</td>\n",
              "      <td>Asosiasi komersial</td>\n",
              "      <td>G</td>\n",
              "      <td>M</td>\n",
              "      <td>MH</td>\n",
              "      <td>0</td>\n",
              "      <td>0</td>\n",
              "      <td>0</td>\n",
              "      <td>Laborers</td>\n",
              "      <td>2</td>\n",
              "      <td>49</td>\n",
              "      <td>3</td>\n",
              "      <td>0</td>\n",
              "    </tr>\n",
              "  </tbody>\n",
              "</table>\n",
              "</div>\n",
              "      <button class=\"colab-df-convert\" onclick=\"convertToInteractive('df-ea20c50b-9a48-4065-bb8b-f21731228d19')\"\n",
              "              title=\"Convert this dataframe to an interactive table.\"\n",
              "              style=\"display:none;\">\n",
              "        \n",
              "  <svg xmlns=\"http://www.w3.org/2000/svg\" height=\"24px\"viewBox=\"0 0 24 24\"\n",
              "       width=\"24px\">\n",
              "    <path d=\"M0 0h24v24H0V0z\" fill=\"none\"/>\n",
              "    <path d=\"M18.56 5.44l.94 2.06.94-2.06 2.06-.94-2.06-.94-.94-2.06-.94 2.06-2.06.94zm-11 1L8.5 8.5l.94-2.06 2.06-.94-2.06-.94L8.5 2.5l-.94 2.06-2.06.94zm10 10l.94 2.06.94-2.06 2.06-.94-2.06-.94-.94-2.06-.94 2.06-2.06.94z\"/><path d=\"M17.41 7.96l-1.37-1.37c-.4-.4-.92-.59-1.43-.59-.52 0-1.04.2-1.43.59L10.3 9.45l-7.72 7.72c-.78.78-.78 2.05 0 2.83L4 21.41c.39.39.9.59 1.41.59.51 0 1.02-.2 1.41-.59l7.78-7.78 2.81-2.81c.8-.78.8-2.07 0-2.86zM5.41 20L4 18.59l7.72-7.72 1.47 1.35L5.41 20z\"/>\n",
              "  </svg>\n",
              "      </button>\n",
              "      \n",
              "  <style>\n",
              "    .colab-df-container {\n",
              "      display:flex;\n",
              "      flex-wrap:wrap;\n",
              "      gap: 12px;\n",
              "    }\n",
              "\n",
              "    .colab-df-convert {\n",
              "      background-color: #E8F0FE;\n",
              "      border: none;\n",
              "      border-radius: 50%;\n",
              "      cursor: pointer;\n",
              "      display: none;\n",
              "      fill: #1967D2;\n",
              "      height: 32px;\n",
              "      padding: 0 0 0 0;\n",
              "      width: 32px;\n",
              "    }\n",
              "\n",
              "    .colab-df-convert:hover {\n",
              "      background-color: #E2EBFA;\n",
              "      box-shadow: 0px 1px 2px rgba(60, 64, 67, 0.3), 0px 1px 3px 1px rgba(60, 64, 67, 0.15);\n",
              "      fill: #174EA6;\n",
              "    }\n",
              "\n",
              "    [theme=dark] .colab-df-convert {\n",
              "      background-color: #3B4455;\n",
              "      fill: #D2E3FC;\n",
              "    }\n",
              "\n",
              "    [theme=dark] .colab-df-convert:hover {\n",
              "      background-color: #434B5C;\n",
              "      box-shadow: 0px 1px 3px 1px rgba(0, 0, 0, 0.15);\n",
              "      filter: drop-shadow(0px 1px 2px rgba(0, 0, 0, 0.3));\n",
              "      fill: #FFFFFF;\n",
              "    }\n",
              "  </style>\n",
              "\n",
              "      <script>\n",
              "        const buttonEl =\n",
              "          document.querySelector('#df-ea20c50b-9a48-4065-bb8b-f21731228d19 button.colab-df-convert');\n",
              "        buttonEl.style.display =\n",
              "          google.colab.kernel.accessAllowed ? 'block' : 'none';\n",
              "\n",
              "        async function convertToInteractive(key) {\n",
              "          const element = document.querySelector('#df-ea20c50b-9a48-4065-bb8b-f21731228d19');\n",
              "          const dataTable =\n",
              "            await google.colab.kernel.invokeFunction('convertToInteractive',\n",
              "                                                     [key], {});\n",
              "          if (!dataTable) return;\n",
              "\n",
              "          const docLinkHtml = 'Like what you see? Visit the ' +\n",
              "            '<a target=\"_blank\" href=https://colab.research.google.com/notebooks/data_table.ipynb>data table notebook</a>'\n",
              "            + ' to learn more about interactive tables.';\n",
              "          element.innerHTML = '';\n",
              "          dataTable['output_type'] = 'display_data';\n",
              "          await google.colab.output.renderOutput(dataTable, element);\n",
              "          const docLink = document.createElement('div');\n",
              "          docLink.innerHTML = docLinkHtml;\n",
              "          element.appendChild(docLink);\n",
              "        }\n",
              "      </script>\n",
              "    </div>\n",
              "  </div>\n",
              "  "
            ]
          },
          "metadata": {},
          "execution_count": 11
        }
      ],
      "source": [
        "# Drop tabel yg tidak diperlukan ((FlagMobile karena valuenya hanya 1))\n",
        "\n",
        "data = data.drop(['FlagMobile'], axis=1)\n",
        "\n",
        "data.head()\n",
        "\n",
        "# Tabel selection bisa lewat WOE sama iv"
      ]
    },
    {
      "cell_type": "code",
      "execution_count": null,
      "id": "79dc59fc",
      "metadata": {
        "colab": {
          "base_uri": "https://localhost:8080/",
          "height": 813
        },
        "id": "79dc59fc",
        "outputId": "76f1cb39-a68c-4f40-9746-dec45e8a2ef7"
      },
      "outputs": [
        {
          "output_type": "execute_result",
          "data": {
            "text/plain": [
              "<matplotlib.axes._subplots.AxesSubplot at 0x7f47d4191fd0>"
            ]
          },
          "metadata": {},
          "execution_count": 12
        },
        {
          "output_type": "display_data",
          "data": {
            "text/plain": [
              "<Figure size 864x864 with 2 Axes>"
            ],
            "image/png": "[encoded data removed]"
          },
          "metadata": {
            "needs_background": "light"
          }
        }
      ],
      "source": [
        "plt.figure(figsize=(12,12))\n",
        "sns.heatmap(data.corr(), annot=True)"
      ]
    },
    {
      "cell_type": "markdown",
      "id": "a5a94621",
      "metadata": {
        "id": "a5a94621"
      },
      "source": [
        "### Outliers"
      ]
    },
    {
      "cell_type": "code",
      "source": [
        "sns.boxplot(data['JmlAnggotaKeluarga'])"
      ],
      "metadata": {
        "colab": {
          "base_uri": "https://localhost:8080/",
          "height": 351
        },
        "id": "UNF1UoPnryFc",
        "outputId": "a9abba33-8ecb-4a3b-fb06-8f9733b6a720"
      },
      "id": "UNF1UoPnryFc",
      "execution_count": null,
      "outputs": [
        {
          "output_type": "stream",
          "name": "stderr",
          "text": [
            "/usr/local/lib/python3.8/dist-packages/seaborn/_decorators.py:36: FutureWarning: Pass the following variable as a keyword arg: x. From version 0.12, the only valid positional argument will be `data`, and passing other arguments without an explicit keyword will result in an error or misinterpretation.\n",
            "  warnings.warn(\n"
          ]
        },
        {
          "output_type": "execute_result",
          "data": {
            "text/plain": [
              "<matplotlib.axes._subplots.AxesSubplot at 0x7f47d135f310>"
            ]
          },
          "metadata": {},
          "execution_count": 13
        },
        {
          "output_type": "display_data",
          "data": {
            "text/plain": [
              "<Figure size 432x288 with 1 Axes>"
            ],
            "image/png": "[encoded data removed]"
          },
          "metadata": {
            "needs_background": "light"
          }
        }
      ]
    },
    {
      "cell_type": "code",
      "source": [
        "Q1 = data['JmlAnggotaKeluarga'].quantile(0.25)\n",
        "Q3 = data['JmlAnggotaKeluarga'].quantile(0.75)\n",
        "IQR = Q3 - Q1\n",
        "\n",
        "print(Q1)\n",
        "print(Q3)\n",
        "print(IQR)\n",
        "\n",
        "Lower_Whisker = Q1 - 1.5 * IQR\n",
        "Upper_Whisker = Q3 + 1.5 * IQR\n",
        "print(Upper_Whisker, Lower_Whisker)"
      ],
      "metadata": {
        "colab": {
          "base_uri": "https://localhost:8080/"
        },
        "id": "0I21LCg-sWwp",
        "outputId": "269b5366-90ee-4b2e-fc87-926e53ca9263"
      },
      "id": "0I21LCg-sWwp",
      "execution_count": null,
      "outputs": [
        {
          "output_type": "stream",
          "name": "stdout",
          "text": [
            "2.0\n",
            "3.0\n",
            "1.0\n",
            "4.5 0.5\n"
          ]
        }
      ]
    },
    {
      "cell_type": "code",
      "source": [
        "data = data[data['JmlAnggotaKeluarga'] < Upper_Whisker]"
      ],
      "metadata": {
        "id": "7eV0vW-ose5J"
      },
      "id": "7eV0vW-ose5J",
      "execution_count": null,
      "outputs": []
    },
    {
      "cell_type": "code",
      "source": [
        "sns.boxplot(data['JmlAnggotaKeluarga'])"
      ],
      "metadata": {
        "colab": {
          "base_uri": "https://localhost:8080/",
          "height": 351
        },
        "id": "wERMPa9Rss2A",
        "outputId": "7e3c7c21-130e-42fd-a98b-6db7178a2679"
      },
      "id": "wERMPa9Rss2A",
      "execution_count": null,
      "outputs": [
        {
          "output_type": "stream",
          "name": "stderr",
          "text": [
            "/usr/local/lib/python3.8/dist-packages/seaborn/_decorators.py:36: FutureWarning: Pass the following variable as a keyword arg: x. From version 0.12, the only valid positional argument will be `data`, and passing other arguments without an explicit keyword will result in an error or misinterpretation.\n",
            "  warnings.warn(\n"
          ]
        },
        {
          "output_type": "execute_result",
          "data": {
            "text/plain": [
              "<matplotlib.axes._subplots.AxesSubplot at 0x7f47cfac8580>"
            ]
          },
          "metadata": {},
          "execution_count": 16
        },
        {
          "output_type": "display_data",
          "data": {
            "text/plain": [
              "<Figure size 432x288 with 1 Axes>"
            ],
            "image/png": "[encoded data removed]"
          },
          "metadata": {
            "needs_background": "light"
          }
        }
      ]
    },
    {
      "cell_type": "code",
      "source": [
        "sns.boxplot(data['JmlAnak'])"
      ],
      "metadata": {
        "colab": {
          "base_uri": "https://localhost:8080/",
          "height": 351
        },
        "id": "SYq1GhtJXPbw",
        "outputId": "667e997e-fb63-4515-e200-4169f50efd8a"
      },
      "id": "SYq1GhtJXPbw",
      "execution_count": null,
      "outputs": [
        {
          "output_type": "stream",
          "name": "stderr",
          "text": [
            "/usr/local/lib/python3.8/dist-packages/seaborn/_decorators.py:36: FutureWarning: Pass the following variable as a keyword arg: x. From version 0.12, the only valid positional argument will be `data`, and passing other arguments without an explicit keyword will result in an error or misinterpretation.\n",
            "  warnings.warn(\n"
          ]
        },
        {
          "output_type": "execute_result",
          "data": {
            "text/plain": [
              "<matplotlib.axes._subplots.AxesSubplot at 0x7f47cfaab580>"
            ]
          },
          "metadata": {},
          "execution_count": 17
        },
        {
          "output_type": "display_data",
          "data": {
            "text/plain": [
              "<Figure size 432x288 with 1 Axes>"
            ],
            "image/png": "[encoded data removed]"
          },
          "metadata": {
            "needs_background": "light"
          }
        }
      ]
    },
    {
      "cell_type": "code",
      "source": [
        "Q1 = data['JmlAnak'].quantile(0.25)\n",
        "Q3 = data['JmlAnak'].quantile(0.75)\n",
        "IQR = Q3 - Q1\n",
        "\n",
        "print(Q1)\n",
        "print(Q3)\n",
        "print(IQR)\n",
        "\n",
        "Lower_Whisker = Q1 - 1.5 * IQR\n",
        "Upper_Whisker = Q3 + 1.5 * IQR\n",
        "print(Upper_Whisker, Lower_Whisker)"
      ],
      "metadata": {
        "colab": {
          "base_uri": "https://localhost:8080/"
        },
        "id": "9VZyN61mXqIn",
        "outputId": "3db85f84-799a-4a46-da83-afdf0797968d"
      },
      "id": "9VZyN61mXqIn",
      "execution_count": null,
      "outputs": [
        {
          "output_type": "stream",
          "name": "stdout",
          "text": [
            "0.0\n",
            "1.0\n",
            "1.0\n",
            "2.5 -1.5\n"
          ]
        }
      ]
    },
    {
      "cell_type": "code",
      "source": [
        "data = data[data['JmlAnak'] < Upper_Whisker]"
      ],
      "metadata": {
        "id": "Td1A8p9iXzEv"
      },
      "id": "Td1A8p9iXzEv",
      "execution_count": null,
      "outputs": []
    },
    {
      "cell_type": "code",
      "source": [
        "sns.boxplot(data['JmlAnak'])"
      ],
      "metadata": {
        "colab": {
          "base_uri": "https://localhost:8080/",
          "height": 351
        },
        "id": "tE_JSO6kX6Vi",
        "outputId": "50e88fa5-72c4-4df5-bd00-55b0d682641f"
      },
      "id": "tE_JSO6kX6Vi",
      "execution_count": null,
      "outputs": [
        {
          "output_type": "stream",
          "name": "stderr",
          "text": [
            "/usr/local/lib/python3.8/dist-packages/seaborn/_decorators.py:36: FutureWarning: Pass the following variable as a keyword arg: x. From version 0.12, the only valid positional argument will be `data`, and passing other arguments without an explicit keyword will result in an error or misinterpretation.\n",
            "  warnings.warn(\n"
          ]
        },
        {
          "output_type": "execute_result",
          "data": {
            "text/plain": [
              "<matplotlib.axes._subplots.AxesSubplot at 0x7f47cfa09790>"
            ]
          },
          "metadata": {},
          "execution_count": 20
        },
        {
          "output_type": "display_data",
          "data": {
            "text/plain": [
              "<Figure size 432x288 with 1 Axes>"
            ],
            "image/png": "[encoded data removed]"
          },
          "metadata": {
            "needs_background": "light"
          }
        }
      ]
    },
    {
      "cell_type": "code",
      "execution_count": null,
      "id": "f4dced50",
      "metadata": {
        "scrolled": true,
        "colab": {
          "base_uri": "https://localhost:8080/",
          "height": 351
        },
        "id": "f4dced50",
        "outputId": "83e0fbc8-5347-424c-a2b7-5d9db581e6e2"
      },
      "outputs": [
        {
          "output_type": "stream",
          "name": "stderr",
          "text": [
            "/usr/local/lib/python3.8/dist-packages/seaborn/_decorators.py:36: FutureWarning: Pass the following variable as a keyword arg: x. From version 0.12, the only valid positional argument will be `data`, and passing other arguments without an explicit keyword will result in an error or misinterpretation.\n",
            "  warnings.warn(\n"
          ]
        },
        {
          "output_type": "execute_result",
          "data": {
            "text/plain": [
              "<matplotlib.axes._subplots.AxesSubplot at 0x7f47cf9e9790>"
            ]
          },
          "metadata": {},
          "execution_count": 21
        },
        {
          "output_type": "display_data",
          "data": {
            "text/plain": [
              "<Figure size 432x288 with 1 Axes>"
            ],
            "image/png": "[encoded data removed]"
          },
          "metadata": {
            "needs_background": "light"
          }
        }
      ],
      "source": [
        "sns.boxplot(data['Experience'])"
      ]
    },
    {
      "cell_type": "code",
      "execution_count": null,
      "id": "79d0460b",
      "metadata": {
        "colab": {
          "base_uri": "https://localhost:8080/"
        },
        "id": "79d0460b",
        "outputId": "680f2110-f3a6-4e48-8f9a-2b96af58d13c"
      },
      "outputs": [
        {
          "output_type": "stream",
          "name": "stdout",
          "text": [
            "3.0\n",
            "10.0\n",
            "7.0\n",
            "20.5 -7.5\n"
          ]
        }
      ],
      "source": [
        "Q1 = data['Experience'].quantile(0.25)\n",
        "Q3 = data['Experience'].quantile(0.75)\n",
        "IQR = Q3 - Q1\n",
        "\n",
        "print(Q1)\n",
        "print(Q3)\n",
        "print(IQR)\n",
        "\n",
        "Lower_Whisker = Q1 - 1.5 * IQR\n",
        "Upper_Whisker = Q3 + 1.5 * IQR\n",
        "print(Upper_Whisker, Lower_Whisker)"
      ]
    },
    {
      "cell_type": "code",
      "execution_count": null,
      "id": "96279d3c",
      "metadata": {
        "id": "96279d3c"
      },
      "outputs": [],
      "source": [
        "data = data[data['Experience'] < Upper_Whisker]"
      ]
    },
    {
      "cell_type": "code",
      "execution_count": null,
      "id": "b8c8c322",
      "metadata": {
        "colab": {
          "base_uri": "https://localhost:8080/",
          "height": 351
        },
        "id": "b8c8c322",
        "outputId": "81e14a79-49c5-4b02-a0d3-fa8efa467b3d"
      },
      "outputs": [
        {
          "output_type": "stream",
          "name": "stderr",
          "text": [
            "/usr/local/lib/python3.8/dist-packages/seaborn/_decorators.py:36: FutureWarning: Pass the following variable as a keyword arg: x. From version 0.12, the only valid positional argument will be `data`, and passing other arguments without an explicit keyword will result in an error or misinterpretation.\n",
            "  warnings.warn(\n"
          ]
        },
        {
          "output_type": "execute_result",
          "data": {
            "text/plain": [
              "<matplotlib.axes._subplots.AxesSubplot at 0x7f47cf942550>"
            ]
          },
          "metadata": {},
          "execution_count": 24
        },
        {
          "output_type": "display_data",
          "data": {
            "text/plain": [
              "<Figure size 432x288 with 1 Axes>"
            ],
            "image/png": "[encoded data removed]"
          },
          "metadata": {
            "needs_background": "light"
          }
        }
      ],
      "source": [
        "sns.boxplot(data['Experience'])"
      ]
    },
    {
      "cell_type": "markdown",
      "id": "557accd2",
      "metadata": {
        "id": "557accd2"
      },
      "source": [
        "# EDA"
      ]
    },
    {
      "cell_type": "code",
      "source": [
        "fig = plt.figure(figsize=(18,24))\n",
        "\n",
        "column = data.select_dtypes('category').columns.to_list()\n",
        "column_label = column\n",
        "\n",
        "for i in range(1, 9):\n",
        "  plt.subplot(int(f'42{i}'))\n",
        "  sns.countplot(data[column[i-1]], hue=data[\"Overdue\"], hue_order=[0,1])\n",
        "  plt.xlabel(f'{column_label[i-1]}', fontsize=10)\n",
        "  plt.ylabel('Frequency', fontsize=10)\n",
        "  plt.title(f'Churn distribution based on {column_label[i-1]}')\n",
        "  plt.legend(loc='upper right')\n",
        "plt.show()"
      ],
      "metadata": {
        "id": "17DIvj54-Vxa",
        "colab": {
          "base_uri": "https://localhost:8080/"
        },
        "outputId": "88fb7f74-b928-4224-835b-9559218b00af"
      },
      "id": "17DIvj54-Vxa",
      "execution_count": null,
      "outputs": [
        {
          "output_type": "stream",
          "name": "stderr",
          "text": [
            "/usr/local/lib/python3.8/dist-packages/seaborn/_decorators.py:36: FutureWarning: Pass the following variable as a keyword arg: x. From version 0.12, the only valid positional argument will be `data`, and passing other arguments without an explicit keyword will result in an error or misinterpretation.\n",
            "  warnings.warn(\n"
          ]
        },
        {
          "output_type": "display_data",
          "data": {
            "text/plain": [
              "<Figure size 1296x1728 with 8 Axes>"
            ],
            "image/png": "[encoded data removed]"
          },
          "metadata": {
            "needs_background": "light"
          }
        }
      ]
    },
    {
      "cell_type": "markdown",
      "id": "17db1608",
      "metadata": {
        "id": "17db1608"
      },
      "source": [
        "\n",
        "\n",
        "\n",
        "# Feature Selection"
      ]
    },
    {
      "cell_type": "markdown",
      "source": [
        "## Split Data"
      ],
      "metadata": {
        "id": "ZWOtB7Id7weu"
      },
      "id": "ZWOtB7Id7weu"
    },
    {
      "cell_type": "code",
      "source": [
        "data.shape"
      ],
      "metadata": {
        "colab": {
          "base_uri": "https://localhost:8080/"
        },
        "id": "eyt9TC7NAYw6",
        "outputId": "21e968e3-26cf-4090-d6f7-6075acc15d4d"
      },
      "id": "eyt9TC7NAYw6",
      "execution_count": null,
      "outputs": [
        {
          "output_type": "execute_result",
          "data": {
            "text/plain": [
              "(23366, 18)"
            ]
          },
          "metadata": {},
          "execution_count": 26
        }
      ]
    },
    {
      "cell_type": "code",
      "source": [
        "# Bagi training dan test 70 30\n",
        "\n",
        "X = data.drop('Overdue', axis=1)\n",
        "y = data['Overdue']"
      ],
      "metadata": {
        "id": "4_zIsFBwVOv4"
      },
      "id": "4_zIsFBwVOv4",
      "execution_count": null,
      "outputs": []
    },
    {
      "cell_type": "code",
      "source": [
        "X_train, X_test, y_train, y_test = train_test_split(X, y, test_size=0.3, random_state=42, stratify=y)"
      ],
      "metadata": {
        "id": "ftRzIjfBXiqY"
      },
      "id": "ftRzIjfBXiqY",
      "execution_count": null,
      "outputs": []
    },
    {
      "cell_type": "markdown",
      "id": "99a504a7",
      "metadata": {
        "id": "99a504a7"
      },
      "source": [
        "## One Hot Encoding "
      ]
    },
    {
      "cell_type": "code",
      "execution_count": null,
      "id": "c7292479",
      "metadata": {
        "colab": {
          "base_uri": "https://localhost:8080/"
        },
        "id": "c7292479",
        "outputId": "d124ef9f-f4f2-4b59-d7d2-e51f9b2dc334"
      },
      "outputs": [
        {
          "output_type": "execute_result",
          "data": {
            "text/plain": [
              "OneHotEncoder(drop='first', sparse=False)"
            ]
          },
          "metadata": {},
          "execution_count": 30
        }
      ],
      "source": [
        "columns = X.select_dtypes('category').columns\n",
        "encoder = OneHotEncoder(sparse=False)\n",
        "encoder.fit(X_train[columns])"
      ]
    },
    {
      "cell_type": "code",
      "source": [
        "X_train_encoded = pd.DataFrame(encoder.transform(X_train[columns]),\n",
        "                               index=X_train.index,\n",
        "                               columns=encoder.get_feature_names(X_train[columns].columns))\n",
        "\n",
        "X_train_encoded.head()"
      ],
      "metadata": {
        "colab": {
          "base_uri": "https://localhost:8080/"
        },
        "id": "FzE8MT_uE-iw",
        "outputId": "9e82931c-39ae-42fd-8658-3688756481c2"
      },
      "id": "FzE8MT_uE-iw",
      "execution_count": null,
      "outputs": [
        {
          "output_type": "stream",
          "name": "stderr",
          "text": [
            "/usr/local/lib/python3.8/dist-packages/sklearn/utils/deprecation.py:87: FutureWarning: Function get_feature_names is deprecated; get_feature_names is deprecated in 1.0 and will be removed in 1.2. Please use get_feature_names_out instead.\n",
            "  warnings.warn(msg, category=FutureWarning)\n"
          ]
        },
        {
          "output_type": "execute_result",
          "data": {
            "text/plain": [
              "       JK_Perempuan  KepemilikanMobil_Ya  KepemilikanProperti_Ya  \\\n",
              "13551           1.0                  0.0                     0.0   \n",
              "12212           1.0                  1.0                     1.0   \n",
              "18685           1.0                  1.0                     1.0   \n",
              "21503           1.0                  0.0                     1.0   \n",
              "15231           1.0                  0.0                     0.0   \n",
              "\n",
              "       TipePendapatan_Bekerja  TipePendapatan_Mahasiswa/Murid  \\\n",
              "13551                     1.0                             0.0   \n",
              "12212                     0.0                             0.0   \n",
              "18685                     0.0                             0.0   \n",
              "21503                     0.0                             0.0   \n",
              "15231                     0.0                             0.0   \n",
              "\n",
              "       TipePendapatan_PNS  TipePendapatan_Pensioner  TingkatPendidikan_PG  \\\n",
              "13551                 0.0                       0.0                   0.0   \n",
              "12212                 0.0                       0.0                   1.0   \n",
              "18685                 0.0                       0.0                   0.0   \n",
              "21503                 1.0                       0.0                   0.0   \n",
              "15231                 1.0                       0.0                   0.0   \n",
              "\n",
              "       TingkatPendidikan_UG  StatusKeluarga_M  ...  Pekerjaan_Laborers  \\\n",
              "13551                   0.0               1.0  ...                 1.0   \n",
              "12212                   0.0               1.0  ...                 0.0   \n",
              "18685                   0.0               0.0  ...                 0.0   \n",
              "21503                   0.0               1.0  ...                 0.0   \n",
              "15231                   0.0               1.0  ...                 0.0   \n",
              "\n",
              "       Pekerjaan_Low-skill Laborers  Pekerjaan_Managers  \\\n",
              "13551                           0.0                 0.0   \n",
              "12212                           0.0                 0.0   \n",
              "18685                           0.0                 1.0   \n",
              "21503                           0.0                 0.0   \n",
              "15231                           0.0                 0.0   \n",
              "\n",
              "       Pekerjaan_Medicine staff  Pekerjaan_Private service staff  \\\n",
              "13551                       0.0                              0.0   \n",
              "12212                       0.0                              0.0   \n",
              "18685                       0.0                              0.0   \n",
              "21503                       1.0                              0.0   \n",
              "15231                       0.0                              0.0   \n",
              "\n",
              "       Pekerjaan_Realty agents  Pekerjaan_Sales staff  Pekerjaan_Secretaries  \\\n",
              "13551                      0.0                    0.0                    0.0   \n",
              "12212                      0.0                    0.0                    0.0   \n",
              "18685                      0.0                    0.0                    0.0   \n",
              "21503                      0.0                    0.0                    0.0   \n",
              "15231                      0.0                    0.0                    1.0   \n",
              "\n",
              "       Pekerjaan_Security staff  Pekerjaan_Waiters/barmen staff  \n",
              "13551                       0.0                             0.0  \n",
              "12212                       0.0                             0.0  \n",
              "18685                       0.0                             0.0  \n",
              "21503                       0.0                             0.0  \n",
              "15231                       0.0                             0.0  \n",
              "\n",
              "[5 rows x 32 columns]"
            ],
            "text/html": [
              "\n",
              "  <div id=\"df-346eb979-f5d0-4fb9-839c-ef4b98a153a4\">\n",
              "    <div class=\"colab-df-container\">\n",
              "      <div>\n",
              "<style scoped>\n",
              "    .dataframe tbody tr th:only-of-type {\n",
              "        vertical-align: middle;\n",
              "    }\n",
              "\n",
              "    .dataframe tbody tr th {\n",
              "        vertical-align: top;\n",
              "    }\n",
              "\n",
              "    .dataframe thead th {\n",
              "        text-align: right;\n",
              "    }\n",
              "</style>\n",
              "<table border=\"1\" class=\"dataframe\">\n",
              "  <thead>\n",
              "    <tr style=\"text-align: right;\">\n",
              "      <th></th>\n",
              "      <th>JK_Perempuan</th>\n",
              "      <th>KepemilikanMobil_Ya</th>\n",
              "      <th>KepemilikanProperti_Ya</th>\n",
              "      <th>TipePendapatan_Bekerja</th>\n",
              "      <th>TipePendapatan_Mahasiswa/Murid</th>\n",
              "      <th>TipePendapatan_PNS</th>\n",
              "      <th>TipePendapatan_Pensioner</th>\n",
              "      <th>TingkatPendidikan_PG</th>\n",
              "      <th>TingkatPendidikan_UG</th>\n",
              "      <th>StatusKeluarga_M</th>\n",
              "      <th>...</th>\n",
              "      <th>Pekerjaan_Laborers</th>\n",
              "      <th>Pekerjaan_Low-skill Laborers</th>\n",
              "      <th>Pekerjaan_Managers</th>\n",
              "      <th>Pekerjaan_Medicine staff</th>\n",
              "      <th>Pekerjaan_Private service staff</th>\n",
              "      <th>Pekerjaan_Realty agents</th>\n",
              "      <th>Pekerjaan_Sales staff</th>\n",
              "      <th>Pekerjaan_Secretaries</th>\n",
              "      <th>Pekerjaan_Security staff</th>\n",
              "      <th>Pekerjaan_Waiters/barmen staff</th>\n",
              "    </tr>\n",
              "  </thead>\n",
              "  <tbody>\n",
              "    <tr>\n",
              "      <th>13551</th>\n",
              "      <td>1.0</td>\n",
              "      <td>0.0</td>\n",
              "      <td>0.0</td>\n",
              "      <td>1.0</td>\n",
              "      <td>0.0</td>\n",
              "      <td>0.0</td>\n",
              "      <td>0.0</td>\n",
              "      <td>0.0</td>\n",
              "      <td>0.0</td>\n",
              "      <td>1.0</td>\n",
              "      <td>...</td>\n",
              "      <td>1.0</td>\n",
              "      <td>0.0</td>\n",
              "      <td>0.0</td>\n",
              "      <td>0.0</td>\n",
              "      <td>0.0</td>\n",
              "      <td>0.0</td>\n",
              "      <td>0.0</td>\n",
              "      <td>0.0</td>\n",
              "      <td>0.0</td>\n",
              "      <td>0.0</td>\n",
              "    </tr>\n",
              "    <tr>\n",
              "      <th>12212</th>\n",
              "      <td>1.0</td>\n",
              "      <td>1.0</td>\n",
              "      <td>1.0</td>\n",
              "      <td>0.0</td>\n",
              "      <td>0.0</td>\n",
              "      <td>0.0</td>\n",
              "      <td>0.0</td>\n",
              "      <td>1.0</td>\n",
              "      <td>0.0</td>\n",
              "      <td>1.0</td>\n",
              "      <td>...</td>\n",
              "      <td>0.0</td>\n",
              "      <td>0.0</td>\n",
              "      <td>0.0</td>\n",
              "      <td>0.0</td>\n",
              "      <td>0.0</td>\n",
              "      <td>0.0</td>\n",
              "      <td>0.0</td>\n",
              "      <td>0.0</td>\n",
              "      <td>0.0</td>\n",
              "      <td>0.0</td>\n",
              "    </tr>\n",
              "    <tr>\n",
              "      <th>18685</th>\n",
              "      <td>1.0</td>\n",
              "      <td>1.0</td>\n",
              "      <td>1.0</td>\n",
              "      <td>0.0</td>\n",
              "      <td>0.0</td>\n",
              "      <td>0.0</td>\n",
              "      <td>0.0</td>\n",
              "      <td>0.0</td>\n",
              "      <td>0.0</td>\n",
              "      <td>0.0</td>\n",
              "      <td>...</td>\n",
              "      <td>0.0</td>\n",
              "      <td>0.0</td>\n",
              "      <td>1.0</td>\n",
              "      <td>0.0</td>\n",
              "      <td>0.0</td>\n",
              "      <td>0.0</td>\n",
              "      <td>0.0</td>\n",
              "      <td>0.0</td>\n",
              "      <td>0.0</td>\n",
              "      <td>0.0</td>\n",
              "    </tr>\n",
              "    <tr>\n",
              "      <th>21503</th>\n",
              "      <td>1.0</td>\n",
              "      <td>0.0</td>\n",
              "      <td>1.0</td>\n",
              "      <td>0.0</td>\n",
              "      <td>0.0</td>\n",
              "      <td>1.0</td>\n",
              "      <td>0.0</td>\n",
              "      <td>0.0</td>\n",
              "      <td>0.0</td>\n",
              "      <td>1.0</td>\n",
              "      <td>...</td>\n",
              "      <td>0.0</td>\n",
              "      <td>0.0</td>\n",
              "      <td>0.0</td>\n",
              "      <td>1.0</td>\n",
              "      <td>0.0</td>\n",
              "      <td>0.0</td>\n",
              "      <td>0.0</td>\n",
              "      <td>0.0</td>\n",
              "      <td>0.0</td>\n",
              "      <td>0.0</td>\n",
              "    </tr>\n",
              "    <tr>\n",
              "      <th>15231</th>\n",
              "      <td>1.0</td>\n",
              "      <td>0.0</td>\n",
              "      <td>0.0</td>\n",
              "      <td>0.0</td>\n",
              "      <td>0.0</td>\n",
              "      <td>1.0</td>\n",
              "      <td>0.0</td>\n",
              "      <td>0.0</td>\n",
              "      <td>0.0</td>\n",
              "      <td>1.0</td>\n",
              "      <td>...</td>\n",
              "      <td>0.0</td>\n",
              "      <td>0.0</td>\n",
              "      <td>0.0</td>\n",
              "      <td>0.0</td>\n",
              "      <td>0.0</td>\n",
              "      <td>0.0</td>\n",
              "      <td>0.0</td>\n",
              "      <td>1.0</td>\n",
              "      <td>0.0</td>\n",
              "      <td>0.0</td>\n",
              "    </tr>\n",
              "  </tbody>\n",
              "</table>\n",
              "<p>5 rows × 32 columns</p>\n",
              "</div>\n",
              "      <button class=\"colab-df-convert\" onclick=\"convertToInteractive('df-346eb979-f5d0-4fb9-839c-ef4b98a153a4')\"\n",
              "              title=\"Convert this dataframe to an interactive table.\"\n",
              "              style=\"display:none;\">\n",
              "        \n",
              "  <svg xmlns=\"http://www.w3.org/2000/svg\" height=\"24px\"viewBox=\"0 0 24 24\"\n",
              "       width=\"24px\">\n",
              "    <path d=\"M0 0h24v24H0V0z\" fill=\"none\"/>\n",
              "    <path d=\"M18.56 5.44l.94 2.06.94-2.06 2.06-.94-2.06-.94-.94-2.06-.94 2.06-2.06.94zm-11 1L8.5 8.5l.94-2.06 2.06-.94-2.06-.94L8.5 2.5l-.94 2.06-2.06.94zm10 10l.94 2.06.94-2.06 2.06-.94-2.06-.94-.94-2.06-.94 2.06-2.06.94z\"/><path d=\"M17.41 7.96l-1.37-1.37c-.4-.4-.92-.59-1.43-.59-.52 0-1.04.2-1.43.59L10.3 9.45l-7.72 7.72c-.78.78-.78 2.05 0 2.83L4 21.41c.39.39.9.59 1.41.59.51 0 1.02-.2 1.41-.59l7.78-7.78 2.81-2.81c.8-.78.8-2.07 0-2.86zM5.41 20L4 18.59l7.72-7.72 1.47 1.35L5.41 20z\"/>\n",
              "  </svg>\n",
              "      </button>\n",
              "      \n",
              "  <style>\n",
              "    .colab-df-container {\n",
              "      display:flex;\n",
              "      flex-wrap:wrap;\n",
              "      gap: 12px;\n",
              "    }\n",
              "\n",
              "    .colab-df-convert {\n",
              "      background-color: #E8F0FE;\n",
              "      border: none;\n",
              "      border-radius: 50%;\n",
              "      cursor: pointer;\n",
              "      display: none;\n",
              "      fill: #1967D2;\n",
              "      height: 32px;\n",
              "      padding: 0 0 0 0;\n",
              "      width: 32px;\n",
              "    }\n",
              "\n",
              "    .colab-df-convert:hover {\n",
              "      background-color: #E2EBFA;\n",
              "      box-shadow: 0px 1px 2px rgba(60, 64, 67, 0.3), 0px 1px 3px 1px rgba(60, 64, 67, 0.15);\n",
              "      fill: #174EA6;\n",
              "    }\n",
              "\n",
              "    [theme=dark] .colab-df-convert {\n",
              "      background-color: #3B4455;\n",
              "      fill: #D2E3FC;\n",
              "    }\n",
              "\n",
              "    [theme=dark] .colab-df-convert:hover {\n",
              "      background-color: #434B5C;\n",
              "      box-shadow: 0px 1px 3px 1px rgba(0, 0, 0, 0.15);\n",
              "      filter: drop-shadow(0px 1px 2px rgba(0, 0, 0, 0.3));\n",
              "      fill: #FFFFFF;\n",
              "    }\n",
              "  </style>\n",
              "\n",
              "      <script>\n",
              "        const buttonEl =\n",
              "          document.querySelector('#df-346eb979-f5d0-4fb9-839c-ef4b98a153a4 button.colab-df-convert');\n",
              "        buttonEl.style.display =\n",
              "          google.colab.kernel.accessAllowed ? 'block' : 'none';\n",
              "\n",
              "        async function convertToInteractive(key) {\n",
              "          const element = document.querySelector('#df-346eb979-f5d0-4fb9-839c-ef4b98a153a4');\n",
              "          const dataTable =\n",
              "            await google.colab.kernel.invokeFunction('convertToInteractive',\n",
              "                                                     [key], {});\n",
              "          if (!dataTable) return;\n",
              "\n",
              "          const docLinkHtml = 'Like what you see? Visit the ' +\n",
              "            '<a target=\"_blank\" href=https://colab.research.google.com/notebooks/data_table.ipynb>data table notebook</a>'\n",
              "            + ' to learn more about interactive tables.';\n",
              "          element.innerHTML = '';\n",
              "          dataTable['output_type'] = 'display_data';\n",
              "          await google.colab.output.renderOutput(dataTable, element);\n",
              "          const docLink = document.createElement('div');\n",
              "          docLink.innerHTML = docLinkHtml;\n",
              "          element.appendChild(docLink);\n",
              "        }\n",
              "      </script>\n",
              "    </div>\n",
              "  </div>\n",
              "  "
            ]
          },
          "metadata": {},
          "execution_count": 31
        }
      ]
    },
    {
      "cell_type": "code",
      "source": [
        "X_train_dummy = pd.concat([X_train.select_dtypes(exclude=\"category\"),\n",
        "                           X_train_encoded], axis=1)\n",
        "X_train_dummy.head()"
      ],
      "metadata": {
        "colab": {
          "base_uri": "https://localhost:8080/"
        },
        "id": "JK-ZgohXF0Nv",
        "outputId": "afc343bd-9155-4ddd-dfda-62e64e82c955"
      },
      "id": "JK-ZgohXF0Nv",
      "execution_count": null,
      "outputs": [
        {
          "output_type": "execute_result",
          "data": {
            "text/plain": [
              "       Id_customer  JmlAnak  Pendapatan  FlagWorkPhone  FlagPhone  Email  \\\n",
              "13551      5041909        0    202500.0              0          1      0   \n",
              "12212      5029464        1    112500.0              0          0      1   \n",
              "18685      5090788        1    225000.0              0          0      0   \n",
              "21503      5115939        0     45000.0              1          1      0   \n",
              "15231      5054274        0    292500.0              0          1      0   \n",
              "\n",
              "       JmlAnggotaKeluarga  Age  Experience  JK_Perempuan  ...  \\\n",
              "13551                   2   52           1           1.0  ...   \n",
              "12212                   3   29           8           1.0  ...   \n",
              "18685                   2   30           4           1.0  ...   \n",
              "21503                   2   28           2           1.0  ...   \n",
              "15231                   2   40          10           1.0  ...   \n",
              "\n",
              "       Pekerjaan_Laborers  Pekerjaan_Low-skill Laborers  Pekerjaan_Managers  \\\n",
              "13551                 1.0                           0.0                 0.0   \n",
              "12212                 0.0                           0.0                 0.0   \n",
              "18685                 0.0                           0.0                 1.0   \n",
              "21503                 0.0                           0.0                 0.0   \n",
              "15231                 0.0                           0.0                 0.0   \n",
              "\n",
              "       Pekerjaan_Medicine staff  Pekerjaan_Private service staff  \\\n",
              "13551                       0.0                              0.0   \n",
              "12212                       0.0                              0.0   \n",
              "18685                       0.0                              0.0   \n",
              "21503                       1.0                              0.0   \n",
              "15231                       0.0                              0.0   \n",
              "\n",
              "       Pekerjaan_Realty agents  Pekerjaan_Sales staff  Pekerjaan_Secretaries  \\\n",
              "13551                      0.0                    0.0                    0.0   \n",
              "12212                      0.0                    0.0                    0.0   \n",
              "18685                      0.0                    0.0                    0.0   \n",
              "21503                      0.0                    0.0                    0.0   \n",
              "15231                      0.0                    0.0                    1.0   \n",
              "\n",
              "       Pekerjaan_Security staff  Pekerjaan_Waiters/barmen staff  \n",
              "13551                       0.0                             0.0  \n",
              "12212                       0.0                             0.0  \n",
              "18685                       0.0                             0.0  \n",
              "21503                       0.0                             0.0  \n",
              "15231                       0.0                             0.0  \n",
              "\n",
              "[5 rows x 41 columns]"
            ],
            "text/html": [
              "\n",
              "  <div id=\"df-10820de8-9be4-4896-a107-10aac1ffb143\">\n",
              "    <div class=\"colab-df-container\">\n",
              "      <div>\n",
              "<style scoped>\n",
              "    .dataframe tbody tr th:only-of-type {\n",
              "        vertical-align: middle;\n",
              "    }\n",
              "\n",
              "    .dataframe tbody tr th {\n",
              "        vertical-align: top;\n",
              "    }\n",
              "\n",
              "    .dataframe thead th {\n",
              "        text-align: right;\n",
              "    }\n",
              "</style>\n",
              "<table border=\"1\" class=\"dataframe\">\n",
              "  <thead>\n",
              "    <tr style=\"text-align: right;\">\n",
              "      <th></th>\n",
              "      <th>Id_customer</th>\n",
              "      <th>JmlAnak</th>\n",
              "      <th>Pendapatan</th>\n",
              "      <th>FlagWorkPhone</th>\n",
              "      <th>FlagPhone</th>\n",
              "      <th>Email</th>\n",
              "      <th>JmlAnggotaKeluarga</th>\n",
              "      <th>Age</th>\n",
              "      <th>Experience</th>\n",
              "      <th>JK_Perempuan</th>\n",
              "      <th>...</th>\n",
              "      <th>Pekerjaan_Laborers</th>\n",
              "      <th>Pekerjaan_Low-skill Laborers</th>\n",
              "      <th>Pekerjaan_Managers</th>\n",
              "      <th>Pekerjaan_Medicine staff</th>\n",
              "      <th>Pekerjaan_Private service staff</th>\n",
              "      <th>Pekerjaan_Realty agents</th>\n",
              "      <th>Pekerjaan_Sales staff</th>\n",
              "      <th>Pekerjaan_Secretaries</th>\n",
              "      <th>Pekerjaan_Security staff</th>\n",
              "      <th>Pekerjaan_Waiters/barmen staff</th>\n",
              "    </tr>\n",
              "  </thead>\n",
              "  <tbody>\n",
              "    <tr>\n",
              "      <th>13551</th>\n",
              "      <td>5041909</td>\n",
              "      <td>0</td>\n",
              "      <td>202500.0</td>\n",
              "      <td>0</td>\n",
              "      <td>1</td>\n",
              "      <td>0</td>\n",
              "      <td>2</td>\n",
              "      <td>52</td>\n",
              "      <td>1</td>\n",
              "      <td>1.0</td>\n",
              "      <td>...</td>\n",
              "      <td>1.0</td>\n",
              "      <td>0.0</td>\n",
              "      <td>0.0</td>\n",
              "      <td>0.0</td>\n",
              "      <td>0.0</td>\n",
              "      <td>0.0</td>\n",
              "      <td>0.0</td>\n",
              "      <td>0.0</td>\n",
              "      <td>0.0</td>\n",
              "      <td>0.0</td>\n",
              "    </tr>\n",
              "    <tr>\n",
              "      <th>12212</th>\n",
              "      <td>5029464</td>\n",
              "      <td>1</td>\n",
              "      <td>112500.0</td>\n",
              "      <td>0</td>\n",
              "      <td>0</td>\n",
              "      <td>1</td>\n",
              "      <td>3</td>\n",
              "      <td>29</td>\n",
              "      <td>8</td>\n",
              "      <td>1.0</td>\n",
              "      <td>...</td>\n",
              "      <td>0.0</td>\n",
              "      <td>0.0</td>\n",
              "      <td>0.0</td>\n",
              "      <td>0.0</td>\n",
              "      <td>0.0</td>\n",
              "      <td>0.0</td>\n",
              "      <td>0.0</td>\n",
              "      <td>0.0</td>\n",
              "      <td>0.0</td>\n",
              "      <td>0.0</td>\n",
              "    </tr>\n",
              "    <tr>\n",
              "      <th>18685</th>\n",
              "      <td>5090788</td>\n",
              "      <td>1</td>\n",
              "      <td>225000.0</td>\n",
              "      <td>0</td>\n",
              "      <td>0</td>\n",
              "      <td>0</td>\n",
              "      <td>2</td>\n",
              "      <td>30</td>\n",
              "      <td>4</td>\n",
              "      <td>1.0</td>\n",
              "      <td>...</td>\n",
              "      <td>0.0</td>\n",
              "      <td>0.0</td>\n",
              "      <td>1.0</td>\n",
              "      <td>0.0</td>\n",
              "      <td>0.0</td>\n",
              "      <td>0.0</td>\n",
              "      <td>0.0</td>\n",
              "      <td>0.0</td>\n",
              "      <td>0.0</td>\n",
              "      <td>0.0</td>\n",
              "    </tr>\n",
              "    <tr>\n",
              "      <th>21503</th>\n",
              "      <td>5115939</td>\n",
              "      <td>0</td>\n",
              "      <td>45000.0</td>\n",
              "      <td>1</td>\n",
              "      <td>1</td>\n",
              "      <td>0</td>\n",
              "      <td>2</td>\n",
              "      <td>28</td>\n",
              "      <td>2</td>\n",
              "      <td>1.0</td>\n",
              "      <td>...</td>\n",
              "      <td>0.0</td>\n",
              "      <td>0.0</td>\n",
              "      <td>0.0</td>\n",
              "      <td>1.0</td>\n",
              "      <td>0.0</td>\n",
              "      <td>0.0</td>\n",
              "      <td>0.0</td>\n",
              "      <td>0.0</td>\n",
              "      <td>0.0</td>\n",
              "      <td>0.0</td>\n",
              "    </tr>\n",
              "    <tr>\n",
              "      <th>15231</th>\n",
              "      <td>5054274</td>\n",
              "      <td>0</td>\n",
              "      <td>292500.0</td>\n",
              "      <td>0</td>\n",
              "      <td>1</td>\n",
              "      <td>0</td>\n",
              "      <td>2</td>\n",
              "      <td>40</td>\n",
              "      <td>10</td>\n",
              "      <td>1.0</td>\n",
              "      <td>...</td>\n",
              "      <td>0.0</td>\n",
              "      <td>0.0</td>\n",
              "      <td>0.0</td>\n",
              "      <td>0.0</td>\n",
              "      <td>0.0</td>\n",
              "      <td>0.0</td>\n",
              "      <td>0.0</td>\n",
              "      <td>1.0</td>\n",
              "      <td>0.0</td>\n",
              "      <td>0.0</td>\n",
              "    </tr>\n",
              "  </tbody>\n",
              "</table>\n",
              "<p>5 rows × 41 columns</p>\n",
              "</div>\n",
              "      <button class=\"colab-df-convert\" onclick=\"convertToInteractive('df-10820de8-9be4-4896-a107-10aac1ffb143')\"\n",
              "              title=\"Convert this dataframe to an interactive table.\"\n",
              "              style=\"display:none;\">\n",
              "        \n",
              "  <svg xmlns=\"http://www.w3.org/2000/svg\" height=\"24px\"viewBox=\"0 0 24 24\"\n",
              "       width=\"24px\">\n",
              "    <path d=\"M0 0h24v24H0V0z\" fill=\"none\"/>\n",
              "    <path d=\"M18.56 5.44l.94 2.06.94-2.06 2.06-.94-2.06-.94-.94-2.06-.94 2.06-2.06.94zm-11 1L8.5 8.5l.94-2.06 2.06-.94-2.06-.94L8.5 2.5l-.94 2.06-2.06.94zm10 10l.94 2.06.94-2.06 2.06-.94-2.06-.94-.94-2.06-.94 2.06-2.06.94z\"/><path d=\"M17.41 7.96l-1.37-1.37c-.4-.4-.92-.59-1.43-.59-.52 0-1.04.2-1.43.59L10.3 9.45l-7.72 7.72c-.78.78-.78 2.05 0 2.83L4 21.41c.39.39.9.59 1.41.59.51 0 1.02-.2 1.41-.59l7.78-7.78 2.81-2.81c.8-.78.8-2.07 0-2.86zM5.41 20L4 18.59l7.72-7.72 1.47 1.35L5.41 20z\"/>\n",
              "  </svg>\n",
              "      </button>\n",
              "      \n",
              "  <style>\n",
              "    .colab-df-container {\n",
              "      display:flex;\n",
              "      flex-wrap:wrap;\n",
              "      gap: 12px;\n",
              "    }\n",
              "\n",
              "    .colab-df-convert {\n",
              "      background-color: #E8F0FE;\n",
              "      border: none;\n",
              "      border-radius: 50%;\n",
              "      cursor: pointer;\n",
              "      display: none;\n",
              "      fill: #1967D2;\n",
              "      height: 32px;\n",
              "      padding: 0 0 0 0;\n",
              "      width: 32px;\n",
              "    }\n",
              "\n",
              "    .colab-df-convert:hover {\n",
              "      background-color: #E2EBFA;\n",
              "      box-shadow: 0px 1px 2px rgba(60, 64, 67, 0.3), 0px 1px 3px 1px rgba(60, 64, 67, 0.15);\n",
              "      fill: #174EA6;\n",
              "    }\n",
              "\n",
              "    [theme=dark] .colab-df-convert {\n",
              "      background-color: #3B4455;\n",
              "      fill: #D2E3FC;\n",
              "    }\n",
              "\n",
              "    [theme=dark] .colab-df-convert:hover {\n",
              "      background-color: #434B5C;\n",
              "      box-shadow: 0px 1px 3px 1px rgba(0, 0, 0, 0.15);\n",
              "      filter: drop-shadow(0px 1px 2px rgba(0, 0, 0, 0.3));\n",
              "      fill: #FFFFFF;\n",
              "    }\n",
              "  </style>\n",
              "\n",
              "      <script>\n",
              "        const buttonEl =\n",
              "          document.querySelector('#df-10820de8-9be4-4896-a107-10aac1ffb143 button.colab-df-convert');\n",
              "        buttonEl.style.display =\n",
              "          google.colab.kernel.accessAllowed ? 'block' : 'none';\n",
              "\n",
              "        async function convertToInteractive(key) {\n",
              "          const element = document.querySelector('#df-10820de8-9be4-4896-a107-10aac1ffb143');\n",
              "          const dataTable =\n",
              "            await google.colab.kernel.invokeFunction('convertToInteractive',\n",
              "                                                     [key], {});\n",
              "          if (!dataTable) return;\n",
              "\n",
              "          const docLinkHtml = 'Like what you see? Visit the ' +\n",
              "            '<a target=\"_blank\" href=https://colab.research.google.com/notebooks/data_table.ipynb>data table notebook</a>'\n",
              "            + ' to learn more about interactive tables.';\n",
              "          element.innerHTML = '';\n",
              "          dataTable['output_type'] = 'display_data';\n",
              "          await google.colab.output.renderOutput(dataTable, element);\n",
              "          const docLink = document.createElement('div');\n",
              "          docLink.innerHTML = docLinkHtml;\n",
              "          element.appendChild(docLink);\n",
              "        }\n",
              "      </script>\n",
              "    </div>\n",
              "  </div>\n",
              "  "
            ]
          },
          "metadata": {},
          "execution_count": 32
        }
      ]
    },
    {
      "cell_type": "code",
      "source": [
        "X_test_encoded = pd.DataFrame(encoder.transform(X_test[columns]),\n",
        "                              index=X_test.index,\n",
        "                              columns=encoder.get_feature_names(X_test[columns].columns))\n",
        "\n",
        "X_test_dummy = pd.concat([X_test.select_dtypes(exclude=\"category\"),\n",
        "                          X_test_encoded], axis=1)\n",
        "\n",
        "X_test_dummy.head()"
      ],
      "metadata": {
        "colab": {
          "base_uri": "https://localhost:8080/"
        },
        "id": "0ZbJMB-eGr8g",
        "outputId": "04d2d5be-09a2-4b94-b1bf-a1c7a74cdb08"
      },
      "id": "0ZbJMB-eGr8g",
      "execution_count": null,
      "outputs": [
        {
          "output_type": "stream",
          "name": "stderr",
          "text": [
            "/usr/local/lib/python3.8/dist-packages/sklearn/utils/deprecation.py:87: FutureWarning: Function get_feature_names is deprecated; get_feature_names is deprecated in 1.0 and will be removed in 1.2. Please use get_feature_names_out instead.\n",
            "  warnings.warn(msg, category=FutureWarning)\n"
          ]
        },
        {
          "output_type": "execute_result",
          "data": {
            "text/plain": [
              "       Id_customer  JmlAnak  Pendapatan  FlagWorkPhone  FlagPhone  Email  \\\n",
              "15364      5054727        1    112500.0              1          0      0   \n",
              "616        5021691        1    225000.0              0          0      0   \n",
              "18701      5090846        1    135000.0              1          1      1   \n",
              "18824      5091241        0    112500.0              0          0      0   \n",
              "13302      5041136        0    225000.0              0          0      0   \n",
              "\n",
              "       JmlAnggotaKeluarga  Age  Experience  JK_Perempuan  ...  \\\n",
              "15364                   3   51           3           1.0  ...   \n",
              "616                     3   36           1           0.0  ...   \n",
              "18701                   2   29           3           1.0  ...   \n",
              "18824                   2   45           4           1.0  ...   \n",
              "13302                   1   47           2           1.0  ...   \n",
              "\n",
              "       Pekerjaan_Laborers  Pekerjaan_Low-skill Laborers  Pekerjaan_Managers  \\\n",
              "15364                 0.0                           0.0                 1.0   \n",
              "616                   0.0                           0.0                 1.0   \n",
              "18701                 0.0                           0.0                 0.0   \n",
              "18824                 0.0                           0.0                 0.0   \n",
              "13302                 0.0                           0.0                 0.0   \n",
              "\n",
              "       Pekerjaan_Medicine staff  Pekerjaan_Private service staff  \\\n",
              "15364                       0.0                              0.0   \n",
              "616                         0.0                              0.0   \n",
              "18701                       0.0                              0.0   \n",
              "18824                       1.0                              0.0   \n",
              "13302                       0.0                              0.0   \n",
              "\n",
              "       Pekerjaan_Realty agents  Pekerjaan_Sales staff  Pekerjaan_Secretaries  \\\n",
              "15364                      0.0                    0.0                    0.0   \n",
              "616                        0.0                    0.0                    0.0   \n",
              "18701                      0.0                    0.0                    0.0   \n",
              "18824                      0.0                    0.0                    0.0   \n",
              "13302                      0.0                    0.0                    0.0   \n",
              "\n",
              "       Pekerjaan_Security staff  Pekerjaan_Waiters/barmen staff  \n",
              "15364                       0.0                             0.0  \n",
              "616                         0.0                             0.0  \n",
              "18701                       0.0                             0.0  \n",
              "18824                       0.0                             0.0  \n",
              "13302                       0.0                             0.0  \n",
              "\n",
              "[5 rows x 41 columns]"
            ],
            "text/html": [
              "\n",
              "  <div id=\"df-80b370ae-be12-4ccb-88af-c990e3f64792\">\n",
              "    <div class=\"colab-df-container\">\n",
              "      <div>\n",
              "<style scoped>\n",
              "    .dataframe tbody tr th:only-of-type {\n",
              "        vertical-align: middle;\n",
              "    }\n",
              "\n",
              "    .dataframe tbody tr th {\n",
              "        vertical-align: top;\n",
              "    }\n",
              "\n",
              "    .dataframe thead th {\n",
              "        text-align: right;\n",
              "    }\n",
              "</style>\n",
              "<table border=\"1\" class=\"dataframe\">\n",
              "  <thead>\n",
              "    <tr style=\"text-align: right;\">\n",
              "      <th></th>\n",
              "      <th>Id_customer</th>\n",
              "      <th>JmlAnak</th>\n",
              "      <th>Pendapatan</th>\n",
              "      <th>FlagWorkPhone</th>\n",
              "      <th>FlagPhone</th>\n",
              "      <th>Email</th>\n",
              "      <th>JmlAnggotaKeluarga</th>\n",
              "      <th>Age</th>\n",
              "      <th>Experience</th>\n",
              "      <th>JK_Perempuan</th>\n",
              "      <th>...</th>\n",
              "      <th>Pekerjaan_Laborers</th>\n",
              "      <th>Pekerjaan_Low-skill Laborers</th>\n",
              "      <th>Pekerjaan_Managers</th>\n",
              "      <th>Pekerjaan_Medicine staff</th>\n",
              "      <th>Pekerjaan_Private service staff</th>\n",
              "      <th>Pekerjaan_Realty agents</th>\n",
              "      <th>Pekerjaan_Sales staff</th>\n",
              "      <th>Pekerjaan_Secretaries</th>\n",
              "      <th>Pekerjaan_Security staff</th>\n",
              "      <th>Pekerjaan_Waiters/barmen staff</th>\n",
              "    </tr>\n",
              "  </thead>\n",
              "  <tbody>\n",
              "    <tr>\n",
              "      <th>15364</th>\n",
              "      <td>5054727</td>\n",
              "      <td>1</td>\n",
              "      <td>112500.0</td>\n",
              "      <td>1</td>\n",
              "      <td>0</td>\n",
              "      <td>0</td>\n",
              "      <td>3</td>\n",
              "      <td>51</td>\n",
              "      <td>3</td>\n",
              "      <td>1.0</td>\n",
              "      <td>...</td>\n",
              "      <td>0.0</td>\n",
              "      <td>0.0</td>\n",
              "      <td>1.0</td>\n",
              "      <td>0.0</td>\n",
              "      <td>0.0</td>\n",
              "      <td>0.0</td>\n",
              "      <td>0.0</td>\n",
              "      <td>0.0</td>\n",
              "      <td>0.0</td>\n",
              "      <td>0.0</td>\n",
              "    </tr>\n",
              "    <tr>\n",
              "      <th>616</th>\n",
              "      <td>5021691</td>\n",
              "      <td>1</td>\n",
              "      <td>225000.0</td>\n",
              "      <td>0</td>\n",
              "      <td>0</td>\n",
              "      <td>0</td>\n",
              "      <td>3</td>\n",
              "      <td>36</td>\n",
              "      <td>1</td>\n",
              "      <td>0.0</td>\n",
              "      <td>...</td>\n",
              "      <td>0.0</td>\n",
              "      <td>0.0</td>\n",
              "      <td>1.0</td>\n",
              "      <td>0.0</td>\n",
              "      <td>0.0</td>\n",
              "      <td>0.0</td>\n",
              "      <td>0.0</td>\n",
              "      <td>0.0</td>\n",
              "      <td>0.0</td>\n",
              "      <td>0.0</td>\n",
              "    </tr>\n",
              "    <tr>\n",
              "      <th>18701</th>\n",
              "      <td>5090846</td>\n",
              "      <td>1</td>\n",
              "      <td>135000.0</td>\n",
              "      <td>1</td>\n",
              "      <td>1</td>\n",
              "      <td>1</td>\n",
              "      <td>2</td>\n",
              "      <td>29</td>\n",
              "      <td>3</td>\n",
              "      <td>1.0</td>\n",
              "      <td>...</td>\n",
              "      <td>0.0</td>\n",
              "      <td>0.0</td>\n",
              "      <td>0.0</td>\n",
              "      <td>0.0</td>\n",
              "      <td>0.0</td>\n",
              "      <td>0.0</td>\n",
              "      <td>0.0</td>\n",
              "      <td>0.0</td>\n",
              "      <td>0.0</td>\n",
              "      <td>0.0</td>\n",
              "    </tr>\n",
              "    <tr>\n",
              "      <th>18824</th>\n",
              "      <td>5091241</td>\n",
              "      <td>0</td>\n",
              "      <td>112500.0</td>\n",
              "      <td>0</td>\n",
              "      <td>0</td>\n",
              "      <td>0</td>\n",
              "      <td>2</td>\n",
              "      <td>45</td>\n",
              "      <td>4</td>\n",
              "      <td>1.0</td>\n",
              "      <td>...</td>\n",
              "      <td>0.0</td>\n",
              "      <td>0.0</td>\n",
              "      <td>0.0</td>\n",
              "      <td>1.0</td>\n",
              "      <td>0.0</td>\n",
              "      <td>0.0</td>\n",
              "      <td>0.0</td>\n",
              "      <td>0.0</td>\n",
              "      <td>0.0</td>\n",
              "      <td>0.0</td>\n",
              "    </tr>\n",
              "    <tr>\n",
              "      <th>13302</th>\n",
              "      <td>5041136</td>\n",
              "      <td>0</td>\n",
              "      <td>225000.0</td>\n",
              "      <td>0</td>\n",
              "      <td>0</td>\n",
              "      <td>0</td>\n",
              "      <td>1</td>\n",
              "      <td>47</td>\n",
              "      <td>2</td>\n",
              "      <td>1.0</td>\n",
              "      <td>...</td>\n",
              "      <td>0.0</td>\n",
              "      <td>0.0</td>\n",
              "      <td>0.0</td>\n",
              "      <td>0.0</td>\n",
              "      <td>0.0</td>\n",
              "      <td>0.0</td>\n",
              "      <td>0.0</td>\n",
              "      <td>0.0</td>\n",
              "      <td>0.0</td>\n",
              "      <td>0.0</td>\n",
              "    </tr>\n",
              "  </tbody>\n",
              "</table>\n",
              "<p>5 rows × 41 columns</p>\n",
              "</div>\n",
              "      <button class=\"colab-df-convert\" onclick=\"convertToInteractive('df-80b370ae-be12-4ccb-88af-c990e3f64792')\"\n",
              "              title=\"Convert this dataframe to an interactive table.\"\n",
              "              style=\"display:none;\">\n",
              "        \n",
              "  <svg xmlns=\"http://www.w3.org/2000/svg\" height=\"24px\"viewBox=\"0 0 24 24\"\n",
              "       width=\"24px\">\n",
              "    <path d=\"M0 0h24v24H0V0z\" fill=\"none\"/>\n",
              "    <path d=\"M18.56 5.44l.94 2.06.94-2.06 2.06-.94-2.06-.94-.94-2.06-.94 2.06-2.06.94zm-11 1L8.5 8.5l.94-2.06 2.06-.94-2.06-.94L8.5 2.5l-.94 2.06-2.06.94zm10 10l.94 2.06.94-2.06 2.06-.94-2.06-.94-.94-2.06-.94 2.06-2.06.94z\"/><path d=\"M17.41 7.96l-1.37-1.37c-.4-.4-.92-.59-1.43-.59-.52 0-1.04.2-1.43.59L10.3 9.45l-7.72 7.72c-.78.78-.78 2.05 0 2.83L4 21.41c.39.39.9.59 1.41.59.51 0 1.02-.2 1.41-.59l7.78-7.78 2.81-2.81c.8-.78.8-2.07 0-2.86zM5.41 20L4 18.59l7.72-7.72 1.47 1.35L5.41 20z\"/>\n",
              "  </svg>\n",
              "      </button>\n",
              "      \n",
              "  <style>\n",
              "    .colab-df-container {\n",
              "      display:flex;\n",
              "      flex-wrap:wrap;\n",
              "      gap: 12px;\n",
              "    }\n",
              "\n",
              "    .colab-df-convert {\n",
              "      background-color: #E8F0FE;\n",
              "      border: none;\n",
              "      border-radius: 50%;\n",
              "      cursor: pointer;\n",
              "      display: none;\n",
              "      fill: #1967D2;\n",
              "      height: 32px;\n",
              "      padding: 0 0 0 0;\n",
              "      width: 32px;\n",
              "    }\n",
              "\n",
              "    .colab-df-convert:hover {\n",
              "      background-color: #E2EBFA;\n",
              "      box-shadow: 0px 1px 2px rgba(60, 64, 67, 0.3), 0px 1px 3px 1px rgba(60, 64, 67, 0.15);\n",
              "      fill: #174EA6;\n",
              "    }\n",
              "\n",
              "    [theme=dark] .colab-df-convert {\n",
              "      background-color: #3B4455;\n",
              "      fill: #D2E3FC;\n",
              "    }\n",
              "\n",
              "    [theme=dark] .colab-df-convert:hover {\n",
              "      background-color: #434B5C;\n",
              "      box-shadow: 0px 1px 3px 1px rgba(0, 0, 0, 0.15);\n",
              "      filter: drop-shadow(0px 1px 2px rgba(0, 0, 0, 0.3));\n",
              "      fill: #FFFFFF;\n",
              "    }\n",
              "  </style>\n",
              "\n",
              "      <script>\n",
              "        const buttonEl =\n",
              "          document.querySelector('#df-80b370ae-be12-4ccb-88af-c990e3f64792 button.colab-df-convert');\n",
              "        buttonEl.style.display =\n",
              "          google.colab.kernel.accessAllowed ? 'block' : 'none';\n",
              "\n",
              "        async function convertToInteractive(key) {\n",
              "          const element = document.querySelector('#df-80b370ae-be12-4ccb-88af-c990e3f64792');\n",
              "          const dataTable =\n",
              "            await google.colab.kernel.invokeFunction('convertToInteractive',\n",
              "                                                     [key], {});\n",
              "          if (!dataTable) return;\n",
              "\n",
              "          const docLinkHtml = 'Like what you see? Visit the ' +\n",
              "            '<a target=\"_blank\" href=https://colab.research.google.com/notebooks/data_table.ipynb>data table notebook</a>'\n",
              "            + ' to learn more about interactive tables.';\n",
              "          element.innerHTML = '';\n",
              "          dataTable['output_type'] = 'display_data';\n",
              "          await google.colab.output.renderOutput(dataTable, element);\n",
              "          const docLink = document.createElement('div');\n",
              "          docLink.innerHTML = docLinkHtml;\n",
              "          element.appendChild(docLink);\n",
              "        }\n",
              "      </script>\n",
              "    </div>\n",
              "  </div>\n",
              "  "
            ]
          },
          "metadata": {},
          "execution_count": 33
        }
      ]
    },
    {
      "cell_type": "code",
      "source": [
        "# Normalize data using robustscaler\n",
        "\n",
        "rs = RobustScaler()\n",
        "X_scaled = pd.DataFrame(rs.fit_transform(X_train_dummy), columns=X_train_dummy.columns).set_index(X_train_dummy.index)\n",
        "X_test_scaled = pd.DataFrame(rs.transform(X_test_dummy), columns=X_test_dummy.columns).set_index(X_test_dummy.index)"
      ],
      "metadata": {
        "id": "beK5o0jsM_7R"
      },
      "id": "beK5o0jsM_7R",
      "execution_count": null,
      "outputs": []
    },
    {
      "cell_type": "code",
      "source": [
        "# SMOTE Robust Scaler\n",
        "\n",
        "oversample = SMOTE()\n",
        "X_balanced, y_balanced = oversample.fit_resample(X_scaled, y_train)\n",
        "X_test_balanced, y_test_balanced = oversample.fit_resample(X_test_scaled, y_test)"
      ],
      "metadata": {
        "id": "4Y3_GbWodsGu"
      },
      "id": "4Y3_GbWodsGu",
      "execution_count": null,
      "outputs": []
    },
    {
      "cell_type": "markdown",
      "source": [
        "# Modelling"
      ],
      "metadata": {
        "id": "50fD3fx8o8Ay"
      },
      "id": "50fD3fx8o8Ay"
    },
    {
      "cell_type": "code",
      "source": [
        "classifiers = {\n",
        "    \"XGBoost\" : XGBClassifier(),\n",
        "    \"Naive Bayes\" : GaussianNB()\n",
        "}"
      ],
      "metadata": {
        "id": "9RmySswVo_Ha"
      },
      "id": "9RmySswVo_Ha",
      "execution_count": null,
      "outputs": []
    },
    {
      "cell_type": "code",
      "source": [
        "train_scores = []\n",
        "test_scores = []\n",
        "\n",
        "for key, classifier in classifiers.items():\n",
        "  classifier.fit(X_balanced, y_balanced)\n",
        "  train_score = classifier.score(X_balanced, y_balanced)\n",
        "  train_scores.append(train_score)\n",
        "  test_score = classifier.score(X_test_balanced, y_test_balanced)\n",
        "  test_scores.append(test_score)\n",
        "\n",
        "print(train_scores)\n",
        "print(test_scores)"
      ],
      "metadata": {
        "colab": {
          "base_uri": "https://localhost:8080/"
        },
        "id": "4MKL1sTFrO65",
        "outputId": "38d6476d-506f-40a9-ab3e-d0fc6a8116c2"
      },
      "id": "4MKL1sTFrO65",
      "execution_count": null,
      "outputs": [
        {
          "output_type": "stream",
          "name": "stdout",
          "text": [
            "[0.8277615266750243, 0.5189441426382505]\n",
            "[0.8527547537786445, 0.5112953031041768]\n"
          ]
        }
      ]
    },
    {
      "cell_type": "code",
      "source": [
        "cl = ['XGBoost', \"Naive Bayes\"]"
      ],
      "metadata": {
        "id": "ETIKyKqJuAjB"
      },
      "id": "ETIKyKqJuAjB",
      "execution_count": null,
      "outputs": []
    },
    {
      "cell_type": "code",
      "source": [
        "predict = pd.DataFrame({\"Method\":cl, \"Score Train\":train_scores, \"Score Test\":test_scores})\n",
        "predict"
      ],
      "metadata": {
        "colab": {
          "base_uri": "https://localhost:8080/",
          "height": 112
        },
        "id": "ajWz_9WWli6W",
        "outputId": "3768c4a2-278d-4dae-8c1a-35c58945973f"
      },
      "id": "ajWz_9WWli6W",
      "execution_count": null,
      "outputs": [
        {
          "output_type": "execute_result",
          "data": {
            "text/plain": [
              "        Method  Score Train  Score Test\n",
              "0      XGBoost     0.827762    0.852755\n",
              "1  Naive Bayes     0.518944    0.511295"
            ],
            "text/html": [
              "\n",
              "  <div id=\"df-132d7eff-acd2-461d-84b3-e8dae541b2db\">\n",
              "    <div class=\"colab-df-container\">\n",
              "      <div>\n",
              "<style scoped>\n",
              "    .dataframe tbody tr th:only-of-type {\n",
              "        vertical-align: middle;\n",
              "    }\n",
              "\n",
              "    .dataframe tbody tr th {\n",
              "        vertical-align: top;\n",
              "    }\n",
              "\n",
              "    .dataframe thead th {\n",
              "        text-align: right;\n",
              "    }\n",
              "</style>\n",
              "<table border=\"1\" class=\"dataframe\">\n",
              "  <thead>\n",
              "    <tr style=\"text-align: right;\">\n",
              "      <th></th>\n",
              "      <th>Method</th>\n",
              "      <th>Score Train</th>\n",
              "      <th>Score Test</th>\n",
              "    </tr>\n",
              "  </thead>\n",
              "  <tbody>\n",
              "    <tr>\n",
              "      <th>0</th>\n",
              "      <td>XGBoost</td>\n",
              "      <td>0.827762</td>\n",
              "      <td>0.852755</td>\n",
              "    </tr>\n",
              "    <tr>\n",
              "      <th>1</th>\n",
              "      <td>Naive Bayes</td>\n",
              "      <td>0.518944</td>\n",
              "      <td>0.511295</td>\n",
              "    </tr>\n",
              "  </tbody>\n",
              "</table>\n",
              "</div>\n",
              "      <button class=\"colab-df-convert\" onclick=\"convertToInteractive('df-132d7eff-acd2-461d-84b3-e8dae541b2db')\"\n",
              "              title=\"Convert this dataframe to an interactive table.\"\n",
              "              style=\"display:none;\">\n",
              "        \n",
              "  <svg xmlns=\"http://www.w3.org/2000/svg\" height=\"24px\"viewBox=\"0 0 24 24\"\n",
              "       width=\"24px\">\n",
              "    <path d=\"M0 0h24v24H0V0z\" fill=\"none\"/>\n",
              "    <path d=\"M18.56 5.44l.94 2.06.94-2.06 2.06-.94-2.06-.94-.94-2.06-.94 2.06-2.06.94zm-11 1L8.5 8.5l.94-2.06 2.06-.94-2.06-.94L8.5 2.5l-.94 2.06-2.06.94zm10 10l.94 2.06.94-2.06 2.06-.94-2.06-.94-.94-2.06-.94 2.06-2.06.94z\"/><path d=\"M17.41 7.96l-1.37-1.37c-.4-.4-.92-.59-1.43-.59-.52 0-1.04.2-1.43.59L10.3 9.45l-7.72 7.72c-.78.78-.78 2.05 0 2.83L4 21.41c.39.39.9.59 1.41.59.51 0 1.02-.2 1.41-.59l7.78-7.78 2.81-2.81c.8-.78.8-2.07 0-2.86zM5.41 20L4 18.59l7.72-7.72 1.47 1.35L5.41 20z\"/>\n",
              "  </svg>\n",
              "      </button>\n",
              "      \n",
              "  <style>\n",
              "    .colab-df-container {\n",
              "      display:flex;\n",
              "      flex-wrap:wrap;\n",
              "      gap: 12px;\n",
              "    }\n",
              "\n",
              "    .colab-df-convert {\n",
              "      background-color: #E8F0FE;\n",
              "      border: none;\n",
              "      border-radius: 50%;\n",
              "      cursor: pointer;\n",
              "      display: none;\n",
              "      fill: #1967D2;\n",
              "      height: 32px;\n",
              "      padding: 0 0 0 0;\n",
              "      width: 32px;\n",
              "    }\n",
              "\n",
              "    .colab-df-convert:hover {\n",
              "      background-color: #E2EBFA;\n",
              "      box-shadow: 0px 1px 2px rgba(60, 64, 67, 0.3), 0px 1px 3px 1px rgba(60, 64, 67, 0.15);\n",
              "      fill: #174EA6;\n",
              "    }\n",
              "\n",
              "    [theme=dark] .colab-df-convert {\n",
              "      background-color: #3B4455;\n",
              "      fill: #D2E3FC;\n",
              "    }\n",
              "\n",
              "    [theme=dark] .colab-df-convert:hover {\n",
              "      background-color: #434B5C;\n",
              "      box-shadow: 0px 1px 3px 1px rgba(0, 0, 0, 0.15);\n",
              "      filter: drop-shadow(0px 1px 2px rgba(0, 0, 0, 0.3));\n",
              "      fill: #FFFFFF;\n",
              "    }\n",
              "  </style>\n",
              "\n",
              "      <script>\n",
              "        const buttonEl =\n",
              "          document.querySelector('#df-132d7eff-acd2-461d-84b3-e8dae541b2db button.colab-df-convert');\n",
              "        buttonEl.style.display =\n",
              "          google.colab.kernel.accessAllowed ? 'block' : 'none';\n",
              "\n",
              "        async function convertToInteractive(key) {\n",
              "          const element = document.querySelector('#df-132d7eff-acd2-461d-84b3-e8dae541b2db');\n",
              "          const dataTable =\n",
              "            await google.colab.kernel.invokeFunction('convertToInteractive',\n",
              "                                                     [key], {});\n",
              "          if (!dataTable) return;\n",
              "\n",
              "          const docLinkHtml = 'Like what you see? Visit the ' +\n",
              "            '<a target=\"_blank\" href=https://colab.research.google.com/notebooks/data_table.ipynb>data table notebook</a>'\n",
              "            + ' to learn more about interactive tables.';\n",
              "          element.innerHTML = '';\n",
              "          dataTable['output_type'] = 'display_data';\n",
              "          await google.colab.output.renderOutput(dataTable, element);\n",
              "          const docLink = document.createElement('div');\n",
              "          docLink.innerHTML = docLinkHtml;\n",
              "          element.appendChild(docLink);\n",
              "        }\n",
              "      </script>\n",
              "    </div>\n",
              "  </div>\n",
              "  "
            ]
          },
          "metadata": {},
          "execution_count": 43
        }
      ]
    },
    {
      "cell_type": "markdown",
      "source": [
        "## XGBoost"
      ],
      "metadata": {
        "id": "guAVXmhRgu7G"
      },
      "id": "guAVXmhRgu7G"
    },
    {
      "cell_type": "code",
      "source": [
        "model_xgb = XGBClassifier(\n",
        "    seed = 500,\n",
        "    n_estimators = 200,\n",
        "    learning_rate = 0.7,\n",
        "    use_label_encoder = False)\n",
        "\n",
        "\n",
        "model_xgb.fit(X_balanced, y_balanced)"
      ],
      "metadata": {
        "colab": {
          "base_uri": "https://localhost:8080/"
        },
        "id": "nS8IWoTUfpHt",
        "outputId": "382df6fa-bf65-4c0d-e629-79f663c4bdab"
      },
      "id": "nS8IWoTUfpHt",
      "execution_count": null,
      "outputs": [
        {
          "output_type": "execute_result",
          "data": {
            "text/plain": [
              "XGBClassifier(learning_rate=0.7, n_estimators=200, seed=500,\n",
              "              use_label_encoder=False)"
            ]
          },
          "metadata": {},
          "execution_count": 145
        }
      ]
    },
    {
      "cell_type": "code",
      "source": [
        "print(classification_report(y_true=y_balanced,\n",
        "                            y_pred=model_xgb.predict(X_balanced),\n",
        "                            target_names=[\"Not Overdue\", \"Overdue\"],\n",
        "                            digits=5))\n",
        "\n",
        "print(classification_report(y_true=y_test_balanced,\n",
        "                            y_pred=model_xgb.predict(X_test_balanced),\n",
        "                            target_names=[\"Not Overdue\", \"Overdue\"],\n",
        "                            digits=5))"
      ],
      "metadata": {
        "colab": {
          "base_uri": "https://localhost:8080/"
        },
        "id": "eL0ZJwjOfnKd",
        "outputId": "631ccf63-79e1-4750-afda-eebb2d2ebdd7"
      },
      "id": "eL0ZJwjOfnKd",
      "execution_count": null,
      "outputs": [
        {
          "output_type": "stream",
          "name": "stdout",
          "text": [
            "              precision    recall  f1-score   support\n",
            "\n",
            " Not Overdue    0.89430   0.96761   0.92952     14358\n",
            "     Overdue    0.96472   0.88564   0.92349     14358\n",
            "\n",
            "    accuracy                        0.92663     28716\n",
            "   macro avg    0.92951   0.92663   0.92650     28716\n",
            "weighted avg    0.92951   0.92663   0.92650     28716\n",
            "\n",
            "              precision    recall  f1-score   support\n",
            "\n",
            " Not Overdue    0.84315   0.95661   0.89630      6153\n",
            "     Overdue    0.94986   0.82204   0.88134      6153\n",
            "\n",
            "    accuracy                        0.88932     12306\n",
            "   macro avg    0.89650   0.88932   0.88882     12306\n",
            "weighted avg    0.89650   0.88932   0.88882     12306\n",
            "\n"
          ]
        }
      ]
    },
    {
      "cell_type": "markdown",
      "source": [
        "# Evaluasi Model"
      ],
      "metadata": {
        "id": "bDDU3dBK7-pX"
      },
      "id": "bDDU3dBK7-pX"
    },
    {
      "cell_type": "code",
      "source": [
        "importance = pd.Series(\n",
        "    model_xgb.feature_importances_,\n",
        "    index=X_balanced.columns\n",
        "    ).sort_values().tail(10).plot.barh(title=\"Top 10 Feature Importances\")"
      ],
      "metadata": {
        "colab": {
          "base_uri": "https://localhost:8080/",
          "height": 281
        },
        "id": "QV5fxfwNJW4g",
        "outputId": "5e1ff58f-ce03-4057-8f01-670b7e6d9b19"
      },
      "id": "QV5fxfwNJW4g",
      "execution_count": null,
      "outputs": [
        {
          "output_type": "display_data",
          "data": {
            "text/plain": [
              "<Figure size 432x288 with 1 Axes>"
            ],
            "image/png": "[encoded data removed]"
          },
          "metadata": {
            "needs_background": "light"
          }
        }
      ]
    },
    {
      "cell_type": "code",
      "source": [
        "# Visualsasi perbandingan model\n",
        "\n",
        "f, axes = plt.subplots(2, 1, figsize=(14, 10))\n",
        "\n",
        "predict.sort_values(by=['Score Train'], ascending=False, inplace=True)\n",
        "\n",
        "sns.barplot(x=\"Score Train\", y=\"Method\", data = predict, palette='Blues_d', ax=axes[0])\n",
        "# axes[0].set(xlabel=\"Region\", ylabel='Charges')\n",
        "axes[0].set_xlabel(\"Score Train\", size=16)\n",
        "axes[0].set_ylabel=('Method')\n",
        "axes[0].set_xlim(0, 1.0)\n",
        "axes[0].set_xticks(np.arange(0, 1.1, 0.1))\n",
        "\n",
        "predict.sort_values(by=['Score Test'], ascending=False, inplace=True)\n",
        "\n",
        "sns.barplot(x=\"Score Test\", y=\"Method\", data = predict, palette='Greens_d', ax=axes[1])\n",
        "# axes[0].set(xlabel=\"Region\", ylabel='Charges')\n",
        "axes[1].set_xlabel(\"Score Test\", size=16)\n",
        "axes[1].set_ylabel('Method')\n",
        "axes[1].set_xlim(0, 1.0)\n",
        "axes[1].set_xticks(np.arange(0, 1.1, 0.1))\n",
        "\n",
        "plt.show()"
      ],
      "metadata": {
        "colab": {
          "base_uri": "https://localhost:8080/",
          "height": 611
        },
        "id": "lgQhciXs31gT",
        "outputId": "e2e18cba-fe85-4357-92e0-a12085cc7489"
      },
      "id": "lgQhciXs31gT",
      "execution_count": null,
      "outputs": [
        {
          "output_type": "display_data",
          "data": {
            "text/plain": [
              "<Figure size 1008x720 with 2 Axes>"
            ],
            "image/png": "[encoded data removed]"
          },
          "metadata": {
            "needs_background": "light"
          }
        }
      ]
    },
    {
      "cell_type": "markdown",
      "source": [
        "# Testing Prediction"
      ],
      "metadata": {
        "id": "bbZjzrdL-P5z"
      },
      "id": "bbZjzrdL-P5z"
    },
    {
      "cell_type": "code",
      "source": [
        "testing = pd.read_csv(\"/content/drive/MyDrive/Celerates/Project Akhir/data_test.csv\")\n",
        "\n",
        "testing.head()"
      ],
      "metadata": {
        "colab": {
          "base_uri": "https://localhost:8080/",
          "height": 374
        },
        "id": "Wklj8RfD4sel",
        "outputId": "a93f2eff-8d75-4bdb-d92c-332dafed07a9"
      },
      "id": "Wklj8RfD4sel",
      "execution_count": null,
      "outputs": [
        {
          "output_type": "execute_result",
          "data": {
            "text/plain": [
              "   Id_customer         JK KepemilikanMobil KepemilikanProperti  JmlAnak  \\\n",
              "0      5142248  Perempuan            Tidak                  Ya        0   \n",
              "1      5036925  Perempuan               Ya                  Ya        0   \n",
              "2      5126080  Perempuan            Tidak                  Ya        1   \n",
              "3      5088887  Perempuan            Tidak                  Ya        0   \n",
              "4      5022156  Perempuan               Ya                  Ya        2   \n",
              "\n",
              "   Pendapatan      TipePendapatan TingkatPendidikan StatusKeluarga  \\\n",
              "0    225000.0                 PNS          Graduate        Menikah   \n",
              "1    157500.0  Asosiasi komersial          Graduate        Menikah   \n",
              "2    112500.0                 PNS          Graduate        Menikah   \n",
              "3    171000.0             Bekerja          Graduate  Belum Menikah   \n",
              "4    180000.0  Asosiasi komersial      Postgraduate        Menikah   \n",
              "\n",
              "        TipeRumah  FlagMobile  FlagWorkPhone  FlagPhone  Email  \\\n",
              "0   Rumah pribadi           1              0          0      0   \n",
              "1   Rumah pribadi           1              1          1      1   \n",
              "2   Rumah pribadi           1              0          0      0   \n",
              "3  Sewa Apartemen           1              0          0      0   \n",
              "4   Rumah pribadi           1              0          1      1   \n",
              "\n",
              "               Pekerjaan  JmlAnggotaKeluarga   Age  Experience  \n",
              "0  Private service staff                 2.0  54.0         6.0  \n",
              "1             Core staff                 2.0  33.0         8.0  \n",
              "2               Managers                 3.0  41.0         7.0  \n",
              "3               Laborers                 1.0  46.0         2.0  \n",
              "4                    NaN                 4.0  32.0         8.0  "
            ],
            "text/html": [
              "\n",
              "  <div id=\"df-19030656-a8c6-4f7c-bfb0-f0e6bee9194c\">\n",
              "    <div class=\"colab-df-container\">\n",
              "      <div>\n",
              "<style scoped>\n",
              "    .dataframe tbody tr th:only-of-type {\n",
              "        vertical-align: middle;\n",
              "    }\n",
              "\n",
              "    .dataframe tbody tr th {\n",
              "        vertical-align: top;\n",
              "    }\n",
              "\n",
              "    .dataframe thead th {\n",
              "        text-align: right;\n",
              "    }\n",
              "</style>\n",
              "<table border=\"1\" class=\"dataframe\">\n",
              "  <thead>\n",
              "    <tr style=\"text-align: right;\">\n",
              "      <th></th>\n",
              "      <th>Id_customer</th>\n",
              "      <th>JK</th>\n",
              "      <th>KepemilikanMobil</th>\n",
              "      <th>KepemilikanProperti</th>\n",
              "      <th>JmlAnak</th>\n",
              "      <th>Pendapatan</th>\n",
              "      <th>TipePendapatan</th>\n",
              "      <th>TingkatPendidikan</th>\n",
              "      <th>StatusKeluarga</th>\n",
              "      <th>TipeRumah</th>\n",
              "      <th>FlagMobile</th>\n",
              "      <th>FlagWorkPhone</th>\n",
              "      <th>FlagPhone</th>\n",
              "      <th>Email</th>\n",
              "      <th>Pekerjaan</th>\n",
              "      <th>JmlAnggotaKeluarga</th>\n",
              "      <th>Age</th>\n",
              "      <th>Experience</th>\n",
              "    </tr>\n",
              "  </thead>\n",
              "  <tbody>\n",
              "    <tr>\n",
              "      <th>0</th>\n",
              "      <td>5142248</td>\n",
              "      <td>Perempuan</td>\n",
              "      <td>Tidak</td>\n",
              "      <td>Ya</td>\n",
              "      <td>0</td>\n",
              "      <td>225000.0</td>\n",
              "      <td>PNS</td>\n",
              "      <td>Graduate</td>\n",
              "      <td>Menikah</td>\n",
              "      <td>Rumah pribadi</td>\n",
              "      <td>1</td>\n",
              "      <td>0</td>\n",
              "      <td>0</td>\n",
              "      <td>0</td>\n",
              "      <td>Private service staff</td>\n",
              "      <td>2.0</td>\n",
              "      <td>54.0</td>\n",
              "      <td>6.0</td>\n",
              "    </tr>\n",
              "    <tr>\n",
              "      <th>1</th>\n",
              "      <td>5036925</td>\n",
              "      <td>Perempuan</td>\n",
              "      <td>Ya</td>\n",
              "      <td>Ya</td>\n",
              "      <td>0</td>\n",
              "      <td>157500.0</td>\n",
              "      <td>Asosiasi komersial</td>\n",
              "      <td>Graduate</td>\n",
              "      <td>Menikah</td>\n",
              "      <td>Rumah pribadi</td>\n",
              "      <td>1</td>\n",
              "      <td>1</td>\n",
              "      <td>1</td>\n",
              "      <td>1</td>\n",
              "      <td>Core staff</td>\n",
              "      <td>2.0</td>\n",
              "      <td>33.0</td>\n",
              "      <td>8.0</td>\n",
              "    </tr>\n",
              "    <tr>\n",
              "      <th>2</th>\n",
              "      <td>5126080</td>\n",
              "      <td>Perempuan</td>\n",
              "      <td>Tidak</td>\n",
              "      <td>Ya</td>\n",
              "      <td>1</td>\n",
              "      <td>112500.0</td>\n",
              "      <td>PNS</td>\n",
              "      <td>Graduate</td>\n",
              "      <td>Menikah</td>\n",
              "      <td>Rumah pribadi</td>\n",
              "      <td>1</td>\n",
              "      <td>0</td>\n",
              "      <td>0</td>\n",
              "      <td>0</td>\n",
              "      <td>Managers</td>\n",
              "      <td>3.0</td>\n",
              "      <td>41.0</td>\n",
              "      <td>7.0</td>\n",
              "    </tr>\n",
              "    <tr>\n",
              "      <th>3</th>\n",
              "      <td>5088887</td>\n",
              "      <td>Perempuan</td>\n",
              "      <td>Tidak</td>\n",
              "      <td>Ya</td>\n",
              "      <td>0</td>\n",
              "      <td>171000.0</td>\n",
              "      <td>Bekerja</td>\n",
              "      <td>Graduate</td>\n",
              "      <td>Belum Menikah</td>\n",
              "      <td>Sewa Apartemen</td>\n",
              "      <td>1</td>\n",
              "      <td>0</td>\n",
              "      <td>0</td>\n",
              "      <td>0</td>\n",
              "      <td>Laborers</td>\n",
              "      <td>1.0</td>\n",
              "      <td>46.0</td>\n",
              "      <td>2.0</td>\n",
              "    </tr>\n",
              "    <tr>\n",
              "      <th>4</th>\n",
              "      <td>5022156</td>\n",
              "      <td>Perempuan</td>\n",
              "      <td>Ya</td>\n",
              "      <td>Ya</td>\n",
              "      <td>2</td>\n",
              "      <td>180000.0</td>\n",
              "      <td>Asosiasi komersial</td>\n",
              "      <td>Postgraduate</td>\n",
              "      <td>Menikah</td>\n",
              "      <td>Rumah pribadi</td>\n",
              "      <td>1</td>\n",
              "      <td>0</td>\n",
              "      <td>1</td>\n",
              "      <td>1</td>\n",
              "      <td>NaN</td>\n",
              "      <td>4.0</td>\n",
              "      <td>32.0</td>\n",
              "      <td>8.0</td>\n",
              "    </tr>\n",
              "  </tbody>\n",
              "</table>\n",
              "</div>\n",
              "      <button class=\"colab-df-convert\" onclick=\"convertToInteractive('df-19030656-a8c6-4f7c-bfb0-f0e6bee9194c')\"\n",
              "              title=\"Convert this dataframe to an interactive table.\"\n",
              "              style=\"display:none;\">\n",
              "        \n",
              "  <svg xmlns=\"http://www.w3.org/2000/svg\" height=\"24px\"viewBox=\"0 0 24 24\"\n",
              "       width=\"24px\">\n",
              "    <path d=\"M0 0h24v24H0V0z\" fill=\"none\"/>\n",
              "    <path d=\"M18.56 5.44l.94 2.06.94-2.06 2.06-.94-2.06-.94-.94-2.06-.94 2.06-2.06.94zm-11 1L8.5 8.5l.94-2.06 2.06-.94-2.06-.94L8.5 2.5l-.94 2.06-2.06.94zm10 10l.94 2.06.94-2.06 2.06-.94-2.06-.94-.94-2.06-.94 2.06-2.06.94z\"/><path d=\"M17.41 7.96l-1.37-1.37c-.4-.4-.92-.59-1.43-.59-.52 0-1.04.2-1.43.59L10.3 9.45l-7.72 7.72c-.78.78-.78 2.05 0 2.83L4 21.41c.39.39.9.59 1.41.59.51 0 1.02-.2 1.41-.59l7.78-7.78 2.81-2.81c.8-.78.8-2.07 0-2.86zM5.41 20L4 18.59l7.72-7.72 1.47 1.35L5.41 20z\"/>\n",
              "  </svg>\n",
              "      </button>\n",
              "      \n",
              "  <style>\n",
              "    .colab-df-container {\n",
              "      display:flex;\n",
              "      flex-wrap:wrap;\n",
              "      gap: 12px;\n",
              "    }\n",
              "\n",
              "    .colab-df-convert {\n",
              "      background-color: #E8F0FE;\n",
              "      border: none;\n",
              "      border-radius: 50%;\n",
              "      cursor: pointer;\n",
              "      display: none;\n",
              "      fill: #1967D2;\n",
              "      height: 32px;\n",
              "      padding: 0 0 0 0;\n",
              "      width: 32px;\n",
              "    }\n",
              "\n",
              "    .colab-df-convert:hover {\n",
              "      background-color: #E2EBFA;\n",
              "      box-shadow: 0px 1px 2px rgba(60, 64, 67, 0.3), 0px 1px 3px 1px rgba(60, 64, 67, 0.15);\n",
              "      fill: #174EA6;\n",
              "    }\n",
              "\n",
              "    [theme=dark] .colab-df-convert {\n",
              "      background-color: #3B4455;\n",
              "      fill: #D2E3FC;\n",
              "    }\n",
              "\n",
              "    [theme=dark] .colab-df-convert:hover {\n",
              "      background-color: #434B5C;\n",
              "      box-shadow: 0px 1px 3px 1px rgba(0, 0, 0, 0.15);\n",
              "      filter: drop-shadow(0px 1px 2px rgba(0, 0, 0, 0.3));\n",
              "      fill: #FFFFFF;\n",
              "    }\n",
              "  </style>\n",
              "\n",
              "      <script>\n",
              "        const buttonEl =\n",
              "          document.querySelector('#df-19030656-a8c6-4f7c-bfb0-f0e6bee9194c button.colab-df-convert');\n",
              "        buttonEl.style.display =\n",
              "          google.colab.kernel.accessAllowed ? 'block' : 'none';\n",
              "\n",
              "        async function convertToInteractive(key) {\n",
              "          const element = document.querySelector('#df-19030656-a8c6-4f7c-bfb0-f0e6bee9194c');\n",
              "          const dataTable =\n",
              "            await google.colab.kernel.invokeFunction('convertToInteractive',\n",
              "                                                     [key], {});\n",
              "          if (!dataTable) return;\n",
              "\n",
              "          const docLinkHtml = 'Like what you see? Visit the ' +\n",
              "            '<a target=\"_blank\" href=https://colab.research.google.com/notebooks/data_table.ipynb>data table notebook</a>'\n",
              "            + ' to learn more about interactive tables.';\n",
              "          element.innerHTML = '';\n",
              "          dataTable['output_type'] = 'display_data';\n",
              "          await google.colab.output.renderOutput(dataTable, element);\n",
              "          const docLink = document.createElement('div');\n",
              "          docLink.innerHTML = docLinkHtml;\n",
              "          element.appendChild(docLink);\n",
              "        }\n",
              "      </script>\n",
              "    </div>\n",
              "  </div>\n",
              "  "
            ]
          },
          "metadata": {},
          "execution_count": 46
        }
      ]
    },
    {
      "cell_type": "code",
      "source": [
        "testing = testing.drop(['FlagMobile'], axis=1)\n",
        "\n",
        "testing.head()"
      ],
      "metadata": {
        "colab": {
          "base_uri": "https://localhost:8080/",
          "height": 374
        },
        "id": "QyXBnv5qQutU",
        "outputId": "cd080701-74f3-430c-f817-e95fc6b35fd3"
      },
      "id": "QyXBnv5qQutU",
      "execution_count": null,
      "outputs": [
        {
          "output_type": "execute_result",
          "data": {
            "text/plain": [
              "   Id_customer         JK KepemilikanMobil KepemilikanProperti  JmlAnak  \\\n",
              "0      5142248  Perempuan            Tidak                  Ya        0   \n",
              "1      5036925  Perempuan               Ya                  Ya        0   \n",
              "2      5126080  Perempuan            Tidak                  Ya        1   \n",
              "3      5088887  Perempuan            Tidak                  Ya        0   \n",
              "4      5022156  Perempuan               Ya                  Ya        2   \n",
              "\n",
              "   Pendapatan      TipePendapatan TingkatPendidikan StatusKeluarga  \\\n",
              "0    225000.0                 PNS          Graduate        Menikah   \n",
              "1    157500.0  Asosiasi komersial          Graduate        Menikah   \n",
              "2    112500.0                 PNS          Graduate        Menikah   \n",
              "3    171000.0             Bekerja          Graduate  Belum Menikah   \n",
              "4    180000.0  Asosiasi komersial      Postgraduate        Menikah   \n",
              "\n",
              "        TipeRumah  FlagWorkPhone  FlagPhone  Email              Pekerjaan  \\\n",
              "0   Rumah pribadi              0          0      0  Private service staff   \n",
              "1   Rumah pribadi              1          1      1             Core staff   \n",
              "2   Rumah pribadi              0          0      0               Managers   \n",
              "3  Sewa Apartemen              0          0      0               Laborers   \n",
              "4   Rumah pribadi              0          1      1                    NaN   \n",
              "\n",
              "   JmlAnggotaKeluarga   Age  Experience  \n",
              "0                 2.0  54.0         6.0  \n",
              "1                 2.0  33.0         8.0  \n",
              "2                 3.0  41.0         7.0  \n",
              "3                 1.0  46.0         2.0  \n",
              "4                 4.0  32.0         8.0  "
            ],
            "text/html": [
              "\n",
              "  <div id=\"df-d32b22e9-1e8a-4253-afc8-eb59759cceed\">\n",
              "    <div class=\"colab-df-container\">\n",
              "      <div>\n",
              "<style scoped>\n",
              "    .dataframe tbody tr th:only-of-type {\n",
              "        vertical-align: middle;\n",
              "    }\n",
              "\n",
              "    .dataframe tbody tr th {\n",
              "        vertical-align: top;\n",
              "    }\n",
              "\n",
              "    .dataframe thead th {\n",
              "        text-align: right;\n",
              "    }\n",
              "</style>\n",
              "<table border=\"1\" class=\"dataframe\">\n",
              "  <thead>\n",
              "    <tr style=\"text-align: right;\">\n",
              "      <th></th>\n",
              "      <th>Id_customer</th>\n",
              "      <th>JK</th>\n",
              "      <th>KepemilikanMobil</th>\n",
              "      <th>KepemilikanProperti</th>\n",
              "      <th>JmlAnak</th>\n",
              "      <th>Pendapatan</th>\n",
              "      <th>TipePendapatan</th>\n",
              "      <th>TingkatPendidikan</th>\n",
              "      <th>StatusKeluarga</th>\n",
              "      <th>TipeRumah</th>\n",
              "      <th>FlagWorkPhone</th>\n",
              "      <th>FlagPhone</th>\n",
              "      <th>Email</th>\n",
              "      <th>Pekerjaan</th>\n",
              "      <th>JmlAnggotaKeluarga</th>\n",
              "      <th>Age</th>\n",
              "      <th>Experience</th>\n",
              "    </tr>\n",
              "  </thead>\n",
              "  <tbody>\n",
              "    <tr>\n",
              "      <th>0</th>\n",
              "      <td>5142248</td>\n",
              "      <td>Perempuan</td>\n",
              "      <td>Tidak</td>\n",
              "      <td>Ya</td>\n",
              "      <td>0</td>\n",
              "      <td>225000.0</td>\n",
              "      <td>PNS</td>\n",
              "      <td>Graduate</td>\n",
              "      <td>Menikah</td>\n",
              "      <td>Rumah pribadi</td>\n",
              "      <td>0</td>\n",
              "      <td>0</td>\n",
              "      <td>0</td>\n",
              "      <td>Private service staff</td>\n",
              "      <td>2.0</td>\n",
              "      <td>54.0</td>\n",
              "      <td>6.0</td>\n",
              "    </tr>\n",
              "    <tr>\n",
              "      <th>1</th>\n",
              "      <td>5036925</td>\n",
              "      <td>Perempuan</td>\n",
              "      <td>Ya</td>\n",
              "      <td>Ya</td>\n",
              "      <td>0</td>\n",
              "      <td>157500.0</td>\n",
              "      <td>Asosiasi komersial</td>\n",
              "      <td>Graduate</td>\n",
              "      <td>Menikah</td>\n",
              "      <td>Rumah pribadi</td>\n",
              "      <td>1</td>\n",
              "      <td>1</td>\n",
              "      <td>1</td>\n",
              "      <td>Core staff</td>\n",
              "      <td>2.0</td>\n",
              "      <td>33.0</td>\n",
              "      <td>8.0</td>\n",
              "    </tr>\n",
              "    <tr>\n",
              "      <th>2</th>\n",
              "      <td>5126080</td>\n",
              "      <td>Perempuan</td>\n",
              "      <td>Tidak</td>\n",
              "      <td>Ya</td>\n",
              "      <td>1</td>\n",
              "      <td>112500.0</td>\n",
              "      <td>PNS</td>\n",
              "      <td>Graduate</td>\n",
              "      <td>Menikah</td>\n",
              "      <td>Rumah pribadi</td>\n",
              "      <td>0</td>\n",
              "      <td>0</td>\n",
              "      <td>0</td>\n",
              "      <td>Managers</td>\n",
              "      <td>3.0</td>\n",
              "      <td>41.0</td>\n",
              "      <td>7.0</td>\n",
              "    </tr>\n",
              "    <tr>\n",
              "      <th>3</th>\n",
              "      <td>5088887</td>\n",
              "      <td>Perempuan</td>\n",
              "      <td>Tidak</td>\n",
              "      <td>Ya</td>\n",
              "      <td>0</td>\n",
              "      <td>171000.0</td>\n",
              "      <td>Bekerja</td>\n",
              "      <td>Graduate</td>\n",
              "      <td>Belum Menikah</td>\n",
              "      <td>Sewa Apartemen</td>\n",
              "      <td>0</td>\n",
              "      <td>0</td>\n",
              "      <td>0</td>\n",
              "      <td>Laborers</td>\n",
              "      <td>1.0</td>\n",
              "      <td>46.0</td>\n",
              "      <td>2.0</td>\n",
              "    </tr>\n",
              "    <tr>\n",
              "      <th>4</th>\n",
              "      <td>5022156</td>\n",
              "      <td>Perempuan</td>\n",
              "      <td>Ya</td>\n",
              "      <td>Ya</td>\n",
              "      <td>2</td>\n",
              "      <td>180000.0</td>\n",
              "      <td>Asosiasi komersial</td>\n",
              "      <td>Postgraduate</td>\n",
              "      <td>Menikah</td>\n",
              "      <td>Rumah pribadi</td>\n",
              "      <td>0</td>\n",
              "      <td>1</td>\n",
              "      <td>1</td>\n",
              "      <td>NaN</td>\n",
              "      <td>4.0</td>\n",
              "      <td>32.0</td>\n",
              "      <td>8.0</td>\n",
              "    </tr>\n",
              "  </tbody>\n",
              "</table>\n",
              "</div>\n",
              "      <button class=\"colab-df-convert\" onclick=\"convertToInteractive('df-d32b22e9-1e8a-4253-afc8-eb59759cceed')\"\n",
              "              title=\"Convert this dataframe to an interactive table.\"\n",
              "              style=\"display:none;\">\n",
              "        \n",
              "  <svg xmlns=\"http://www.w3.org/2000/svg\" height=\"24px\"viewBox=\"0 0 24 24\"\n",
              "       width=\"24px\">\n",
              "    <path d=\"M0 0h24v24H0V0z\" fill=\"none\"/>\n",
              "    <path d=\"M18.56 5.44l.94 2.06.94-2.06 2.06-.94-2.06-.94-.94-2.06-.94 2.06-2.06.94zm-11 1L8.5 8.5l.94-2.06 2.06-.94-2.06-.94L8.5 2.5l-.94 2.06-2.06.94zm10 10l.94 2.06.94-2.06 2.06-.94-2.06-.94-.94-2.06-.94 2.06-2.06.94z\"/><path d=\"M17.41 7.96l-1.37-1.37c-.4-.4-.92-.59-1.43-.59-.52 0-1.04.2-1.43.59L10.3 9.45l-7.72 7.72c-.78.78-.78 2.05 0 2.83L4 21.41c.39.39.9.59 1.41.59.51 0 1.02-.2 1.41-.59l7.78-7.78 2.81-2.81c.8-.78.8-2.07 0-2.86zM5.41 20L4 18.59l7.72-7.72 1.47 1.35L5.41 20z\"/>\n",
              "  </svg>\n",
              "      </button>\n",
              "      \n",
              "  <style>\n",
              "    .colab-df-container {\n",
              "      display:flex;\n",
              "      flex-wrap:wrap;\n",
              "      gap: 12px;\n",
              "    }\n",
              "\n",
              "    .colab-df-convert {\n",
              "      background-color: #E8F0FE;\n",
              "      border: none;\n",
              "      border-radius: 50%;\n",
              "      cursor: pointer;\n",
              "      display: none;\n",
              "      fill: #1967D2;\n",
              "      height: 32px;\n",
              "      padding: 0 0 0 0;\n",
              "      width: 32px;\n",
              "    }\n",
              "\n",
              "    .colab-df-convert:hover {\n",
              "      background-color: #E2EBFA;\n",
              "      box-shadow: 0px 1px 2px rgba(60, 64, 67, 0.3), 0px 1px 3px 1px rgba(60, 64, 67, 0.15);\n",
              "      fill: #174EA6;\n",
              "    }\n",
              "\n",
              "    [theme=dark] .colab-df-convert {\n",
              "      background-color: #3B4455;\n",
              "      fill: #D2E3FC;\n",
              "    }\n",
              "\n",
              "    [theme=dark] .colab-df-convert:hover {\n",
              "      background-color: #434B5C;\n",
              "      box-shadow: 0px 1px 3px 1px rgba(0, 0, 0, 0.15);\n",
              "      filter: drop-shadow(0px 1px 2px rgba(0, 0, 0, 0.3));\n",
              "      fill: #FFFFFF;\n",
              "    }\n",
              "  </style>\n",
              "\n",
              "      <script>\n",
              "        const buttonEl =\n",
              "          document.querySelector('#df-d32b22e9-1e8a-4253-afc8-eb59759cceed button.colab-df-convert');\n",
              "        buttonEl.style.display =\n",
              "          google.colab.kernel.accessAllowed ? 'block' : 'none';\n",
              "\n",
              "        async function convertToInteractive(key) {\n",
              "          const element = document.querySelector('#df-d32b22e9-1e8a-4253-afc8-eb59759cceed');\n",
              "          const dataTable =\n",
              "            await google.colab.kernel.invokeFunction('convertToInteractive',\n",
              "                                                     [key], {});\n",
              "          if (!dataTable) return;\n",
              "\n",
              "          const docLinkHtml = 'Like what you see? Visit the ' +\n",
              "            '<a target=\"_blank\" href=https://colab.research.google.com/notebooks/data_table.ipynb>data table notebook</a>'\n",
              "            + ' to learn more about interactive tables.';\n",
              "          element.innerHTML = '';\n",
              "          dataTable['output_type'] = 'display_data';\n",
              "          await google.colab.output.renderOutput(dataTable, element);\n",
              "          const docLink = document.createElement('div');\n",
              "          docLink.innerHTML = docLinkHtml;\n",
              "          element.appendChild(docLink);\n",
              "        }\n",
              "      </script>\n",
              "    </div>\n",
              "  </div>\n",
              "  "
            ]
          },
          "metadata": {},
          "execution_count": 47
        }
      ]
    },
    {
      "cell_type": "code",
      "source": [
        "sns.boxplot(testing['JmlAnggotaKeluarga'])"
      ],
      "metadata": {
        "colab": {
          "base_uri": "https://localhost:8080/",
          "height": 354
        },
        "id": "aX3eUpEVSicj",
        "outputId": "15919b53-ac88-49ed-b86c-e724902fef23"
      },
      "id": "aX3eUpEVSicj",
      "execution_count": null,
      "outputs": [
        {
          "output_type": "stream",
          "name": "stderr",
          "text": [
            "/usr/local/lib/python3.8/dist-packages/seaborn/_decorators.py:36: FutureWarning: Pass the following variable as a keyword arg: x. From version 0.12, the only valid positional argument will be `data`, and passing other arguments without an explicit keyword will result in an error or misinterpretation.\n",
            "  warnings.warn(\n"
          ]
        },
        {
          "output_type": "execute_result",
          "data": {
            "text/plain": [
              "<matplotlib.axes._subplots.AxesSubplot at 0x7f0e6a23f6a0>"
            ]
          },
          "metadata": {},
          "execution_count": 48
        },
        {
          "output_type": "display_data",
          "data": {
            "text/plain": [
              "<Figure size 432x288 with 1 Axes>"
            ],
            "image/png": "[encoded data removed]"
          },
          "metadata": {
            "needs_background": "light"
          }
        }
      ]
    },
    {
      "cell_type": "code",
      "source": [
        "sns.boxplot(testing['JmlAnak'])"
      ],
      "metadata": {
        "colab": {
          "base_uri": "https://localhost:8080/",
          "height": 354
        },
        "id": "wgb_H88OTbF0",
        "outputId": "5b57fdce-1918-430e-8cb1-8b902041089e"
      },
      "id": "wgb_H88OTbF0",
      "execution_count": null,
      "outputs": [
        {
          "output_type": "stream",
          "name": "stderr",
          "text": [
            "/usr/local/lib/python3.8/dist-packages/seaborn/_decorators.py:36: FutureWarning: Pass the following variable as a keyword arg: x. From version 0.12, the only valid positional argument will be `data`, and passing other arguments without an explicit keyword will result in an error or misinterpretation.\n",
            "  warnings.warn(\n"
          ]
        },
        {
          "output_type": "execute_result",
          "data": {
            "text/plain": [
              "<matplotlib.axes._subplots.AxesSubplot at 0x7f0e6a1a1f40>"
            ]
          },
          "metadata": {},
          "execution_count": 49
        },
        {
          "output_type": "display_data",
          "data": {
            "text/plain": [
              "<Figure size 432x288 with 1 Axes>"
            ],
            "image/png": "[encoded data removed]"
          },
          "metadata": {
            "needs_background": "light"
          }
        }
      ]
    },
    {
      "cell_type": "code",
      "source": [
        "sns.boxplot(testing['Experience'])"
      ],
      "metadata": {
        "colab": {
          "base_uri": "https://localhost:8080/",
          "height": 354
        },
        "id": "DZdFG6i5TuhU",
        "outputId": "72845db7-fb5b-4e17-cfb0-d7891704413e"
      },
      "id": "DZdFG6i5TuhU",
      "execution_count": null,
      "outputs": [
        {
          "output_type": "stream",
          "name": "stderr",
          "text": [
            "/usr/local/lib/python3.8/dist-packages/seaborn/_decorators.py:36: FutureWarning: Pass the following variable as a keyword arg: x. From version 0.12, the only valid positional argument will be `data`, and passing other arguments without an explicit keyword will result in an error or misinterpretation.\n",
            "  warnings.warn(\n"
          ]
        },
        {
          "output_type": "execute_result",
          "data": {
            "text/plain": [
              "<matplotlib.axes._subplots.AxesSubplot at 0x7f0e6a1813d0>"
            ]
          },
          "metadata": {},
          "execution_count": 50
        },
        {
          "output_type": "display_data",
          "data": {
            "text/plain": [
              "<Figure size 432x288 with 1 Axes>"
            ],
            "image/png": "[encoded data removed]"
          },
          "metadata": {
            "needs_background": "light"
          }
        }
      ]
    },
    {
      "cell_type": "code",
      "source": [
        "testing.isnull().mean() * 100"
      ],
      "metadata": {
        "colab": {
          "base_uri": "https://localhost:8080/"
        },
        "id": "UfkV_Y2eEWix",
        "outputId": "70527232-97bd-44df-d10e-f180e76fd54c"
      },
      "id": "UfkV_Y2eEWix",
      "execution_count": null,
      "outputs": [
        {
          "output_type": "execute_result",
          "data": {
            "text/plain": [
              "Id_customer             0.0\n",
              "JK                      0.0\n",
              "KepemilikanMobil        0.0\n",
              "KepemilikanProperti     0.0\n",
              "JmlAnak                 0.0\n",
              "Pendapatan              0.0\n",
              "TipePendapatan          0.0\n",
              "TingkatPendidikan       0.0\n",
              "StatusKeluarga          0.0\n",
              "TipeRumah               0.0\n",
              "FlagWorkPhone           0.0\n",
              "FlagPhone               0.0\n",
              "Email                   0.0\n",
              "Pekerjaan              29.5\n",
              "JmlAnggotaKeluarga      0.0\n",
              "Age                     0.0\n",
              "Experience              0.0\n",
              "dtype: float64"
            ]
          },
          "metadata": {},
          "execution_count": 51
        }
      ]
    },
    {
      "cell_type": "code",
      "source": [
        "testing = testing.dropna(subset=['Pekerjaan'], inplace=False)"
      ],
      "metadata": {
        "id": "IvTYf4IEElqX"
      },
      "id": "IvTYf4IEElqX",
      "execution_count": null,
      "outputs": []
    },
    {
      "cell_type": "code",
      "source": [
        "testing.info()"
      ],
      "metadata": {
        "colab": {
          "base_uri": "https://localhost:8080/"
        },
        "id": "wp05GbO66lNc",
        "outputId": "a7ee756b-0b20-4cfb-a4e2-fd2dd9ed4774"
      },
      "id": "wp05GbO66lNc",
      "execution_count": null,
      "outputs": [
        {
          "output_type": "stream",
          "name": "stdout",
          "text": [
            "<class 'pandas.core.frame.DataFrame'>\n",
            "Int64Index: 141 entries, 0 to 199\n",
            "Data columns (total 17 columns):\n",
            " #   Column               Non-Null Count  Dtype  \n",
            "---  ------               --------------  -----  \n",
            " 0   Id_customer          141 non-null    int64  \n",
            " 1   JK                   141 non-null    object \n",
            " 2   KepemilikanMobil     141 non-null    object \n",
            " 3   KepemilikanProperti  141 non-null    object \n",
            " 4   JmlAnak              141 non-null    int64  \n",
            " 5   Pendapatan           141 non-null    float64\n",
            " 6   TipePendapatan       141 non-null    object \n",
            " 7   TingkatPendidikan    141 non-null    object \n",
            " 8   StatusKeluarga       141 non-null    object \n",
            " 9   TipeRumah            141 non-null    object \n",
            " 10  FlagWorkPhone        141 non-null    int64  \n",
            " 11  FlagPhone            141 non-null    int64  \n",
            " 12  Email                141 non-null    int64  \n",
            " 13  Pekerjaan            141 non-null    object \n",
            " 14  JmlAnggotaKeluarga   141 non-null    float64\n",
            " 15  Age                  141 non-null    float64\n",
            " 16  Experience           141 non-null    float64\n",
            "dtypes: float64(4), int64(5), object(8)\n",
            "memory usage: 19.8+ KB\n"
          ]
        }
      ]
    },
    {
      "cell_type": "code",
      "source": [
        "columns_test = testing.select_dtypes('object').columns.to_list()\n",
        "\n",
        "columns_test"
      ],
      "metadata": {
        "colab": {
          "base_uri": "https://localhost:8080/"
        },
        "id": "dKjtD9Vj667d",
        "outputId": "2c7d9115-86db-47b6-9c0c-3eb62562f940"
      },
      "id": "dKjtD9Vj667d",
      "execution_count": null,
      "outputs": [
        {
          "output_type": "execute_result",
          "data": {
            "text/plain": [
              "['JK',\n",
              " 'KepemilikanMobil',\n",
              " 'KepemilikanProperti',\n",
              " 'TipePendapatan',\n",
              " 'TingkatPendidikan',\n",
              " 'StatusKeluarga',\n",
              " 'TipeRumah',\n",
              " 'Pekerjaan']"
            ]
          },
          "metadata": {},
          "execution_count": 54
        }
      ]
    },
    {
      "cell_type": "code",
      "source": [
        "testing[columns_test] = testing[columns_test].astype('category')"
      ],
      "metadata": {
        "id": "Hnti-dtO7QFC"
      },
      "id": "Hnti-dtO7QFC",
      "execution_count": null,
      "outputs": []
    },
    {
      "cell_type": "code",
      "source": [
        "columns_test = testing.select_dtypes('category').columns\n",
        "encoder = OneHotEncoder(sparse=False)\n",
        "encoder.fit(testing[columns_test])"
      ],
      "metadata": {
        "colab": {
          "base_uri": "https://localhost:8080/"
        },
        "id": "BVtJ4Irp7YdM",
        "outputId": "f12c40db-f660-4492-d8ff-81cd63d62df2"
      },
      "id": "BVtJ4Irp7YdM",
      "execution_count": null,
      "outputs": [
        {
          "output_type": "execute_result",
          "data": {
            "text/plain": [
              "OneHotEncoder(sparse=False)"
            ]
          },
          "metadata": {},
          "execution_count": 59
        }
      ]
    },
    {
      "cell_type": "code",
      "source": [
        "test_encoded = pd.DataFrame(encoder.transform(testing[columns_test]),\n",
        "                              index=testing.index,\n",
        "                              columns=encoder.get_feature_names(testing[columns_test].columns))\n",
        "\n",
        "test_dummy = pd.concat([testing.select_dtypes(exclude=\"category\"),\n",
        "                          test_encoded], axis=1)\n",
        "\n",
        "test_dummy.head()"
      ],
      "metadata": {
        "colab": {
          "base_uri": "https://localhost:8080/",
          "height": 371
        },
        "id": "mqU9f2MT74lL",
        "outputId": "6eca066a-d050-4306-987f-a176d3551a96"
      },
      "id": "mqU9f2MT74lL",
      "execution_count": null,
      "outputs": [
        {
          "output_type": "stream",
          "name": "stderr",
          "text": [
            "/usr/local/lib/python3.8/dist-packages/sklearn/utils/deprecation.py:87: FutureWarning: Function get_feature_names is deprecated; get_feature_names is deprecated in 1.0 and will be removed in 1.2. Please use get_feature_names_out instead.\n",
            "  warnings.warn(msg, category=FutureWarning)\n"
          ]
        },
        {
          "output_type": "execute_result",
          "data": {
            "text/plain": [
              "   Id_customer  JmlAnak  Pendapatan  FlagWorkPhone  FlagPhone  Email  \\\n",
              "0      5142248        0    225000.0              0          0      0   \n",
              "1      5036925        0    157500.0              1          1      1   \n",
              "2      5126080        1    112500.0              0          0      0   \n",
              "3      5088887        0    171000.0              0          0      0   \n",
              "6      5139764        0    337500.0              0          0      0   \n",
              "\n",
              "   JmlAnggotaKeluarga   Age  Experience  JK_Laki-laki  ...  \\\n",
              "0                 2.0  54.0         6.0           0.0  ...   \n",
              "1                 2.0  33.0         8.0           0.0  ...   \n",
              "2                 3.0  41.0         7.0           0.0  ...   \n",
              "3                 1.0  46.0         2.0           0.0  ...   \n",
              "6                 2.0  65.0        21.0           1.0  ...   \n",
              "\n",
              "   Pekerjaan_Core staff  Pekerjaan_Drivers  Pekerjaan_High skill tech staff  \\\n",
              "0                   0.0                0.0                              0.0   \n",
              "1                   1.0                0.0                              0.0   \n",
              "2                   0.0                0.0                              0.0   \n",
              "3                   0.0                0.0                              0.0   \n",
              "6                   0.0                0.0                              0.0   \n",
              "\n",
              "   Pekerjaan_Laborers  Pekerjaan_Managers  Pekerjaan_Medicine staff  \\\n",
              "0                 0.0                 0.0                       0.0   \n",
              "1                 0.0                 0.0                       0.0   \n",
              "2                 0.0                 1.0                       0.0   \n",
              "3                 1.0                 0.0                       0.0   \n",
              "6                 1.0                 0.0                       0.0   \n",
              "\n",
              "   Pekerjaan_Private service staff  Pekerjaan_Sales staff  \\\n",
              "0                              1.0                    0.0   \n",
              "1                              0.0                    0.0   \n",
              "2                              0.0                    0.0   \n",
              "3                              0.0                    0.0   \n",
              "6                              0.0                    0.0   \n",
              "\n",
              "   Pekerjaan_Security staff  Pekerjaan_Waiters/barmen staff  \n",
              "0                       0.0                             0.0  \n",
              "1                       0.0                             0.0  \n",
              "2                       0.0                             0.0  \n",
              "3                       0.0                             0.0  \n",
              "6                       0.0                             0.0  \n",
              "\n",
              "[5 rows x 42 columns]"
            ],
            "text/html": [
              "\n",
              "  <div id=\"df-c3158cbc-2180-49e5-b42d-645a9dbbfe9b\">\n",
              "    <div class=\"colab-df-container\">\n",
              "      <div>\n",
              "<style scoped>\n",
              "    .dataframe tbody tr th:only-of-type {\n",
              "        vertical-align: middle;\n",
              "    }\n",
              "\n",
              "    .dataframe tbody tr th {\n",
              "        vertical-align: top;\n",
              "    }\n",
              "\n",
              "    .dataframe thead th {\n",
              "        text-align: right;\n",
              "    }\n",
              "</style>\n",
              "<table border=\"1\" class=\"dataframe\">\n",
              "  <thead>\n",
              "    <tr style=\"text-align: right;\">\n",
              "      <th></th>\n",
              "      <th>Id_customer</th>\n",
              "      <th>JmlAnak</th>\n",
              "      <th>Pendapatan</th>\n",
              "      <th>FlagWorkPhone</th>\n",
              "      <th>FlagPhone</th>\n",
              "      <th>Email</th>\n",
              "      <th>JmlAnggotaKeluarga</th>\n",
              "      <th>Age</th>\n",
              "      <th>Experience</th>\n",
              "      <th>JK_Laki-laki</th>\n",
              "      <th>...</th>\n",
              "      <th>Pekerjaan_Core staff</th>\n",
              "      <th>Pekerjaan_Drivers</th>\n",
              "      <th>Pekerjaan_High skill tech staff</th>\n",
              "      <th>Pekerjaan_Laborers</th>\n",
              "      <th>Pekerjaan_Managers</th>\n",
              "      <th>Pekerjaan_Medicine staff</th>\n",
              "      <th>Pekerjaan_Private service staff</th>\n",
              "      <th>Pekerjaan_Sales staff</th>\n",
              "      <th>Pekerjaan_Security staff</th>\n",
              "      <th>Pekerjaan_Waiters/barmen staff</th>\n",
              "    </tr>\n",
              "  </thead>\n",
              "  <tbody>\n",
              "    <tr>\n",
              "      <th>0</th>\n",
              "      <td>5142248</td>\n",
              "      <td>0</td>\n",
              "      <td>225000.0</td>\n",
              "      <td>0</td>\n",
              "      <td>0</td>\n",
              "      <td>0</td>\n",
              "      <td>2.0</td>\n",
              "      <td>54.0</td>\n",
              "      <td>6.0</td>\n",
              "      <td>0.0</td>\n",
              "      <td>...</td>\n",
              "      <td>0.0</td>\n",
              "      <td>0.0</td>\n",
              "      <td>0.0</td>\n",
              "      <td>0.0</td>\n",
              "      <td>0.0</td>\n",
              "      <td>0.0</td>\n",
              "      <td>1.0</td>\n",
              "      <td>0.0</td>\n",
              "      <td>0.0</td>\n",
              "      <td>0.0</td>\n",
              "    </tr>\n",
              "    <tr>\n",
              "      <th>1</th>\n",
              "      <td>5036925</td>\n",
              "      <td>0</td>\n",
              "      <td>157500.0</td>\n",
              "      <td>1</td>\n",
              "      <td>1</td>\n",
              "      <td>1</td>\n",
              "      <td>2.0</td>\n",
              "      <td>33.0</td>\n",
              "      <td>8.0</td>\n",
              "      <td>0.0</td>\n",
              "      <td>...</td>\n",
              "      <td>1.0</td>\n",
              "      <td>0.0</td>\n",
              "      <td>0.0</td>\n",
              "      <td>0.0</td>\n",
              "      <td>0.0</td>\n",
              "      <td>0.0</td>\n",
              "      <td>0.0</td>\n",
              "      <td>0.0</td>\n",
              "      <td>0.0</td>\n",
              "      <td>0.0</td>\n",
              "    </tr>\n",
              "    <tr>\n",
              "      <th>2</th>\n",
              "      <td>5126080</td>\n",
              "      <td>1</td>\n",
              "      <td>112500.0</td>\n",
              "      <td>0</td>\n",
              "      <td>0</td>\n",
              "      <td>0</td>\n",
              "      <td>3.0</td>\n",
              "      <td>41.0</td>\n",
              "      <td>7.0</td>\n",
              "      <td>0.0</td>\n",
              "      <td>...</td>\n",
              "      <td>0.0</td>\n",
              "      <td>0.0</td>\n",
              "      <td>0.0</td>\n",
              "      <td>0.0</td>\n",
              "      <td>1.0</td>\n",
              "      <td>0.0</td>\n",
              "      <td>0.0</td>\n",
              "      <td>0.0</td>\n",
              "      <td>0.0</td>\n",
              "      <td>0.0</td>\n",
              "    </tr>\n",
              "    <tr>\n",
              "      <th>3</th>\n",
              "      <td>5088887</td>\n",
              "      <td>0</td>\n",
              "      <td>171000.0</td>\n",
              "      <td>0</td>\n",
              "      <td>0</td>\n",
              "      <td>0</td>\n",
              "      <td>1.0</td>\n",
              "      <td>46.0</td>\n",
              "      <td>2.0</td>\n",
              "      <td>0.0</td>\n",
              "      <td>...</td>\n",
              "      <td>0.0</td>\n",
              "      <td>0.0</td>\n",
              "      <td>0.0</td>\n",
              "      <td>1.0</td>\n",
              "      <td>0.0</td>\n",
              "      <td>0.0</td>\n",
              "      <td>0.0</td>\n",
              "      <td>0.0</td>\n",
              "      <td>0.0</td>\n",
              "      <td>0.0</td>\n",
              "    </tr>\n",
              "    <tr>\n",
              "      <th>6</th>\n",
              "      <td>5139764</td>\n",
              "      <td>0</td>\n",
              "      <td>337500.0</td>\n",
              "      <td>0</td>\n",
              "      <td>0</td>\n",
              "      <td>0</td>\n",
              "      <td>2.0</td>\n",
              "      <td>65.0</td>\n",
              "      <td>21.0</td>\n",
              "      <td>1.0</td>\n",
              "      <td>...</td>\n",
              "      <td>0.0</td>\n",
              "      <td>0.0</td>\n",
              "      <td>0.0</td>\n",
              "      <td>1.0</td>\n",
              "      <td>0.0</td>\n",
              "      <td>0.0</td>\n",
              "      <td>0.0</td>\n",
              "      <td>0.0</td>\n",
              "      <td>0.0</td>\n",
              "      <td>0.0</td>\n",
              "    </tr>\n",
              "  </tbody>\n",
              "</table>\n",
              "<p>5 rows × 42 columns</p>\n",
              "</div>\n",
              "      <button class=\"colab-df-convert\" onclick=\"convertToInteractive('df-c3158cbc-2180-49e5-b42d-645a9dbbfe9b')\"\n",
              "              title=\"Convert this dataframe to an interactive table.\"\n",
              "              style=\"display:none;\">\n",
              "        \n",
              "  <svg xmlns=\"http://www.w3.org/2000/svg\" height=\"24px\"viewBox=\"0 0 24 24\"\n",
              "       width=\"24px\">\n",
              "    <path d=\"M0 0h24v24H0V0z\" fill=\"none\"/>\n",
              "    <path d=\"M18.56 5.44l.94 2.06.94-2.06 2.06-.94-2.06-.94-.94-2.06-.94 2.06-2.06.94zm-11 1L8.5 8.5l.94-2.06 2.06-.94-2.06-.94L8.5 2.5l-.94 2.06-2.06.94zm10 10l.94 2.06.94-2.06 2.06-.94-2.06-.94-.94-2.06-.94 2.06-2.06.94z\"/><path d=\"M17.41 7.96l-1.37-1.37c-.4-.4-.92-.59-1.43-.59-.52 0-1.04.2-1.43.59L10.3 9.45l-7.72 7.72c-.78.78-.78 2.05 0 2.83L4 21.41c.39.39.9.59 1.41.59.51 0 1.02-.2 1.41-.59l7.78-7.78 2.81-2.81c.8-.78.8-2.07 0-2.86zM5.41 20L4 18.59l7.72-7.72 1.47 1.35L5.41 20z\"/>\n",
              "  </svg>\n",
              "      </button>\n",
              "      \n",
              "  <style>\n",
              "    .colab-df-container {\n",
              "      display:flex;\n",
              "      flex-wrap:wrap;\n",
              "      gap: 12px;\n",
              "    }\n",
              "\n",
              "    .colab-df-convert {\n",
              "      background-color: #E8F0FE;\n",
              "      border: none;\n",
              "      border-radius: 50%;\n",
              "      cursor: pointer;\n",
              "      display: none;\n",
              "      fill: #1967D2;\n",
              "      height: 32px;\n",
              "      padding: 0 0 0 0;\n",
              "      width: 32px;\n",
              "    }\n",
              "\n",
              "    .colab-df-convert:hover {\n",
              "      background-color: #E2EBFA;\n",
              "      box-shadow: 0px 1px 2px rgba(60, 64, 67, 0.3), 0px 1px 3px 1px rgba(60, 64, 67, 0.15);\n",
              "      fill: #174EA6;\n",
              "    }\n",
              "\n",
              "    [theme=dark] .colab-df-convert {\n",
              "      background-color: #3B4455;\n",
              "      fill: #D2E3FC;\n",
              "    }\n",
              "\n",
              "    [theme=dark] .colab-df-convert:hover {\n",
              "      background-color: #434B5C;\n",
              "      box-shadow: 0px 1px 3px 1px rgba(0, 0, 0, 0.15);\n",
              "      filter: drop-shadow(0px 1px 2px rgba(0, 0, 0, 0.3));\n",
              "      fill: #FFFFFF;\n",
              "    }\n",
              "  </style>\n",
              "\n",
              "      <script>\n",
              "        const buttonEl =\n",
              "          document.querySelector('#df-c3158cbc-2180-49e5-b42d-645a9dbbfe9b button.colab-df-convert');\n",
              "        buttonEl.style.display =\n",
              "          google.colab.kernel.accessAllowed ? 'block' : 'none';\n",
              "\n",
              "        async function convertToInteractive(key) {\n",
              "          const element = document.querySelector('#df-c3158cbc-2180-49e5-b42d-645a9dbbfe9b');\n",
              "          const dataTable =\n",
              "            await google.colab.kernel.invokeFunction('convertToInteractive',\n",
              "                                                     [key], {});\n",
              "          if (!dataTable) return;\n",
              "\n",
              "          const docLinkHtml = 'Like what you see? Visit the ' +\n",
              "            '<a target=\"_blank\" href=https://colab.research.google.com/notebooks/data_table.ipynb>data table notebook</a>'\n",
              "            + ' to learn more about interactive tables.';\n",
              "          element.innerHTML = '';\n",
              "          dataTable['output_type'] = 'display_data';\n",
              "          await google.colab.output.renderOutput(dataTable, element);\n",
              "          const docLink = document.createElement('div');\n",
              "          docLink.innerHTML = docLinkHtml;\n",
              "          element.appendChild(docLink);\n",
              "        }\n",
              "      </script>\n",
              "    </div>\n",
              "  </div>\n",
              "  "
            ]
          },
          "metadata": {},
          "execution_count": 60
        }
      ]
    },
    {
      "cell_type": "code",
      "source": [
        "# test_dummy = test_dummy.values()\n",
        "\n",
        "xgpred = model_xgb.predict(test_dummy, validate_features=False)\n",
        "\n",
        "# xgpred = model_xgb.predict(test_dummy)\n",
        "print(xgpred)"
      ],
      "metadata": {
        "colab": {
          "base_uri": "https://localhost:8080/"
        },
        "id": "ZUZp0lsD57fU",
        "outputId": "c6d2f8ac-9b6c-42a5-9ed0-060850f19367"
      },
      "id": "ZUZp0lsD57fU",
      "execution_count": null,
      "outputs": [
        {
          "output_type": "stream",
          "name": "stdout",
          "text": [
            "[0 0 0 0 0 1 0 0 0 0 0 1 0 0 0 0 0 1 0 0 0 0 0 0 0 0 0 0 0 0 0 0 0 0 0 0 0\n",
            " 0 1 0 0 0 0 0 0 1 0 0 0 0 0 0 1 0 0 0 0 0 0 0 0 0 0 0 1 0 0 0 0 1 0 1 0 0\n",
            " 0 0 0 0 1 0 0 0 0 0 0 0 1 1 1 0 0 0 0 1 0 0 0 0 0 0 0 0 1 0 0 0 0 0 0 0 0\n",
            " 0 0 0 0 0 1 0 0 0 0 0 0 0 0 0 0 0 0 0 0 0 0 0 0 0 0 0 0 0 0]\n"
          ]
        }
      ]
    },
    {
      "cell_type": "code",
      "source": [
        "prediction = pd.DataFrame({'Id_customer':testing.Id_customer,'Overdue': xgpred })"
      ],
      "metadata": {
        "id": "Gv9a0wj3CTAB"
      },
      "id": "Gv9a0wj3CTAB",
      "execution_count": null,
      "outputs": []
    },
    {
      "cell_type": "code",
      "source": [
        "prediction.head()"
      ],
      "metadata": {
        "colab": {
          "base_uri": "https://localhost:8080/",
          "height": 206
        },
        "id": "mmNNkyznCi-y",
        "outputId": "b7f4a27a-96e9-43f3-97ce-d56ba545059d"
      },
      "id": "mmNNkyznCi-y",
      "execution_count": null,
      "outputs": [
        {
          "output_type": "execute_result",
          "data": {
            "text/plain": [
              "   Id_customer  Overdue\n",
              "0      5142248        0\n",
              "1      5036925        0\n",
              "2      5126080        0\n",
              "3      5088887        0\n",
              "6      5139764        0"
            ],
            "text/html": [
              "\n",
              "  <div id=\"df-942e565d-2e89-40b0-ab54-dacd1195587c\">\n",
              "    <div class=\"colab-df-container\">\n",
              "      <div>\n",
              "<style scoped>\n",
              "    .dataframe tbody tr th:only-of-type {\n",
              "        vertical-align: middle;\n",
              "    }\n",
              "\n",
              "    .dataframe tbody tr th {\n",
              "        vertical-align: top;\n",
              "    }\n",
              "\n",
              "    .dataframe thead th {\n",
              "        text-align: right;\n",
              "    }\n",
              "</style>\n",
              "<table border=\"1\" class=\"dataframe\">\n",
              "  <thead>\n",
              "    <tr style=\"text-align: right;\">\n",
              "      <th></th>\n",
              "      <th>Id_customer</th>\n",
              "      <th>Overdue</th>\n",
              "    </tr>\n",
              "  </thead>\n",
              "  <tbody>\n",
              "    <tr>\n",
              "      <th>0</th>\n",
              "      <td>5142248</td>\n",
              "      <td>0</td>\n",
              "    </tr>\n",
              "    <tr>\n",
              "      <th>1</th>\n",
              "      <td>5036925</td>\n",
              "      <td>0</td>\n",
              "    </tr>\n",
              "    <tr>\n",
              "      <th>2</th>\n",
              "      <td>5126080</td>\n",
              "      <td>0</td>\n",
              "    </tr>\n",
              "    <tr>\n",
              "      <th>3</th>\n",
              "      <td>5088887</td>\n",
              "      <td>0</td>\n",
              "    </tr>\n",
              "    <tr>\n",
              "      <th>6</th>\n",
              "      <td>5139764</td>\n",
              "      <td>0</td>\n",
              "    </tr>\n",
              "  </tbody>\n",
              "</table>\n",
              "</div>\n",
              "      <button class=\"colab-df-convert\" onclick=\"convertToInteractive('df-942e565d-2e89-40b0-ab54-dacd1195587c')\"\n",
              "              title=\"Convert this dataframe to an interactive table.\"\n",
              "              style=\"display:none;\">\n",
              "        \n",
              "  <svg xmlns=\"http://www.w3.org/2000/svg\" height=\"24px\"viewBox=\"0 0 24 24\"\n",
              "       width=\"24px\">\n",
              "    <path d=\"M0 0h24v24H0V0z\" fill=\"none\"/>\n",
              "    <path d=\"M18.56 5.44l.94 2.06.94-2.06 2.06-.94-2.06-.94-.94-2.06-.94 2.06-2.06.94zm-11 1L8.5 8.5l.94-2.06 2.06-.94-2.06-.94L8.5 2.5l-.94 2.06-2.06.94zm10 10l.94 2.06.94-2.06 2.06-.94-2.06-.94-.94-2.06-.94 2.06-2.06.94z\"/><path d=\"M17.41 7.96l-1.37-1.37c-.4-.4-.92-.59-1.43-.59-.52 0-1.04.2-1.43.59L10.3 9.45l-7.72 7.72c-.78.78-.78 2.05 0 2.83L4 21.41c.39.39.9.59 1.41.59.51 0 1.02-.2 1.41-.59l7.78-7.78 2.81-2.81c.8-.78.8-2.07 0-2.86zM5.41 20L4 18.59l7.72-7.72 1.47 1.35L5.41 20z\"/>\n",
              "  </svg>\n",
              "      </button>\n",
              "      \n",
              "  <style>\n",
              "    .colab-df-container {\n",
              "      display:flex;\n",
              "      flex-wrap:wrap;\n",
              "      gap: 12px;\n",
              "    }\n",
              "\n",
              "    .colab-df-convert {\n",
              "      background-color: #E8F0FE;\n",
              "      border: none;\n",
              "      border-radius: 50%;\n",
              "      cursor: pointer;\n",
              "      display: none;\n",
              "      fill: #1967D2;\n",
              "      height: 32px;\n",
              "      padding: 0 0 0 0;\n",
              "      width: 32px;\n",
              "    }\n",
              "\n",
              "    .colab-df-convert:hover {\n",
              "      background-color: #E2EBFA;\n",
              "      box-shadow: 0px 1px 2px rgba(60, 64, 67, 0.3), 0px 1px 3px 1px rgba(60, 64, 67, 0.15);\n",
              "      fill: #174EA6;\n",
              "    }\n",
              "\n",
              "    [theme=dark] .colab-df-convert {\n",
              "      background-color: #3B4455;\n",
              "      fill: #D2E3FC;\n",
              "    }\n",
              "\n",
              "    [theme=dark] .colab-df-convert:hover {\n",
              "      background-color: #434B5C;\n",
              "      box-shadow: 0px 1px 3px 1px rgba(0, 0, 0, 0.15);\n",
              "      filter: drop-shadow(0px 1px 2px rgba(0, 0, 0, 0.3));\n",
              "      fill: #FFFFFF;\n",
              "    }\n",
              "  </style>\n",
              "\n",
              "      <script>\n",
              "        const buttonEl =\n",
              "          document.querySelector('#df-942e565d-2e89-40b0-ab54-dacd1195587c button.colab-df-convert');\n",
              "        buttonEl.style.display =\n",
              "          google.colab.kernel.accessAllowed ? 'block' : 'none';\n",
              "\n",
              "        async function convertToInteractive(key) {\n",
              "          const element = document.querySelector('#df-942e565d-2e89-40b0-ab54-dacd1195587c');\n",
              "          const dataTable =\n",
              "            await google.colab.kernel.invokeFunction('convertToInteractive',\n",
              "                                                     [key], {});\n",
              "          if (!dataTable) return;\n",
              "\n",
              "          const docLinkHtml = 'Like what you see? Visit the ' +\n",
              "            '<a target=\"_blank\" href=https://colab.research.google.com/notebooks/data_table.ipynb>data table notebook</a>'\n",
              "            + ' to learn more about interactive tables.';\n",
              "          element.innerHTML = '';\n",
              "          dataTable['output_type'] = 'display_data';\n",
              "          await google.colab.output.renderOutput(dataTable, element);\n",
              "          const docLink = document.createElement('div');\n",
              "          docLink.innerHTML = docLinkHtml;\n",
              "          element.appendChild(docLink);\n",
              "        }\n",
              "      </script>\n",
              "    </div>\n",
              "  </div>\n",
              "  "
            ]
          },
          "metadata": {},
          "execution_count": 149
        }
      ]
    },
    {
      "cell_type": "code",
      "source": [
        "prediction['Overdue'].value_counts()"
      ],
      "metadata": {
        "colab": {
          "base_uri": "https://localhost:8080/"
        },
        "id": "UhDrlNkePaeo",
        "outputId": "d1c09a8e-bd53-4c47-cf03-ba173ae73a44"
      },
      "id": "UhDrlNkePaeo",
      "execution_count": null,
      "outputs": [
        {
          "output_type": "execute_result",
          "data": {
            "text/plain": [
              "0    125\n",
              "1     16\n",
              "Name: Overdue, dtype: int64"
            ]
          },
          "metadata": {},
          "execution_count": 150
        }
      ]
    },
    {
      "cell_type": "code",
      "source": [
        "df = pd.merge(testing, prediction, on=['Id_customer'], how='inner')"
      ],
      "metadata": {
        "id": "u0cGXweSQMqo"
      },
      "id": "u0cGXweSQMqo",
      "execution_count": null,
      "outputs": []
    },
    {
      "cell_type": "code",
      "source": [
        "df.head()"
      ],
      "metadata": {
        "colab": {
          "base_uri": "https://localhost:8080/",
          "height": 374
        },
        "id": "NZkppM7yRAff",
        "outputId": "07a62f95-15f5-49a5-c739-073f0e247925"
      },
      "id": "NZkppM7yRAff",
      "execution_count": null,
      "outputs": [
        {
          "output_type": "execute_result",
          "data": {
            "text/plain": [
              "   Id_customer         JK KepemilikanMobil KepemilikanProperti  JmlAnak  \\\n",
              "0      5142248  Perempuan            Tidak                  Ya        0   \n",
              "1      5036925  Perempuan               Ya                  Ya        0   \n",
              "2      5126080  Perempuan            Tidak                  Ya        1   \n",
              "3      5088887  Perempuan            Tidak                  Ya        0   \n",
              "4      5139764  Laki-laki               Ya                  Ya        0   \n",
              "\n",
              "   Pendapatan      TipePendapatan TingkatPendidikan StatusKeluarga  \\\n",
              "0    225000.0                 PNS          Graduate        Menikah   \n",
              "1    157500.0  Asosiasi komersial          Graduate        Menikah   \n",
              "2    112500.0                 PNS          Graduate        Menikah   \n",
              "3    171000.0             Bekerja          Graduate  Belum Menikah   \n",
              "4    337500.0             Bekerja      Postgraduate        Menikah   \n",
              "\n",
              "        TipeRumah  FlagWorkPhone  FlagPhone  Email              Pekerjaan  \\\n",
              "0   Rumah pribadi              0          0      0  Private service staff   \n",
              "1   Rumah pribadi              1          1      1             Core staff   \n",
              "2   Rumah pribadi              0          0      0               Managers   \n",
              "3  Sewa Apartemen              0          0      0               Laborers   \n",
              "4   Rumah pribadi              0          0      0               Laborers   \n",
              "\n",
              "   JmlAnggotaKeluarga   Age  Experience  Overdue  \n",
              "0                 2.0  54.0         6.0        0  \n",
              "1                 2.0  33.0         8.0        0  \n",
              "2                 3.0  41.0         7.0        0  \n",
              "3                 1.0  46.0         2.0        0  \n",
              "4                 2.0  65.0        21.0        0  "
            ],
            "text/html": [
              "\n",
              "  <div id=\"df-463146de-0956-4b0e-9c90-4b81f0e11cde\">\n",
              "    <div class=\"colab-df-container\">\n",
              "      <div>\n",
              "<style scoped>\n",
              "    .dataframe tbody tr th:only-of-type {\n",
              "        vertical-align: middle;\n",
              "    }\n",
              "\n",
              "    .dataframe tbody tr th {\n",
              "        vertical-align: top;\n",
              "    }\n",
              "\n",
              "    .dataframe thead th {\n",
              "        text-align: right;\n",
              "    }\n",
              "</style>\n",
              "<table border=\"1\" class=\"dataframe\">\n",
              "  <thead>\n",
              "    <tr style=\"text-align: right;\">\n",
              "      <th></th>\n",
              "      <th>Id_customer</th>\n",
              "      <th>JK</th>\n",
              "      <th>KepemilikanMobil</th>\n",
              "      <th>KepemilikanProperti</th>\n",
              "      <th>JmlAnak</th>\n",
              "      <th>Pendapatan</th>\n",
              "      <th>TipePendapatan</th>\n",
              "      <th>TingkatPendidikan</th>\n",
              "      <th>StatusKeluarga</th>\n",
              "      <th>TipeRumah</th>\n",
              "      <th>FlagWorkPhone</th>\n",
              "      <th>FlagPhone</th>\n",
              "      <th>Email</th>\n",
              "      <th>Pekerjaan</th>\n",
              "      <th>JmlAnggotaKeluarga</th>\n",
              "      <th>Age</th>\n",
              "      <th>Experience</th>\n",
              "      <th>Overdue</th>\n",
              "    </tr>\n",
              "  </thead>\n",
              "  <tbody>\n",
              "    <tr>\n",
              "      <th>0</th>\n",
              "      <td>5142248</td>\n",
              "      <td>Perempuan</td>\n",
              "      <td>Tidak</td>\n",
              "      <td>Ya</td>\n",
              "      <td>0</td>\n",
              "      <td>225000.0</td>\n",
              "      <td>PNS</td>\n",
              "      <td>Graduate</td>\n",
              "      <td>Menikah</td>\n",
              "      <td>Rumah pribadi</td>\n",
              "      <td>0</td>\n",
              "      <td>0</td>\n",
              "      <td>0</td>\n",
              "      <td>Private service staff</td>\n",
              "      <td>2.0</td>\n",
              "      <td>54.0</td>\n",
              "      <td>6.0</td>\n",
              "      <td>0</td>\n",
              "    </tr>\n",
              "    <tr>\n",
              "      <th>1</th>\n",
              "      <td>5036925</td>\n",
              "      <td>Perempuan</td>\n",
              "      <td>Ya</td>\n",
              "      <td>Ya</td>\n",
              "      <td>0</td>\n",
              "      <td>157500.0</td>\n",
              "      <td>Asosiasi komersial</td>\n",
              "      <td>Graduate</td>\n",
              "      <td>Menikah</td>\n",
              "      <td>Rumah pribadi</td>\n",
              "      <td>1</td>\n",
              "      <td>1</td>\n",
              "      <td>1</td>\n",
              "      <td>Core staff</td>\n",
              "      <td>2.0</td>\n",
              "      <td>33.0</td>\n",
              "      <td>8.0</td>\n",
              "      <td>0</td>\n",
              "    </tr>\n",
              "    <tr>\n",
              "      <th>2</th>\n",
              "      <td>5126080</td>\n",
              "      <td>Perempuan</td>\n",
              "      <td>Tidak</td>\n",
              "      <td>Ya</td>\n",
              "      <td>1</td>\n",
              "      <td>112500.0</td>\n",
              "      <td>PNS</td>\n",
              "      <td>Graduate</td>\n",
              "      <td>Menikah</td>\n",
              "      <td>Rumah pribadi</td>\n",
              "      <td>0</td>\n",
              "      <td>0</td>\n",
              "      <td>0</td>\n",
              "      <td>Managers</td>\n",
              "      <td>3.0</td>\n",
              "      <td>41.0</td>\n",
              "      <td>7.0</td>\n",
              "      <td>0</td>\n",
              "    </tr>\n",
              "    <tr>\n",
              "      <th>3</th>\n",
              "      <td>5088887</td>\n",
              "      <td>Perempuan</td>\n",
              "      <td>Tidak</td>\n",
              "      <td>Ya</td>\n",
              "      <td>0</td>\n",
              "      <td>171000.0</td>\n",
              "      <td>Bekerja</td>\n",
              "      <td>Graduate</td>\n",
              "      <td>Belum Menikah</td>\n",
              "      <td>Sewa Apartemen</td>\n",
              "      <td>0</td>\n",
              "      <td>0</td>\n",
              "      <td>0</td>\n",
              "      <td>Laborers</td>\n",
              "      <td>1.0</td>\n",
              "      <td>46.0</td>\n",
              "      <td>2.0</td>\n",
              "      <td>0</td>\n",
              "    </tr>\n",
              "    <tr>\n",
              "      <th>4</th>\n",
              "      <td>5139764</td>\n",
              "      <td>Laki-laki</td>\n",
              "      <td>Ya</td>\n",
              "      <td>Ya</td>\n",
              "      <td>0</td>\n",
              "      <td>337500.0</td>\n",
              "      <td>Bekerja</td>\n",
              "      <td>Postgraduate</td>\n",
              "      <td>Menikah</td>\n",
              "      <td>Rumah pribadi</td>\n",
              "      <td>0</td>\n",
              "      <td>0</td>\n",
              "      <td>0</td>\n",
              "      <td>Laborers</td>\n",
              "      <td>2.0</td>\n",
              "      <td>65.0</td>\n",
              "      <td>21.0</td>\n",
              "      <td>0</td>\n",
              "    </tr>\n",
              "  </tbody>\n",
              "</table>\n",
              "</div>\n",
              "      <button class=\"colab-df-convert\" onclick=\"convertToInteractive('df-463146de-0956-4b0e-9c90-4b81f0e11cde')\"\n",
              "              title=\"Convert this dataframe to an interactive table.\"\n",
              "              style=\"display:none;\">\n",
              "        \n",
              "  <svg xmlns=\"http://www.w3.org/2000/svg\" height=\"24px\"viewBox=\"0 0 24 24\"\n",
              "       width=\"24px\">\n",
              "    <path d=\"M0 0h24v24H0V0z\" fill=\"none\"/>\n",
              "    <path d=\"M18.56 5.44l.94 2.06.94-2.06 2.06-.94-2.06-.94-.94-2.06-.94 2.06-2.06.94zm-11 1L8.5 8.5l.94-2.06 2.06-.94-2.06-.94L8.5 2.5l-.94 2.06-2.06.94zm10 10l.94 2.06.94-2.06 2.06-.94-2.06-.94-.94-2.06-.94 2.06-2.06.94z\"/><path d=\"M17.41 7.96l-1.37-1.37c-.4-.4-.92-.59-1.43-.59-.52 0-1.04.2-1.43.59L10.3 9.45l-7.72 7.72c-.78.78-.78 2.05 0 2.83L4 21.41c.39.39.9.59 1.41.59.51 0 1.02-.2 1.41-.59l7.78-7.78 2.81-2.81c.8-.78.8-2.07 0-2.86zM5.41 20L4 18.59l7.72-7.72 1.47 1.35L5.41 20z\"/>\n",
              "  </svg>\n",
              "      </button>\n",
              "      \n",
              "  <style>\n",
              "    .colab-df-container {\n",
              "      display:flex;\n",
              "      flex-wrap:wrap;\n",
              "      gap: 12px;\n",
              "    }\n",
              "\n",
              "    .colab-df-convert {\n",
              "      background-color: #E8F0FE;\n",
              "      border: none;\n",
              "      border-radius: 50%;\n",
              "      cursor: pointer;\n",
              "      display: none;\n",
              "      fill: #1967D2;\n",
              "      height: 32px;\n",
              "      padding: 0 0 0 0;\n",
              "      width: 32px;\n",
              "    }\n",
              "\n",
              "    .colab-df-convert:hover {\n",
              "      background-color: #E2EBFA;\n",
              "      box-shadow: 0px 1px 2px rgba(60, 64, 67, 0.3), 0px 1px 3px 1px rgba(60, 64, 67, 0.15);\n",
              "      fill: #174EA6;\n",
              "    }\n",
              "\n",
              "    [theme=dark] .colab-df-convert {\n",
              "      background-color: #3B4455;\n",
              "      fill: #D2E3FC;\n",
              "    }\n",
              "\n",
              "    [theme=dark] .colab-df-convert:hover {\n",
              "      background-color: #434B5C;\n",
              "      box-shadow: 0px 1px 3px 1px rgba(0, 0, 0, 0.15);\n",
              "      filter: drop-shadow(0px 1px 2px rgba(0, 0, 0, 0.3));\n",
              "      fill: #FFFFFF;\n",
              "    }\n",
              "  </style>\n",
              "\n",
              "      <script>\n",
              "        const buttonEl =\n",
              "          document.querySelector('#df-463146de-0956-4b0e-9c90-4b81f0e11cde button.colab-df-convert');\n",
              "        buttonEl.style.display =\n",
              "          google.colab.kernel.accessAllowed ? 'block' : 'none';\n",
              "\n",
              "        async function convertToInteractive(key) {\n",
              "          const element = document.querySelector('#df-463146de-0956-4b0e-9c90-4b81f0e11cde');\n",
              "          const dataTable =\n",
              "            await google.colab.kernel.invokeFunction('convertToInteractive',\n",
              "                                                     [key], {});\n",
              "          if (!dataTable) return;\n",
              "\n",
              "          const docLinkHtml = 'Like what you see? Visit the ' +\n",
              "            '<a target=\"_blank\" href=https://colab.research.google.com/notebooks/data_table.ipynb>data table notebook</a>'\n",
              "            + ' to learn more about interactive tables.';\n",
              "          element.innerHTML = '';\n",
              "          dataTable['output_type'] = 'display_data';\n",
              "          await google.colab.output.renderOutput(dataTable, element);\n",
              "          const docLink = document.createElement('div');\n",
              "          docLink.innerHTML = docLinkHtml;\n",
              "          element.appendChild(docLink);\n",
              "        }\n",
              "      </script>\n",
              "    </div>\n",
              "  </div>\n",
              "  "
            ]
          },
          "metadata": {},
          "execution_count": 140
        }
      ]
    },
    {
      "cell_type": "code",
      "source": [
        "# Overdue\n",
        "df['Overdue'] = df['Overdue'].replace([0], 'Tepat Waktu')\n",
        "df['Overdue'] = df['Overdue'].replace([1], 'Tidak Tepat Waktu')"
      ],
      "metadata": {
        "id": "nBLm-9xbUXnu"
      },
      "id": "nBLm-9xbUXnu",
      "execution_count": null,
      "outputs": []
    },
    {
      "cell_type": "code",
      "source": [
        "# Data Boolean\n",
        "df['FlagWorkPhone'] = df['FlagWorkPhone'].replace([1], 'Ya')\n",
        "df['FlagWorkPhone'] = df['FlagWorkPhone'].replace([0], 'Tidak')\n",
        "df['FlagPhone'] = df['FlagPhone'].replace([1], 'Ya')\n",
        "df['FlagPhone'] = df['FlagPhone'].replace([0], 'Tidak')\n",
        "df['Email'] = df['Email'].replace([1], 'Ya')\n",
        "df['Email'] = df['Email'].replace([0], 'Tidak')"
      ],
      "metadata": {
        "id": "UOK0oXXeUbKj"
      },
      "id": "UOK0oXXeUbKj",
      "execution_count": null,
      "outputs": []
    },
    {
      "cell_type": "code",
      "source": [
        "df.head()"
      ],
      "metadata": {
        "colab": {
          "base_uri": "https://localhost:8080/",
          "height": 374
        },
        "id": "f5x20fxoU-3d",
        "outputId": "9da5a6fd-30ff-4aa4-a701-5102d42c6b4b"
      },
      "id": "f5x20fxoU-3d",
      "execution_count": null,
      "outputs": [
        {
          "output_type": "execute_result",
          "data": {
            "text/plain": [
              "   Id_customer         JK KepemilikanMobil KepemilikanProperti  JmlAnak  \\\n",
              "0      5142248  Perempuan            Tidak                  Ya        0   \n",
              "1      5036925  Perempuan               Ya                  Ya        0   \n",
              "2      5126080  Perempuan            Tidak                  Ya        1   \n",
              "3      5088887  Perempuan            Tidak                  Ya        0   \n",
              "4      5139764  Laki-laki               Ya                  Ya        0   \n",
              "\n",
              "   Pendapatan      TipePendapatan TingkatPendidikan StatusKeluarga  \\\n",
              "0    225000.0                 PNS          Graduate        Menikah   \n",
              "1    157500.0  Asosiasi komersial          Graduate        Menikah   \n",
              "2    112500.0                 PNS          Graduate        Menikah   \n",
              "3    171000.0             Bekerja          Graduate  Belum Menikah   \n",
              "4    337500.0             Bekerja      Postgraduate        Menikah   \n",
              "\n",
              "        TipeRumah FlagWorkPhone FlagPhone  Email              Pekerjaan  \\\n",
              "0   Rumah pribadi         Tidak     Tidak  Tidak  Private service staff   \n",
              "1   Rumah pribadi            Ya        Ya     Ya             Core staff   \n",
              "2   Rumah pribadi         Tidak     Tidak  Tidak               Managers   \n",
              "3  Sewa Apartemen         Tidak     Tidak  Tidak               Laborers   \n",
              "4   Rumah pribadi         Tidak     Tidak  Tidak               Laborers   \n",
              "\n",
              "   JmlAnggotaKeluarga   Age  Experience      Overdue  \n",
              "0                 2.0  54.0         6.0  Tepat Waktu  \n",
              "1                 2.0  33.0         8.0  Tepat Waktu  \n",
              "2                 3.0  41.0         7.0  Tepat Waktu  \n",
              "3                 1.0  46.0         2.0  Tepat Waktu  \n",
              "4                 2.0  65.0        21.0  Tepat Waktu  "
            ],
            "text/html": [
              "\n",
              "  <div id=\"df-5b3b5d6a-cbf1-4a63-a3d0-66400a810afd\">\n",
              "    <div class=\"colab-df-container\">\n",
              "      <div>\n",
              "<style scoped>\n",
              "    .dataframe tbody tr th:only-of-type {\n",
              "        vertical-align: middle;\n",
              "    }\n",
              "\n",
              "    .dataframe tbody tr th {\n",
              "        vertical-align: top;\n",
              "    }\n",
              "\n",
              "    .dataframe thead th {\n",
              "        text-align: right;\n",
              "    }\n",
              "</style>\n",
              "<table border=\"1\" class=\"dataframe\">\n",
              "  <thead>\n",
              "    <tr style=\"text-align: right;\">\n",
              "      <th></th>\n",
              "      <th>Id_customer</th>\n",
              "      <th>JK</th>\n",
              "      <th>KepemilikanMobil</th>\n",
              "      <th>KepemilikanProperti</th>\n",
              "      <th>JmlAnak</th>\n",
              "      <th>Pendapatan</th>\n",
              "      <th>TipePendapatan</th>\n",
              "      <th>TingkatPendidikan</th>\n",
              "      <th>StatusKeluarga</th>\n",
              "      <th>TipeRumah</th>\n",
              "      <th>FlagWorkPhone</th>\n",
              "      <th>FlagPhone</th>\n",
              "      <th>Email</th>\n",
              "      <th>Pekerjaan</th>\n",
              "      <th>JmlAnggotaKeluarga</th>\n",
              "      <th>Age</th>\n",
              "      <th>Experience</th>\n",
              "      <th>Overdue</th>\n",
              "    </tr>\n",
              "  </thead>\n",
              "  <tbody>\n",
              "    <tr>\n",
              "      <th>0</th>\n",
              "      <td>5142248</td>\n",
              "      <td>Perempuan</td>\n",
              "      <td>Tidak</td>\n",
              "      <td>Ya</td>\n",
              "      <td>0</td>\n",
              "      <td>225000.0</td>\n",
              "      <td>PNS</td>\n",
              "      <td>Graduate</td>\n",
              "      <td>Menikah</td>\n",
              "      <td>Rumah pribadi</td>\n",
              "      <td>Tidak</td>\n",
              "      <td>Tidak</td>\n",
              "      <td>Tidak</td>\n",
              "      <td>Private service staff</td>\n",
              "      <td>2.0</td>\n",
              "      <td>54.0</td>\n",
              "      <td>6.0</td>\n",
              "      <td>Tepat Waktu</td>\n",
              "    </tr>\n",
              "    <tr>\n",
              "      <th>1</th>\n",
              "      <td>5036925</td>\n",
              "      <td>Perempuan</td>\n",
              "      <td>Ya</td>\n",
              "      <td>Ya</td>\n",
              "      <td>0</td>\n",
              "      <td>157500.0</td>\n",
              "      <td>Asosiasi komersial</td>\n",
              "      <td>Graduate</td>\n",
              "      <td>Menikah</td>\n",
              "      <td>Rumah pribadi</td>\n",
              "      <td>Ya</td>\n",
              "      <td>Ya</td>\n",
              "      <td>Ya</td>\n",
              "      <td>Core staff</td>\n",
              "      <td>2.0</td>\n",
              "      <td>33.0</td>\n",
              "      <td>8.0</td>\n",
              "      <td>Tepat Waktu</td>\n",
              "    </tr>\n",
              "    <tr>\n",
              "      <th>2</th>\n",
              "      <td>5126080</td>\n",
              "      <td>Perempuan</td>\n",
              "      <td>Tidak</td>\n",
              "      <td>Ya</td>\n",
              "      <td>1</td>\n",
              "      <td>112500.0</td>\n",
              "      <td>PNS</td>\n",
              "      <td>Graduate</td>\n",
              "      <td>Menikah</td>\n",
              "      <td>Rumah pribadi</td>\n",
              "      <td>Tidak</td>\n",
              "      <td>Tidak</td>\n",
              "      <td>Tidak</td>\n",
              "      <td>Managers</td>\n",
              "      <td>3.0</td>\n",
              "      <td>41.0</td>\n",
              "      <td>7.0</td>\n",
              "      <td>Tepat Waktu</td>\n",
              "    </tr>\n",
              "    <tr>\n",
              "      <th>3</th>\n",
              "      <td>5088887</td>\n",
              "      <td>Perempuan</td>\n",
              "      <td>Tidak</td>\n",
              "      <td>Ya</td>\n",
              "      <td>0</td>\n",
              "      <td>171000.0</td>\n",
              "      <td>Bekerja</td>\n",
              "      <td>Graduate</td>\n",
              "      <td>Belum Menikah</td>\n",
              "      <td>Sewa Apartemen</td>\n",
              "      <td>Tidak</td>\n",
              "      <td>Tidak</td>\n",
              "      <td>Tidak</td>\n",
              "      <td>Laborers</td>\n",
              "      <td>1.0</td>\n",
              "      <td>46.0</td>\n",
              "      <td>2.0</td>\n",
              "      <td>Tepat Waktu</td>\n",
              "    </tr>\n",
              "    <tr>\n",
              "      <th>4</th>\n",
              "      <td>5139764</td>\n",
              "      <td>Laki-laki</td>\n",
              "      <td>Ya</td>\n",
              "      <td>Ya</td>\n",
              "      <td>0</td>\n",
              "      <td>337500.0</td>\n",
              "      <td>Bekerja</td>\n",
              "      <td>Postgraduate</td>\n",
              "      <td>Menikah</td>\n",
              "      <td>Rumah pribadi</td>\n",
              "      <td>Tidak</td>\n",
              "      <td>Tidak</td>\n",
              "      <td>Tidak</td>\n",
              "      <td>Laborers</td>\n",
              "      <td>2.0</td>\n",
              "      <td>65.0</td>\n",
              "      <td>21.0</td>\n",
              "      <td>Tepat Waktu</td>\n",
              "    </tr>\n",
              "  </tbody>\n",
              "</table>\n",
              "</div>\n",
              "      <button class=\"colab-df-convert\" onclick=\"convertToInteractive('df-5b3b5d6a-cbf1-4a63-a3d0-66400a810afd')\"\n",
              "              title=\"Convert this dataframe to an interactive table.\"\n",
              "              style=\"display:none;\">\n",
              "        \n",
              "  <svg xmlns=\"http://www.w3.org/2000/svg\" height=\"24px\"viewBox=\"0 0 24 24\"\n",
              "       width=\"24px\">\n",
              "    <path d=\"M0 0h24v24H0V0z\" fill=\"none\"/>\n",
              "    <path d=\"M18.56 5.44l.94 2.06.94-2.06 2.06-.94-2.06-.94-.94-2.06-.94 2.06-2.06.94zm-11 1L8.5 8.5l.94-2.06 2.06-.94-2.06-.94L8.5 2.5l-.94 2.06-2.06.94zm10 10l.94 2.06.94-2.06 2.06-.94-2.06-.94-.94-2.06-.94 2.06-2.06.94z\"/><path d=\"M17.41 7.96l-1.37-1.37c-.4-.4-.92-.59-1.43-.59-.52 0-1.04.2-1.43.59L10.3 9.45l-7.72 7.72c-.78.78-.78 2.05 0 2.83L4 21.41c.39.39.9.59 1.41.59.51 0 1.02-.2 1.41-.59l7.78-7.78 2.81-2.81c.8-.78.8-2.07 0-2.86zM5.41 20L4 18.59l7.72-7.72 1.47 1.35L5.41 20z\"/>\n",
              "  </svg>\n",
              "      </button>\n",
              "      \n",
              "  <style>\n",
              "    .colab-df-container {\n",
              "      display:flex;\n",
              "      flex-wrap:wrap;\n",
              "      gap: 12px;\n",
              "    }\n",
              "\n",
              "    .colab-df-convert {\n",
              "      background-color: #E8F0FE;\n",
              "      border: none;\n",
              "      border-radius: 50%;\n",
              "      cursor: pointer;\n",
              "      display: none;\n",
              "      fill: #1967D2;\n",
              "      height: 32px;\n",
              "      padding: 0 0 0 0;\n",
              "      width: 32px;\n",
              "    }\n",
              "\n",
              "    .colab-df-convert:hover {\n",
              "      background-color: #E2EBFA;\n",
              "      box-shadow: 0px 1px 2px rgba(60, 64, 67, 0.3), 0px 1px 3px 1px rgba(60, 64, 67, 0.15);\n",
              "      fill: #174EA6;\n",
              "    }\n",
              "\n",
              "    [theme=dark] .colab-df-convert {\n",
              "      background-color: #3B4455;\n",
              "      fill: #D2E3FC;\n",
              "    }\n",
              "\n",
              "    [theme=dark] .colab-df-convert:hover {\n",
              "      background-color: #434B5C;\n",
              "      box-shadow: 0px 1px 3px 1px rgba(0, 0, 0, 0.15);\n",
              "      filter: drop-shadow(0px 1px 2px rgba(0, 0, 0, 0.3));\n",
              "      fill: #FFFFFF;\n",
              "    }\n",
              "  </style>\n",
              "\n",
              "      <script>\n",
              "        const buttonEl =\n",
              "          document.querySelector('#df-5b3b5d6a-cbf1-4a63-a3d0-66400a810afd button.colab-df-convert');\n",
              "        buttonEl.style.display =\n",
              "          google.colab.kernel.accessAllowed ? 'block' : 'none';\n",
              "\n",
              "        async function convertToInteractive(key) {\n",
              "          const element = document.querySelector('#df-5b3b5d6a-cbf1-4a63-a3d0-66400a810afd');\n",
              "          const dataTable =\n",
              "            await google.colab.kernel.invokeFunction('convertToInteractive',\n",
              "                                                     [key], {});\n",
              "          if (!dataTable) return;\n",
              "\n",
              "          const docLinkHtml = 'Like what you see? Visit the ' +\n",
              "            '<a target=\"_blank\" href=https://colab.research.google.com/notebooks/data_table.ipynb>data table notebook</a>'\n",
              "            + ' to learn more about interactive tables.';\n",
              "          element.innerHTML = '';\n",
              "          dataTable['output_type'] = 'display_data';\n",
              "          await google.colab.output.renderOutput(dataTable, element);\n",
              "          const docLink = document.createElement('div');\n",
              "          docLink.innerHTML = docLinkHtml;\n",
              "          element.appendChild(docLink);\n",
              "        }\n",
              "      </script>\n",
              "    </div>\n",
              "  </div>\n",
              "  "
            ]
          },
          "metadata": {},
          "execution_count": 154
        }
      ]
    },
    {
      "cell_type": "code",
      "source": [
        "# Simpen prediksi dataset\n",
        "df.to_csv('df_predfix.csv', header=True, index=False)"
      ],
      "metadata": {
        "id": "kHhlCs3VCx5y"
      },
      "id": "kHhlCs3VCx5y",
      "execution_count": null,
      "outputs": []
    },
    {
      "cell_type": "markdown",
      "source": [
        "# Catatan Personal"
      ],
      "metadata": {
        "id": "iALdM6vV85Id"
      },
      "id": "iALdM6vV85Id"
    },
    {
      "cell_type": "markdown",
      "source": [
        "## Decision Tree"
      ],
      "metadata": {
        "id": "vq34YnULgyh9"
      },
      "id": "vq34YnULgyh9"
    },
    {
      "cell_type": "code",
      "source": [
        "model_dt = DecisionTreeClassifier(\n",
        "    criterion='gini',\n",
        "    max_depth = 50,\n",
        "    random_state = 24,\n",
        "    min_samples_leaf = 2022)\n",
        "\n",
        "model_dt.fit(X_balanced1, y_balanced1)"
      ],
      "metadata": {
        "colab": {
          "base_uri": "https://localhost:8080/"
        },
        "id": "x73bH_oViEUE",
        "outputId": "5e3f5f48-e3ca-49be-cef5-eba70becc7dd"
      },
      "id": "x73bH_oViEUE",
      "execution_count": null,
      "outputs": [
        {
          "output_type": "execute_result",
          "data": {
            "text/plain": [
              "DecisionTreeClassifier(max_depth=50, min_samples_leaf=2022, random_state=24)"
            ]
          },
          "metadata": {},
          "execution_count": 204
        }
      ]
    },
    {
      "cell_type": "code",
      "source": [
        "model_dt1 = DecisionTreeClassifier(\n",
        "    criterion='entropy',\n",
        "    max_depth = 50,\n",
        "    random_state = 24,\n",
        "    min_samples_leaf = 2022)\n",
        "\n",
        "model_dt1.fit(X_balanced1, y_balanced1)"
      ],
      "metadata": {
        "colab": {
          "base_uri": "https://localhost:8080/"
        },
        "id": "aT-GXDmJjGNM",
        "outputId": "88ac3720-9b76-4e51-cf10-34e173d00ebb"
      },
      "id": "aT-GXDmJjGNM",
      "execution_count": null,
      "outputs": [
        {
          "output_type": "execute_result",
          "data": {
            "text/plain": [
              "DecisionTreeClassifier(criterion='entropy', max_depth=50, min_samples_leaf=2022,\n",
              "                       random_state=24)"
            ]
          },
          "metadata": {},
          "execution_count": 205
        }
      ]
    },
    {
      "cell_type": "code",
      "source": [
        "print(\"------------train gini-------------------\")\n",
        "print(classification_report(y_true=y_balanced1,\n",
        "                            y_pred=model_dt.predict(X_balanced1),\n",
        "                            target_names=[\"Not Overdue\", \"Overdue\"],\n",
        "                            digits=5))\n",
        "\n",
        "print(\"------------train entropy-------------------\")\n",
        "\n",
        "print(classification_report(y_true=y_balanced1,\n",
        "                            y_pred=model_dt1.predict(X_balanced1),\n",
        "                            target_names=[\"Not Overdue\", \"Overdue\"],\n",
        "                            digits=5))"
      ],
      "metadata": {
        "colab": {
          "base_uri": "https://localhost:8080/"
        },
        "id": "SJMVLBD0jA2c",
        "outputId": "83c928c9-c837-41b8-c459-28dc8fc3c6ca"
      },
      "id": "SJMVLBD0jA2c",
      "execution_count": null,
      "outputs": [
        {
          "output_type": "stream",
          "name": "stdout",
          "text": [
            "------------train gini-------------------\n",
            "              precision    recall  f1-score   support\n",
            "\n",
            " Not Overdue    0.60446   0.70769   0.65201     14358\n",
            "     Overdue    0.64749   0.53691   0.58704     14358\n",
            "\n",
            "    accuracy                        0.62230     28716\n",
            "   macro avg    0.62598   0.62230   0.61953     28716\n",
            "weighted avg    0.62598   0.62230   0.61953     28716\n",
            "\n",
            "------------train entropy-------------------\n",
            "              precision    recall  f1-score   support\n",
            "\n",
            " Not Overdue    0.60446   0.70769   0.65201     14358\n",
            "     Overdue    0.64749   0.53691   0.58704     14358\n",
            "\n",
            "    accuracy                        0.62230     28716\n",
            "   macro avg    0.62598   0.62230   0.61953     28716\n",
            "weighted avg    0.62598   0.62230   0.61953     28716\n",
            "\n"
          ]
        }
      ]
    },
    {
      "cell_type": "code",
      "source": [
        "print(\"------------test gini---------------\")\n",
        "print(classification_report(y_true=y_test_balanced1,\n",
        "                            y_pred=model_dt.predict(X_test_balanced1),\n",
        "                            target_names=[\"Not Overdue\", \"Overdue\"],\n",
        "                            digits=5))\n",
        "\n",
        "\n",
        "print(\"------------test entropy-----------------\")\n",
        "\n",
        "print(classification_report(y_true=y_test_balanced1,\n",
        "                            y_pred=model_dt1.predict(X_test_balanced1),\n",
        "                            target_names=[\"Not Overdue\", \"Overdue\"],\n",
        "                            digits=5))"
      ],
      "metadata": {
        "colab": {
          "base_uri": "https://localhost:8080/"
        },
        "id": "0NM6ryfyjQOt",
        "outputId": "65e565f8-d684-42c8-a7fa-5e86920e106c"
      },
      "id": "0NM6ryfyjQOt",
      "execution_count": null,
      "outputs": [
        {
          "output_type": "stream",
          "name": "stdout",
          "text": [
            "------------test gini---------------\n",
            "              precision    recall  f1-score   support\n",
            "\n",
            " Not Overdue    0.62287   0.69950   0.65896      6153\n",
            "     Overdue    0.65734   0.57647   0.61425      6153\n",
            "\n",
            "    accuracy                        0.63798     12306\n",
            "   macro avg    0.64010   0.63798   0.63661     12306\n",
            "weighted avg    0.64010   0.63798   0.63661     12306\n",
            "\n",
            "------------test entropy-----------------\n",
            "              precision    recall  f1-score   support\n",
            "\n",
            " Not Overdue    0.62287   0.69950   0.65896      6153\n",
            "     Overdue    0.65734   0.57647   0.61425      6153\n",
            "\n",
            "    accuracy                        0.63798     12306\n",
            "   macro avg    0.64010   0.63798   0.63661     12306\n",
            "weighted avg    0.64010   0.63798   0.63661     12306\n",
            "\n"
          ]
        }
      ]
    },
    {
      "cell_type": "code",
      "source": [
        "pd.DataFrame({\"Method\":cl, \"Score Train\":train_scores, \"Score Test\":test_scores})"
      ],
      "metadata": {
        "colab": {
          "base_uri": "https://localhost:8080/"
        },
        "id": "OHJcYXo7vMgS",
        "outputId": "ae2c49b8-2035-41d2-e999-05aadd826591"
      },
      "id": "OHJcYXo7vMgS",
      "execution_count": null,
      "outputs": [
        {
          "output_type": "execute_result",
          "data": {
            "text/plain": [
              "          Method  Score Train  Score Test\n",
              "0  Decision Tree     0.999512    0.840322\n",
              "1        XGBoost     0.821667    0.847310"
            ],
            "text/html": [
              "\n",
              "  <div id=\"df-f3fda092-7db1-463c-a413-0a0f169b4b20\">\n",
              "    <div class=\"colab-df-container\">\n",
              "      <div>\n",
              "<style scoped>\n",
              "    .dataframe tbody tr th:only-of-type {\n",
              "        vertical-align: middle;\n",
              "    }\n",
              "\n",
              "    .dataframe tbody tr th {\n",
              "        vertical-align: top;\n",
              "    }\n",
              "\n",
              "    .dataframe thead th {\n",
              "        text-align: right;\n",
              "    }\n",
              "</style>\n",
              "<table border=\"1\" class=\"dataframe\">\n",
              "  <thead>\n",
              "    <tr style=\"text-align: right;\">\n",
              "      <th></th>\n",
              "      <th>Method</th>\n",
              "      <th>Score Train</th>\n",
              "      <th>Score Test</th>\n",
              "    </tr>\n",
              "  </thead>\n",
              "  <tbody>\n",
              "    <tr>\n",
              "      <th>0</th>\n",
              "      <td>Decision Tree</td>\n",
              "      <td>0.999512</td>\n",
              "      <td>0.840322</td>\n",
              "    </tr>\n",
              "    <tr>\n",
              "      <th>1</th>\n",
              "      <td>XGBoost</td>\n",
              "      <td>0.821667</td>\n",
              "      <td>0.847310</td>\n",
              "    </tr>\n",
              "  </tbody>\n",
              "</table>\n",
              "</div>\n",
              "      <button class=\"colab-df-convert\" onclick=\"convertToInteractive('df-f3fda092-7db1-463c-a413-0a0f169b4b20')\"\n",
              "              title=\"Convert this dataframe to an interactive table.\"\n",
              "              style=\"display:none;\">\n",
              "        \n",
              "  <svg xmlns=\"http://www.w3.org/2000/svg\" height=\"24px\"viewBox=\"0 0 24 24\"\n",
              "       width=\"24px\">\n",
              "    <path d=\"M0 0h24v24H0V0z\" fill=\"none\"/>\n",
              "    <path d=\"M18.56 5.44l.94 2.06.94-2.06 2.06-.94-2.06-.94-.94-2.06-.94 2.06-2.06.94zm-11 1L8.5 8.5l.94-2.06 2.06-.94-2.06-.94L8.5 2.5l-.94 2.06-2.06.94zm10 10l.94 2.06.94-2.06 2.06-.94-2.06-.94-.94-2.06-.94 2.06-2.06.94z\"/><path d=\"M17.41 7.96l-1.37-1.37c-.4-.4-.92-.59-1.43-.59-.52 0-1.04.2-1.43.59L10.3 9.45l-7.72 7.72c-.78.78-.78 2.05 0 2.83L4 21.41c.39.39.9.59 1.41.59.51 0 1.02-.2 1.41-.59l7.78-7.78 2.81-2.81c.8-.78.8-2.07 0-2.86zM5.41 20L4 18.59l7.72-7.72 1.47 1.35L5.41 20z\"/>\n",
              "  </svg>\n",
              "      </button>\n",
              "      \n",
              "  <style>\n",
              "    .colab-df-container {\n",
              "      display:flex;\n",
              "      flex-wrap:wrap;\n",
              "      gap: 12px;\n",
              "    }\n",
              "\n",
              "    .colab-df-convert {\n",
              "      background-color: #E8F0FE;\n",
              "      border: none;\n",
              "      border-radius: 50%;\n",
              "      cursor: pointer;\n",
              "      display: none;\n",
              "      fill: #1967D2;\n",
              "      height: 32px;\n",
              "      padding: 0 0 0 0;\n",
              "      width: 32px;\n",
              "    }\n",
              "\n",
              "    .colab-df-convert:hover {\n",
              "      background-color: #E2EBFA;\n",
              "      box-shadow: 0px 1px 2px rgba(60, 64, 67, 0.3), 0px 1px 3px 1px rgba(60, 64, 67, 0.15);\n",
              "      fill: #174EA6;\n",
              "    }\n",
              "\n",
              "    [theme=dark] .colab-df-convert {\n",
              "      background-color: #3B4455;\n",
              "      fill: #D2E3FC;\n",
              "    }\n",
              "\n",
              "    [theme=dark] .colab-df-convert:hover {\n",
              "      background-color: #434B5C;\n",
              "      box-shadow: 0px 1px 3px 1px rgba(0, 0, 0, 0.15);\n",
              "      filter: drop-shadow(0px 1px 2px rgba(0, 0, 0, 0.3));\n",
              "      fill: #FFFFFF;\n",
              "    }\n",
              "  </style>\n",
              "\n",
              "      <script>\n",
              "        const buttonEl =\n",
              "          document.querySelector('#df-f3fda092-7db1-463c-a413-0a0f169b4b20 button.colab-df-convert');\n",
              "        buttonEl.style.display =\n",
              "          google.colab.kernel.accessAllowed ? 'block' : 'none';\n",
              "\n",
              "        async function convertToInteractive(key) {\n",
              "          const element = document.querySelector('#df-f3fda092-7db1-463c-a413-0a0f169b4b20');\n",
              "          const dataTable =\n",
              "            await google.colab.kernel.invokeFunction('convertToInteractive',\n",
              "                                                     [key], {});\n",
              "          if (!dataTable) return;\n",
              "\n",
              "          const docLinkHtml = 'Like what you see? Visit the ' +\n",
              "            '<a target=\"_blank\" href=https://colab.research.google.com/notebooks/data_table.ipynb>data table notebook</a>'\n",
              "            + ' to learn more about interactive tables.';\n",
              "          element.innerHTML = '';\n",
              "          dataTable['output_type'] = 'display_data';\n",
              "          await google.colab.output.renderOutput(dataTable, element);\n",
              "          const docLink = document.createElement('div');\n",
              "          docLink.innerHTML = docLinkHtml;\n",
              "          element.appendChild(docLink);\n",
              "        }\n",
              "      </script>\n",
              "    </div>\n",
              "  </div>\n",
              "  "
            ]
          },
          "metadata": {},
          "execution_count": 189
        }
      ]
    },
    {
      "cell_type": "code",
      "source": [
        "# Pake standard scaler, xgboost (parameternya coba diubah sama sintaksnya)"
      ],
      "metadata": {
        "id": "oCDSsYXEl_56"
      },
      "id": "oCDSsYXEl_56",
      "execution_count": null,
      "outputs": []
    },
    {
      "cell_type": "markdown",
      "source": [
        "https://www.analyticsvidhya.com/blog/2020/07/10-techniques-to-deal-with-class-imbalance-in-machine-learning/"
      ],
      "metadata": {
        "id": "29aEoyYM88g7"
      },
      "id": "29aEoyYM88g7"
    },
    {
      "cell_type": "code",
      "source": [
        "# Coba overdue datanya dibalance\n",
        "# ml SVM dicoba\n",
        "# codingan one hot encoding dicari ulang biar ngga plek ketiplek sama punya kak Cyn"
      ],
      "metadata": {
        "id": "zdQgeczVzcAo"
      },
      "id": "zdQgeczVzcAo",
      "execution_count": null,
      "outputs": []
    },
    {
      "cell_type": "code",
      "execution_count": null,
      "id": "95b272e7",
      "metadata": {
        "id": "95b272e7"
      },
      "outputs": [],
      "source": [
        "# Coba-coba kodingan baru\n",
        "\n",
        "# df_trial = df.drop_duplicates()\n",
        "# df_trial.shape\n",
        "\n",
        "\n",
        "# ----------------------------------\n",
        "\n",
        "# # Nasabah yang digunakan untuk membuat model hanya yang memiliki history pinjaman(overdue) ---tidak memiliki pinjaman---\n",
        "# indexAge = df[(df['Overdue'] == 'Tidak memiliki pinjaman')].index\n",
        "# df.drop(indexAge , inplace=True)\n",
        "# df.head()\n",
        "\n",
        "# -----------------------------------\n",
        "\n",
        "# # Pekerjaan yang NaN diubah ke Laborers (karena yang paling sering muncul)\n",
        "# male['Pekerjaan'] = male['Pekerjaan'].fillna(\"Laborers\")\n",
        "\n",
        "\n",
        "# # Pekerjaan yang NaN diubah ke Sales staff (karena yang paling sering muncul)\n",
        "# female['Pekerjaan'] = female['Pekerjaan'].fillna(\"Sales staff\")"
      ]
    },
    {
      "cell_type": "code",
      "source": [
        "# Normalize data using minmax scaler\n",
        "\n",
        "# mms = MinMaxScaler()\n",
        "# X_scaled = pd.DataFrame(mms.fit_transform(X_train_dummy), columns=X_train_dummy.columns).set_index(X_train_dummy.index)\n",
        "# X_test_scaled = pd.DataFrame(mms.transform(X_test_dummy), columns=X_test_dummy.columns).set_index(X_test_dummy.index)\n",
        "\n",
        "# SMOTE minmax\n",
        "\n",
        "# oversample = SMOTE()\n",
        "# X_balanced, y_balanced = oversample.fit_resample(X_scaled, y_train)\n",
        "# X_test_balanced, y_test_balanced = oversample.fit_resample(X_test_scaled, y_test)"
      ],
      "metadata": {
        "id": "PKNKxuBwIfb4"
      },
      "id": "PKNKxuBwIfb4",
      "execution_count": null,
      "outputs": []
    }
  ],
  "metadata": {
    "kernelspec": {
      "display_name": "Python 3",
      "language": "python",
      "name": "python3"
    },
    "language_info": {
      "codemirror_mode": {
        "name": "ipython",
        "version": 3
      },
      "file_extension": ".py",
      "mimetype": "text/x-python",
      "name": "python",
      "nbconvert_exporter": "python",
      "pygments_lexer": "ipython3",
      "version": "3.8.8"
    },
    "colab": {
      "provenance": [],
      "collapsed_sections": [
        "557accd2",
        "ZWOtB7Id7weu",
        "iALdM6vV85Id"
      ]
    }
  },
  "nbformat": 4,
  "nbformat_minor": 5
}